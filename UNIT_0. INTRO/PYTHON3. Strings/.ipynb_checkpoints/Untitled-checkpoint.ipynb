{
 "cells": [
  {
   "cell_type": "code",
   "execution_count": 2,
   "metadata": {},
   "outputs": [
    {
     "name": "stdout",
     "output_type": "stream",
     "text": [
      "Вы - самый крутой студент в SkillFactory"
     ]
    }
   ],
   "source": [
    "string = 'Вы - самый крутой студент в SkillFactory'\n",
    "for letter in string:\n",
    "    print(letter, end = '')"
   ]
  },
  {
   "cell_type": "code",
   "execution_count": 3,
   "metadata": {},
   "outputs": [],
   "source": [
    "proverb = 'Программисты - это устройства, преобразующие кофеин в код.'"
   ]
  },
  {
   "cell_type": "code",
   "execution_count": 5,
   "metadata": {},
   "outputs": [
    {
     "data": {
      "text/plain": [
       "'Программист'"
      ]
     },
     "execution_count": 5,
     "metadata": {},
     "output_type": "execute_result"
    }
   ],
   "source": [
    "proverb[0:11]"
   ]
  },
  {
   "cell_type": "code",
   "execution_count": 8,
   "metadata": {},
   "outputs": [
    {
     "data": {
      "text/plain": [
       "'кофе'"
      ]
     },
     "execution_count": 8,
     "metadata": {},
     "output_type": "execute_result"
    }
   ],
   "source": [
    "proverb[-13:-9]"
   ]
  },
  {
   "cell_type": "code",
   "execution_count": 9,
   "metadata": {},
   "outputs": [
    {
     "data": {
      "text/plain": [
       "'устройство'"
      ]
     },
     "execution_count": 9,
     "metadata": {},
     "output_type": "execute_result"
    }
   ],
   "source": [
    "proverb[19:28]+'о'"
   ]
  },
  {
   "cell_type": "code",
   "execution_count": 12,
   "metadata": {},
   "outputs": [
    {
     "data": {
      "text/plain": [
       "['Программисты',\n",
       " '-',\n",
       " 'это',\n",
       " 'устройства,',\n",
       " 'преобразующие',\n",
       " 'кофеин',\n",
       " 'в',\n",
       " 'код.']"
      ]
     },
     "execution_count": 12,
     "metadata": {},
     "output_type": "execute_result"
    }
   ],
   "source": [
    "proverb.split()[3][:-2]+'о'"
   ]
  },
  {
   "cell_type": "code",
   "execution_count": 30,
   "metadata": {},
   "outputs": [
    {
     "name": "stdout",
     "output_type": "stream",
     "text": [
      "рПгоарммсиыт- э оту тсорсйвт,ап ербоарузщюеик фоие н вок.д\n"
     ]
    }
   ],
   "source": [
    "proverb = 'Программисты - это устройства, преобразующие кофеин в код.'\n",
    "\n",
    "my_list = []\n",
    "for letter in proverb:\n",
    "    my_list.append(letter)\n",
    "\n",
    "new_proverb = ''\n",
    "for i in range(0, len(my_list), 2):\n",
    "    x = my_list[i]\n",
    "    y = my_list[i+1]\n",
    "    \n",
    "    new_proverb = new_proverb + y + x\n",
    "print(new_proverb)\n",
    "    \n",
    "        "
   ]
  },
  {
   "cell_type": "code",
   "execution_count": 31,
   "metadata": {},
   "outputs": [
    {
     "name": "stdout",
     "output_type": "stream",
     "text": [
      "рПгоарммсиыт- э оту тсорсйвт,ап ербоарузщюеик фоие н вок.д\n"
     ]
    }
   ],
   "source": [
    "proverb = 'Программисты - это устройства, преобразующие кофеин в код.'\n",
    "\n",
    "new_proverb = ''\n",
    "for i in range(0, len(proverb), 2):\n",
    "    x = proverb[i]\n",
    "    y = proverb[i+1]\n",
    "    \n",
    "    new_proverb = new_proverb + y + x\n",
    "print(new_proverb)"
   ]
  },
  {
   "cell_type": "code",
   "execution_count": 41,
   "metadata": {},
   "outputs": [
    {
     "name": "stdout",
     "output_type": "stream",
     "text": [
      "Слово \"программирование\" - это не палиндром\n"
     ]
    }
   ],
   "source": [
    "basic_word = 'программирование'\n",
    "\n",
    "inverted_word = basic_word[::-1]\n",
    "\n",
    "if basic_word == inverted_word:\n",
    "    print('Слово \"' + basic_word + '\" является палиндромом')\n",
    "else:\n",
    "    print('Слово \"' + basic_word + '\" - это не палиндром')\n"
   ]
  },
  {
   "cell_type": "code",
   "execution_count": null,
   "metadata": {},
   "outputs": [],
   "source": []
  }
 ],
 "metadata": {
  "kernelspec": {
   "display_name": "Python 3",
   "language": "python",
   "name": "python3"
  },
  "language_info": {
   "codemirror_mode": {
    "name": "ipython",
    "version": 3
   },
   "file_extension": ".py",
   "mimetype": "text/x-python",
   "name": "python",
   "nbconvert_exporter": "python",
   "pygments_lexer": "ipython3",
   "version": "3.7.6"
  }
 },
 "nbformat": 4,
 "nbformat_minor": 4
}
