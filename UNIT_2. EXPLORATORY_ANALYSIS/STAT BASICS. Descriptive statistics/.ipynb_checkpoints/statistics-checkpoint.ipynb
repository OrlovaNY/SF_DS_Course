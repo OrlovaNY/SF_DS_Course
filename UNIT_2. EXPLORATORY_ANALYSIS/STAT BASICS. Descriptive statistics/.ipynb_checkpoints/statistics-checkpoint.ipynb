{
 "cells": [
  {
   "cell_type": "code",
   "execution_count": 1,
   "metadata": {},
   "outputs": [],
   "source": [
    "import pandas as pd\n",
    "\n",
    "df = pd.DataFrame({\n",
    "    'men': [80.2, 80.8, 57.5, 98, 50.5, 73.8, 77.4, 59.7, 77.9, 52.6],\n",
    "    'women': [57.9, 57.3, 72.8, 48.2, 59.5, 48.3, 61.2, 53.9, 53.9, 70.7]\n",
    "})"
   ]
  },
  {
   "cell_type": "code",
   "execution_count": 5,
   "metadata": {},
   "outputs": [
    {
     "data": {
      "text/plain": [
       "12.469999999999999"
      ]
     },
     "execution_count": 5,
     "metadata": {},
     "output_type": "execute_result"
    }
   ],
   "source": [
    "df['men'].mean() - df['women'].mean()"
   ]
  },
  {
   "cell_type": "code",
   "execution_count": 11,
   "metadata": {},
   "outputs": [],
   "source": [
    "l1 = pd.Series([2,7,4,3,6,4,1,2])\n",
    "l2 = pd.Series([5,2,4,8,1,6,7])"
   ]
  },
  {
   "cell_type": "code",
   "execution_count": 12,
   "metadata": {},
   "outputs": [
    {
     "data": {
      "text/plain": [
       "-1.5"
      ]
     },
     "execution_count": 12,
     "metadata": {},
     "output_type": "execute_result"
    }
   ],
   "source": [
    "l1.median() - l2.median()"
   ]
  },
  {
   "cell_type": "code",
   "execution_count": 13,
   "metadata": {},
   "outputs": [
    {
     "data": {
      "text/plain": [
       "75.6"
      ]
     },
     "execution_count": 13,
     "metadata": {},
     "output_type": "execute_result"
    }
   ],
   "source": [
    "df['men'].median()"
   ]
  },
  {
   "cell_type": "code",
   "execution_count": 14,
   "metadata": {},
   "outputs": [
    {
     "data": {
      "text/plain": [
       "57.599999999999994"
      ]
     },
     "execution_count": 14,
     "metadata": {},
     "output_type": "execute_result"
    }
   ],
   "source": [
    "df['women'].median()"
   ]
  },
  {
   "cell_type": "code",
   "execution_count": 15,
   "metadata": {},
   "outputs": [],
   "source": [
    "patients = pd.concat([df['men'], df['women']])"
   ]
  },
  {
   "cell_type": "code",
   "execution_count": 17,
   "metadata": {},
   "outputs": [
    {
     "data": {
      "text/plain": [
       "59.6"
      ]
     },
     "execution_count": 17,
     "metadata": {},
     "output_type": "execute_result"
    }
   ],
   "source": [
    "patients.median()"
   ]
  },
  {
   "cell_type": "code",
   "execution_count": 24,
   "metadata": {},
   "outputs": [
    {
     "name": "stdout",
     "output_type": "stream",
     "text": [
      "2.0\n",
      "3.5\n",
      "5.0\n"
     ]
    }
   ],
   "source": [
    "l1 = pd.Series([2,7,4,3,6,4,1,2])\n",
    "\n",
    "print(l1.quantile(0.25, interpolation = 'midpoint'))\n",
    "print(l1.quantile(0.5, interpolation = 'midpoint'))\n",
    "print(l1.quantile(0.75, interpolation = 'midpoint'))"
   ]
  },
  {
   "cell_type": "code",
   "execution_count": 25,
   "metadata": {},
   "outputs": [
    {
     "name": "stdout",
     "output_type": "stream",
     "text": [
      "3.0\n",
      "5.0\n",
      "6.5\n"
     ]
    }
   ],
   "source": [
    "l2 = pd.Series([5,2,4,8,1,6,7])\n",
    "\n",
    "print(l2.quantile(0.25, interpolation = 'midpoint'))\n",
    "print(l2.quantile(0.5, interpolation = 'midpoint'))\n",
    "print(l2.quantile(0.75, interpolation = 'midpoint'))"
   ]
  },
  {
   "cell_type": "code",
   "execution_count": 26,
   "metadata": {},
   "outputs": [
    {
     "data": {
      "text/plain": [
       "6    1\n",
       "0    2\n",
       "7    2\n",
       "3    3\n",
       "2    4\n",
       "5    4\n",
       "4    6\n",
       "1    7\n",
       "dtype: int64"
      ]
     },
     "execution_count": 26,
     "metadata": {},
     "output_type": "execute_result"
    }
   ],
   "source": [
    "l1.sort_values(ascending = True)\n",
    "\n",
    "25% = 2\n",
    "50% = 3.5\n",
    "75% = 5"
   ]
  },
  {
   "cell_type": "code",
   "execution_count": 27,
   "metadata": {},
   "outputs": [
    {
     "data": {
      "text/plain": [
       "4    1\n",
       "1    2\n",
       "2    4\n",
       "0    5\n",
       "5    6\n",
       "6    7\n",
       "3    8\n",
       "dtype: int64"
      ]
     },
     "execution_count": 27,
     "metadata": {},
     "output_type": "execute_result"
    }
   ],
   "source": [
    "l2.sort_values(ascending = True)\n",
    "\n",
    "25% = 2\n",
    "50% = 5\n",
    "75% = 7"
   ]
  },
  {
   "cell_type": "code",
   "execution_count": 28,
   "metadata": {},
   "outputs": [
    {
     "name": "stdout",
     "output_type": "stream",
     "text": [
      "58.6\n",
      "78.95\n",
      "53.9\n",
      "60.35\n"
     ]
    }
   ],
   "source": [
    "df = pd.DataFrame({\n",
    "    'men': [80, 80.8, 57.5, 98, 50.5, 73.8, 77.4, 59.7, 77.9, 52.6],\n",
    "    'women': [57.9, 57.3, 72.8, 48.2, 59.5, 48.3, 61.2, 53.9, 53.9, 70.7]\n",
    "})\n",
    "\n",
    "print(df['men'].quantile(0.25, interpolation = 'midpoint'))\n",
    "print(df['men'].quantile(0.75, interpolation = 'midpoint'))\n",
    "print(df['women'].quantile(0.25, interpolation = 'midpoint'))\n",
    "print(df['women'].quantile(0.75, interpolation = 'midpoint'))"
   ]
  },
  {
   "cell_type": "code",
   "execution_count": 46,
   "metadata": {},
   "outputs": [],
   "source": [
    "import pandas as pd\n",
    "df = pd.DataFrame({\n",
    "    'men': [80.2, 80.8, 57.5, 98, 50.5, 73.8, 77.4, 59.7, 77.9, 52.6],\n",
    "    'women': [57.9, 57.3, 72.8, 48.2, 59.5, 48.3, 61.2, 53.9, 53.9, 70.7]\n",
    "})"
   ]
  },
  {
   "cell_type": "code",
   "execution_count": 30,
   "metadata": {},
   "outputs": [
    {
     "name": "stdout",
     "output_type": "stream",
     "text": [
      "47.5\n",
      "20.45000000000001\n"
     ]
    }
   ],
   "source": [
    "print(df['men'].max() - df['men'].min())\n",
    "print(df['men'].quantile(0.75, interpolation = 'midpoint') - df['men'].quantile(0.25, interpolation = 'midpoint'))"
   ]
  },
  {
   "cell_type": "code",
   "execution_count": 31,
   "metadata": {},
   "outputs": [
    {
     "name": "stdout",
     "output_type": "stream",
     "text": [
      "24.599999999999994\n",
      "6.450000000000003\n"
     ]
    }
   ],
   "source": [
    "print(df['women'].max() - df['women'].min())\n",
    "print(df['women'].quantile(0.75, interpolation = 'midpoint') - df['women'].quantile(0.25, interpolation = 'midpoint'))"
   ]
  },
  {
   "cell_type": "code",
   "execution_count": 32,
   "metadata": {},
   "outputs": [
    {
     "name": "stdout",
     "output_type": "stream",
     "text": [
      "15.182533824541057\n",
      "230.5093333333333\n"
     ]
    }
   ],
   "source": [
    "print(df['men'].std())\n",
    "print(df['men'].var())"
   ]
  },
  {
   "cell_type": "code",
   "execution_count": 33,
   "metadata": {},
   "outputs": [
    {
     "name": "stdout",
     "output_type": "stream",
     "text": [
      "8.27110767806962\n",
      "68.41122222222224\n"
     ]
    }
   ],
   "source": [
    "print(df['women'].std())\n",
    "print(df['women'].var())"
   ]
  },
  {
   "cell_type": "code",
   "execution_count": 47,
   "metadata": {},
   "outputs": [
    {
     "name": "stdout",
     "output_type": "stream",
     "text": [
      "(0, 2)\n",
      "(0, 2)\n",
      "(0, 2)\n",
      "(2, 2)\n"
     ]
    }
   ],
   "source": [
    "# выбросы\n",
    "men_q1 = df['men'].quantile(0.25, interpolation = 'midpoint')\n",
    "men_q3 = df['men'].quantile(0.75, interpolation = 'midpoint')\n",
    "men_qrange = men_q3-men_q1\n",
    "\n",
    "men_expl_down = df[df['men'] < men_q1-1.5*men_qrange]\n",
    "men_expl_up = df[df['men'] > men_q3+1.5*men_qrange]\n",
    "print(men_expl_down.shape)\n",
    "print(men_expl_up.shape)\n",
    "\n",
    "women_q1 = df['women'].quantile(0.25, interpolation = 'midpoint')\n",
    "women_q3 = df['women'].quantile(0.75, interpolation = 'midpoint')\n",
    "women_qrange = women_q3-women_q1\n",
    "\n",
    "women_expl_down = df[df['women'] < women_q1-1.5*women_qrange]\n",
    "women_expl_up = df[df['women'] > women_q3+1.5*women_qrange]\n",
    "print(women_expl_down.shape)\n",
    "print(women_expl_up.shape)"
   ]
  },
  {
   "cell_type": "code",
   "execution_count": 48,
   "metadata": {},
   "outputs": [],
   "source": [
    "df = pd.DataFrame({\n",
    "    'year': [2007, 2008, 2009, 2010, 2011, 2012, 2013, 2014, 2015, 2016, 2017, 2018],\n",
    "    'temp': [-4.7, -6.1, -5.5, -3.3, -7.1, -3.1, -5.2, -7.3, -12.1, -6.6, -5.9, -6.3]\n",
    "})"
   ]
  },
  {
   "cell_type": "code",
   "execution_count": 44,
   "metadata": {},
   "outputs": [
    {
     "name": "stdout",
     "output_type": "stream",
     "text": [
      "-6.1\n",
      "-6.0\n",
      "2.3\n",
      "9.0\n",
      "1.6\n"
     ]
    }
   ],
   "source": [
    "print(round(df['temp'].mean(),1))\n",
    "print(round(df['temp'].median(),1))\n",
    "print(round(df['temp'].std(),1))\n",
    "print(round(df['temp'].max() - df['temp'].min(),1))\n",
    "print(round(df['temp'].quantile(0.75) - df['temp'].quantile(0.25),1))"
   ]
  },
  {
   "cell_type": "code",
   "execution_count": 52,
   "metadata": {},
   "outputs": [
    {
     "name": "stdout",
     "output_type": "stream",
     "text": [
      "   year  temp\n",
      "8  2015 -12.1\n",
      "(0, 2)\n"
     ]
    }
   ],
   "source": [
    "temp_q1 = df['temp'].quantile(0.25, interpolation = 'midpoint')\n",
    "temp_q3 = df['temp'].quantile(0.75, interpolation = 'midpoint')\n",
    "temp_qrange = temp_q3-temp_q1\n",
    "\n",
    "temp_expl_down = df[df['temp'] < temp_q1-1.5*temp_qrange]\n",
    "temp_expl_up = df[df['temp'] > temp_q3+1.5*temp_qrange]\n",
    "print(temp_expl_down)\n",
    "print(temp_expl_up.shape)"
   ]
  },
  {
   "cell_type": "code",
   "execution_count": null,
   "metadata": {},
   "outputs": [],
   "source": []
  }
 ],
 "metadata": {
  "kernelspec": {
   "display_name": "Python 3",
   "language": "python",
   "name": "python3"
  },
  "language_info": {
   "codemirror_mode": {
    "name": "ipython",
    "version": 3
   },
   "file_extension": ".py",
   "mimetype": "text/x-python",
   "name": "python",
   "nbconvert_exporter": "python",
   "pygments_lexer": "ipython3",
   "version": "3.7.6"
  }
 },
 "nbformat": 4,
 "nbformat_minor": 4
}
