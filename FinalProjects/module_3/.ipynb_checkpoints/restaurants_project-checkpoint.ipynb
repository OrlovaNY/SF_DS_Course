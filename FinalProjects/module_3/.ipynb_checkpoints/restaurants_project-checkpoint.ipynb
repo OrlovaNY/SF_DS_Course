{
 "cells": [
  {
   "cell_type": "code",
   "execution_count": 1,
   "metadata": {},
   "outputs": [],
   "source": [
    "import pandas as pd\n",
    "import numpy as np\n",
    "import re\n",
    "from datetime import datetime, timedelta\n",
    "import ast\n",
    "\n",
    "# Импортируем инструмент для разбивки выборки\n",
    "from sklearn.model_selection import train_test_split\n",
    "\n",
    "# Импортируем необходимые библиотеки:\n",
    "from sklearn.ensemble import RandomForestRegressor # инструмент для создания и обучения модели\n",
    "from sklearn import metrics # инструменты для оценки точности модели"
   ]
  },
  {
   "cell_type": "code",
   "execution_count": 2,
   "metadata": {},
   "outputs": [],
   "source": [
    "def restaurants_cuisines(df):\n",
    "    \"\"\" Функция, которая считает в сколькких ресторанах предлагается каждая кухня\"\"\"\n",
    "    \n",
    "    all_cuisines = set()  # создаём пустое множество для хранения уникальных значений кухонь\n",
    "    x = 0 # один ресторан\n",
    "    y = 0\n",
    "    df_len = df.shape[0]\n",
    "    rest_cuis = {} \n",
    "\n",
    "    for x in range(0, df_len): # начинаем перебор всех ресторанов\n",
    "        if df.iloc[x]['Cuisine_Style'] == df.iloc[x]['Cuisine_Style']:\n",
    "            cuis_lst = ast.literal_eval(df.iloc[x]['Cuisine_Style'])\n",
    "            for cuisine in cuis_lst:  # начинаем перебор всех кухонь в ресторане\n",
    "                all_cuisines.add(cuisine)\n",
    "        else:\n",
    "            pass\n",
    "        \n",
    "    for item in all_cuisines:  # перебираем список кухонь\n",
    "        rest_cuis[item] = 0 # добавляем в словарь ключ, соответствующий очередной кухне\n",
    "    \n",
    "    for y in range(0, df_len): # начинаем перебор всех ресторанов\n",
    "        if df.iloc[y]['Cuisine_Style'] == df.iloc[y]['Cuisine_Style']:\n",
    "            for item in ast.literal_eval(df.iloc[y]['Cuisine_Style']):   # и список кухонь в каждом ресторане\n",
    "                rest_cuis[item] += 1   # увеличиваем значение нужного ключа в словаре на 1\n",
    "    \n",
    "    return rest_cuis"
   ]
  },
  {
   "cell_type": "markdown",
   "metadata": {},
   "source": [
    "## Загрузка и осмотр данных"
   ]
  },
  {
   "cell_type": "markdown",
   "metadata": {},
   "source": [
    "1. Restaurant_id — идентификационный номер ресторана / сети ресторанов;\n",
    "2. City — город, в котором находится ресторан;\n",
    "3. Cuisine Style — кухня или кухни, к которым можно отнести блюда, предлагаемые в ресторане;\n",
    "4. Ranking — место, которое занимает данный ресторан среди всех ресторанов своего города;\n",
    "5. Rating — рейтинг ресторана по данным TripAdvisor (именно это значение должна будет предсказывать модель);\n",
    "6. Price Range — диапазон цен в ресторане;\n",
    "7. Number of Reviews — количество отзывов о ресторане;\n",
    "8. Reviews — данные о двух отзывах, которые отображаются на сайте ресторана;\n",
    "9. URL_TA — URL страницы ресторана на TripAdvosor;\n",
    "10. ID_TA — идентификатор ресторана в базе данных TripAdvisor."
   ]
  },
  {
   "cell_type": "code",
   "execution_count": 3,
   "metadata": {},
   "outputs": [
    {
     "name": "stdout",
     "output_type": "stream",
     "text": [
      "<class 'pandas.core.frame.DataFrame'>\n",
      "RangeIndex: 40000 entries, 0 to 39999\n",
      "Data columns (total 10 columns):\n",
      " #   Column             Non-Null Count  Dtype  \n",
      "---  ------             --------------  -----  \n",
      " 0   Restaurant_id      40000 non-null  object \n",
      " 1   City               40000 non-null  object \n",
      " 2   Cuisine_Style      30717 non-null  object \n",
      " 3   Ranking            40000 non-null  float64\n",
      " 4   Rating             40000 non-null  float64\n",
      " 5   Price_Range        26114 non-null  object \n",
      " 6   Number_of_Reviews  37457 non-null  float64\n",
      " 7   Reviews            40000 non-null  object \n",
      " 8   URL_TA             40000 non-null  object \n",
      " 9   ID_TA              40000 non-null  object \n",
      "dtypes: float64(3), object(7)\n",
      "memory usage: 3.1+ MB\n"
     ]
    }
   ],
   "source": [
    "restaurants = pd.read_csv(\"main_task.csv\")\n",
    "# Сразу переименую столбцы с пробелами, чтобы было удобнее, убрав пробелы\n",
    "restaurants = restaurants.rename(columns = {'Cuisine Style': 'Cuisine_Style',\n",
    "                                            'Price Range':'Price_Range',\n",
    "                                            'Number of Reviews':'Number_of_Reviews'\n",
    "                                           })\n",
    "restaurants.info()"
   ]
  },
  {
   "cell_type": "code",
   "execution_count": 4,
   "metadata": {},
   "outputs": [
    {
     "data": {
      "text/html": [
       "<div>\n",
       "<style scoped>\n",
       "    .dataframe tbody tr th:only-of-type {\n",
       "        vertical-align: middle;\n",
       "    }\n",
       "\n",
       "    .dataframe tbody tr th {\n",
       "        vertical-align: top;\n",
       "    }\n",
       "\n",
       "    .dataframe thead th {\n",
       "        text-align: right;\n",
       "    }\n",
       "</style>\n",
       "<table border=\"1\" class=\"dataframe\">\n",
       "  <thead>\n",
       "    <tr style=\"text-align: right;\">\n",
       "      <th></th>\n",
       "      <th>Restaurant_id</th>\n",
       "      <th>City</th>\n",
       "      <th>Cuisine_Style</th>\n",
       "      <th>Ranking</th>\n",
       "      <th>Rating</th>\n",
       "      <th>Price_Range</th>\n",
       "      <th>Number_of_Reviews</th>\n",
       "      <th>Reviews</th>\n",
       "      <th>URL_TA</th>\n",
       "      <th>ID_TA</th>\n",
       "    </tr>\n",
       "  </thead>\n",
       "  <tbody>\n",
       "    <tr>\n",
       "      <th>0</th>\n",
       "      <td>id_5569</td>\n",
       "      <td>Paris</td>\n",
       "      <td>['European', 'French', 'International']</td>\n",
       "      <td>5570.0</td>\n",
       "      <td>3.5</td>\n",
       "      <td>$$ - $$$</td>\n",
       "      <td>194.0</td>\n",
       "      <td>[['Good food at your doorstep', 'A good hotel ...</td>\n",
       "      <td>/Restaurant_Review-g187147-d1912643-Reviews-R_...</td>\n",
       "      <td>d1912643</td>\n",
       "    </tr>\n",
       "    <tr>\n",
       "      <th>1</th>\n",
       "      <td>id_1535</td>\n",
       "      <td>Stockholm</td>\n",
       "      <td>NaN</td>\n",
       "      <td>1537.0</td>\n",
       "      <td>4.0</td>\n",
       "      <td>NaN</td>\n",
       "      <td>10.0</td>\n",
       "      <td>[['Unique cuisine', 'Delicious Nepalese food']...</td>\n",
       "      <td>/Restaurant_Review-g189852-d7992032-Reviews-Bu...</td>\n",
       "      <td>d7992032</td>\n",
       "    </tr>\n",
       "  </tbody>\n",
       "</table>\n",
       "</div>"
      ],
      "text/plain": [
       "  Restaurant_id       City                            Cuisine_Style  Ranking  \\\n",
       "0       id_5569      Paris  ['European', 'French', 'International']   5570.0   \n",
       "1       id_1535  Stockholm                                      NaN   1537.0   \n",
       "\n",
       "   Rating Price_Range  Number_of_Reviews  \\\n",
       "0     3.5    $$ - $$$              194.0   \n",
       "1     4.0         NaN               10.0   \n",
       "\n",
       "                                             Reviews  \\\n",
       "0  [['Good food at your doorstep', 'A good hotel ...   \n",
       "1  [['Unique cuisine', 'Delicious Nepalese food']...   \n",
       "\n",
       "                                              URL_TA     ID_TA  \n",
       "0  /Restaurant_Review-g187147-d1912643-Reviews-R_...  d1912643  \n",
       "1  /Restaurant_Review-g189852-d7992032-Reviews-Bu...  d7992032  "
      ]
     },
     "execution_count": 4,
     "metadata": {},
     "output_type": "execute_result"
    }
   ],
   "source": [
    "restaurants.head(2)"
   ]
  },
  {
   "cell_type": "code",
   "execution_count": 5,
   "metadata": {},
   "outputs": [
    {
     "data": {
      "text/plain": [
       "pandas.core.series.Series"
      ]
     },
     "execution_count": 5,
     "metadata": {},
     "output_type": "execute_result"
    }
   ],
   "source": [
    "type(restaurants.Cuisine_Style)"
   ]
  },
  {
   "cell_type": "code",
   "execution_count": 6,
   "metadata": {},
   "outputs": [
    {
     "data": {
      "text/plain": [
       "pandas.core.series.Series"
      ]
     },
     "execution_count": 6,
     "metadata": {},
     "output_type": "execute_result"
    }
   ],
   "source": [
    "type(restaurants.Reviews)"
   ]
  },
  {
   "cell_type": "markdown",
   "metadata": {},
   "source": [
    "## Первая итерация"
   ]
  },
  {
   "cell_type": "markdown",
   "metadata": {},
   "source": [
    "### Очистка данных"
   ]
  },
  {
   "cell_type": "code",
   "execution_count": 7,
   "metadata": {},
   "outputs": [],
   "source": [
    "# Удалим столбцы со строковыми значениями\n",
    "restaurants_iter1 = restaurants.drop(['City', 'Cuisine_Style', 'Price_Range', \n",
    "                                      'Reviews', 'URL_TA', 'ID_TA'], axis = 1) # id ресторана удаляем дальше"
   ]
  },
  {
   "cell_type": "code",
   "execution_count": 8,
   "metadata": {},
   "outputs": [
    {
     "name": "stdout",
     "output_type": "stream",
     "text": [
      "<class 'pandas.core.frame.DataFrame'>\n",
      "RangeIndex: 40000 entries, 0 to 39999\n",
      "Data columns (total 4 columns):\n",
      " #   Column             Non-Null Count  Dtype  \n",
      "---  ------             --------------  -----  \n",
      " 0   Restaurant_id      40000 non-null  object \n",
      " 1   Ranking            40000 non-null  float64\n",
      " 2   Rating             40000 non-null  float64\n",
      " 3   Number_of_Reviews  37457 non-null  float64\n",
      "dtypes: float64(3), object(1)\n",
      "memory usage: 1.2+ MB\n"
     ]
    }
   ],
   "source": [
    "restaurants_iter1.info()"
   ]
  },
  {
   "cell_type": "code",
   "execution_count": 11,
   "metadata": {},
   "outputs": [],
   "source": [
    "# Заполним пропуски в поле Number_of_Reviews значением 0 (нет информации значит не было отзывов)\n",
    "restaurants_iter1.Number_of_Reviews = restaurants_iter1.Number_of_Reviews.fillna(0)"
   ]
  },
  {
   "cell_type": "markdown",
   "metadata": {},
   "source": [
    "### Подготовка к моделированию"
   ]
  },
  {
   "cell_type": "code",
   "execution_count": 12,
   "metadata": {},
   "outputs": [],
   "source": [
    "# Разбиваем датафрейм на части, необходимые для обучения и тестирования модели \n",
    "\n",
    "X = restaurants_iter1.drop(['Restaurant_id', 'Rating'], axis = 1) # данные с информацией о ресторанах\n",
    "y = restaurants_iter1.Rating # целевая переменная (рейтинги ресторанов)"
   ]
  },
  {
   "cell_type": "code",
   "execution_count": 13,
   "metadata": {},
   "outputs": [],
   "source": [
    "# Наборы данных с меткой \"train\" будут использоваться для обучения модели, \"test\" - для тестирования \n",
    "# Для тестирования мы будем использовать 25% от исходного датасета. \n",
    "\n",
    "X_train, X_test, y_train, y_test = train_test_split(X, y, test_size=0.25)  "
   ]
  },
  {
   "cell_type": "markdown",
   "metadata": {},
   "source": [
    "### Создание, обучение и тестирование модели"
   ]
  },
  {
   "cell_type": "code",
   "execution_count": 14,
   "metadata": {
    "scrolled": true
   },
   "outputs": [],
   "source": [
    "# Создаём модель\n",
    "regr = RandomForestRegressor(n_estimators=100)\n",
    "\n",
    "# Обучаем модель на тестовом наборе данных\n",
    "regr.fit(X_train, y_train)\n",
    "\n",
    "# Используем обученную модель для предсказания рейтинга ресторанов в тестовой выборке.\n",
    "# Предсказанные значения записываем в переменную y_pred\n",
    "y_pred = regr.predict(X_test)"
   ]
  },
  {
   "cell_type": "code",
   "execution_count": 15,
   "metadata": {},
   "outputs": [
    {
     "name": "stdout",
     "output_type": "stream",
     "text": [
      "MAE: 0.4330090093614719\n"
     ]
    }
   ],
   "source": [
    "# Сравниваем предсказанные значения (y_pred) с реальными (y_test), и смотрим насколько они в среднем отличаются\n",
    "# Метрика называется Mean Absolute Error (MAE) и показывает среднее отклонение предсказанных значений от фактических.\n",
    "\n",
    "print('MAE:', metrics.mean_absolute_error(y_test, y_pred))"
   ]
  },
  {
   "cell_type": "markdown",
   "metadata": {},
   "source": [
    "## Вторая итерация"
   ]
  },
  {
   "cell_type": "markdown",
   "metadata": {},
   "source": [
    "### Очистка данных"
   ]
  },
  {
   "cell_type": "code",
   "execution_count": 164,
   "metadata": {},
   "outputs": [],
   "source": [
    "restaurants_iter2 = restaurants.copy(deep = True)"
   ]
  },
  {
   "cell_type": "code",
   "execution_count": 165,
   "metadata": {
    "scrolled": true
   },
   "outputs": [
    {
     "name": "stdout",
     "output_type": "stream",
     "text": [
      "<class 'pandas.core.frame.DataFrame'>\n",
      "RangeIndex: 40000 entries, 0 to 39999\n",
      "Data columns (total 10 columns):\n",
      " #   Column             Non-Null Count  Dtype  \n",
      "---  ------             --------------  -----  \n",
      " 0   Restaurant_id      40000 non-null  object \n",
      " 1   City               40000 non-null  object \n",
      " 2   Cuisine_Style      30717 non-null  object \n",
      " 3   Ranking            40000 non-null  float64\n",
      " 4   Rating             40000 non-null  float64\n",
      " 5   Price_Range        26114 non-null  object \n",
      " 6   Number_of_Reviews  37457 non-null  float64\n",
      " 7   Reviews            40000 non-null  object \n",
      " 8   URL_TA             40000 non-null  object \n",
      " 9   ID_TA              40000 non-null  object \n",
      "dtypes: float64(3), object(7)\n",
      "memory usage: 3.1+ MB\n"
     ]
    }
   ],
   "source": [
    "restaurants_iter2.info()"
   ]
  },
  {
   "cell_type": "code",
   "execution_count": 166,
   "metadata": {},
   "outputs": [],
   "source": [
    "# Заполним пропуски в поле Number_of_Reviews значением 0 (нет информации значит не было отзывов)\n",
    "restaurants_iter2.Number_of_Reviews = restaurants_iter2.Number_of_Reviews.fillna(0)"
   ]
  },
  {
   "cell_type": "code",
   "execution_count": 167,
   "metadata": {},
   "outputs": [],
   "source": [
    "# Заполним пропуски в поле Cuisine_Style значением самой популярной кухни\n",
    "rest_cuisines = restaurants_cuisines(restaurants_iter2)\n",
    "\n",
    "keys_list = rest_cuisines.keys()\n",
    "max_val = 0\n",
    "max_val_key = ''\n",
    "\n",
    "for key in keys_list:\n",
    "    if rest_cuisines[key] > max_val:\n",
    "        max_val = rest_cuisines[key]\n",
    "        max_val_key = key\n",
    "\n",
    "restaurants_iter2.Cuisine_Style = restaurants_iter2.Cuisine_Style.fillna(\"['\" + max_val_key + \"']\")"
   ]
  },
  {
   "cell_type": "code",
   "execution_count": 168,
   "metadata": {},
   "outputs": [],
   "source": [
    "# Price_Range - можно заменить символы на числовой рейтинг 1,2,3, 0 - нет данных (как в примере из модуля)\n",
    "price_range_dict = {'$$$$':3, '$$ - $$$':2, '$':1}\n",
    "restaurants_iter2.Price_Range = restaurants_iter2.Price_Range.replace(to_replace=price_range_dict)\n",
    "restaurants_iter2.Price_Range = restaurants_iter2.Price_Range.fillna(0)"
   ]
  },
  {
   "cell_type": "markdown",
   "metadata": {},
   "source": [
    "#### Добавляем новые признаки"
   ]
  },
  {
   "cell_type": "code",
   "execution_count": 173,
   "metadata": {},
   "outputs": [],
   "source": [
    "# Количество городов, в которых представлен данный ресторан\n",
    "rest_in_city = (restaurants_iter2\n",
    "                .groupby('Restaurant_id')['City'].nunique().reset_index()\n",
    "                .rename(columns = {'City':'In_Cities'}))\n",
    "\n",
    "restaurants_iter2 = pd.merge(restaurants_iter2, rest_in_city, \n",
    "                             how = 'left', left_on = ['Restaurant_id'], right_on = ['Restaurant_id'])"
   ]
  },
  {
   "cell_type": "code",
   "execution_count": 174,
   "metadata": {},
   "outputs": [],
   "source": [
    "# Количество кухонь, представленных в данном ресторане\n",
    "restaurants_iter2['Cuisines_Cnt'] = restaurants_iter2.Cuisine_Style.apply(lambda x: len(ast.literal_eval(x)))"
   ]
  },
  {
   "cell_type": "code",
   "execution_count": 177,
   "metadata": {},
   "outputs": [],
   "source": [
    "# Среднее количество кухонь среди ресторанов одной сети в разных городах\n",
    "avg_cuis_in_rest = (restaurants_iter2\n",
    "                    .groupby('Restaurant_id')['Cuisines_Cnt'].mean().reset_index()\n",
    "                    .rename(columns = {'Cuisines_Cnt':'Cuisines_Avg'}))\n",
    "\n",
    "restaurants_iter2 = pd.merge(restaurants_iter2, avg_cuis_in_rest, \n",
    "                             how = 'left', left_on = ['Restaurant_id'], right_on = ['Restaurant_id'])"
   ]
  },
  {
   "cell_type": "code",
   "execution_count": 178,
   "metadata": {
    "scrolled": true
   },
   "outputs": [],
   "source": [
    "# Cредний рейтинг (Ranking) ресторана среди всех ресторанов одной сети в разных городах\n",
    "avg_rating_by_rest = (restaurants_iter2\n",
    "                      .groupby('Restaurant_id')['Ranking'].mean().reset_index()\n",
    "                      .rename(columns = {'Ranking':'Ranking_Avg'}))\n",
    "\n",
    "restaurants_iter2 = pd.merge(restaurants_iter2, avg_rating_by_rest, \n",
    "                             how = 'left', left_on = ['Restaurant_id'], right_on = ['Restaurant_id'])"
   ]
  },
  {
   "cell_type": "code",
   "execution_count": 184,
   "metadata": {
    "scrolled": true
   },
   "outputs": [],
   "source": [
    "# Разница в днях между опубликованными отзывами\n",
    "restaurants_iter2['Reviews_Dates'] = (restaurants_iter2['Reviews']\n",
    "                                      .apply(lambda x: re.findall(r\"\"\"\\d{2}/\\d{2}/\\d{4}\"\"\", x))\n",
    "                                      )\n",
    "restaurants_iter2['Review1_Date'] = (restaurants_iter2['Reviews_Dates']\n",
    "                                     .apply(lambda x: datetime.strptime(x[0],'%m/%d/%Y') if len(x)!= 0 else None))\n",
    "restaurants_iter2['Review2_Date'] = (restaurants_iter2['Reviews_Dates']\n",
    "                                     .apply(lambda x: datetime.strptime(x[1],'%m/%d/%Y') if len(x) > 1 else None))                                 \n",
    "\n",
    "restaurants_iter2['Days_Between_Reviews'] = restaurants_iter2['Review1_Date'] - restaurants_iter2['Review2_Date']\n",
    "restaurants_iter2['Days_Between_Reviews'] = restaurants_iter2['Days_Between_Reviews'].dt.days\n",
    "restaurants_iter2['Days_Between_Reviews'] = restaurants_iter2['Days_Between_Reviews'].fillna(0)\n",
    "\n",
    "# Удаляем вспомогательные колонки\n",
    "restaurants_iter2 = restaurants_iter2.drop(['Reviews', 'Reviews_Dates', 'Review1_Date', 'Review2_Date'], axis=1)"
   ]
  },
  {
   "cell_type": "code",
   "execution_count": null,
   "metadata": {},
   "outputs": [],
   "source": [
    "# 2DO что-то можно нормализовать?"
   ]
  },
  {
   "cell_type": "markdown",
   "metadata": {},
   "source": [
    "### Подготовка к моделированию"
   ]
  },
  {
   "cell_type": "code",
   "execution_count": 186,
   "metadata": {},
   "outputs": [],
   "source": [
    "# Разбиваем датафрейм на части, необходимые для обучения и тестирования модели \n",
    "# + Удаляю признаки, которые не использую на текущей терации\n",
    "X = restaurants_iter2.drop(['Restaurant_id', 'Rating', 'URL_TA', 'ID_TA', 'City', 'Cuisine_Style'], axis = 1) # данные с информацией о ресторанах\n",
    "y = restaurants_iter2.Rating # целевая переменная (рейтинги ресторанов)"
   ]
  },
  {
   "cell_type": "code",
   "execution_count": 187,
   "metadata": {},
   "outputs": [],
   "source": [
    "# Наборы данных с меткой \"train\" будут использоваться для обучения модели, \"test\" - для тестирования \n",
    "# Для тестирования мы будем использовать 25% от исходного датасета. \n",
    "\n",
    "X_train, X_test, y_train, y_test = train_test_split(X, y, test_size=0.25)  "
   ]
  },
  {
   "cell_type": "markdown",
   "metadata": {},
   "source": [
    "### Создание, обучение и тестирование модели"
   ]
  },
  {
   "cell_type": "code",
   "execution_count": 188,
   "metadata": {},
   "outputs": [],
   "source": [
    "# Создаём модель\n",
    "regr = RandomForestRegressor(n_estimators=100)\n",
    "\n",
    "# Обучаем модель на тестовом наборе данных\n",
    "regr.fit(X_train, y_train)\n",
    "\n",
    "# Используем обученную модель для предсказания рейтинга ресторанов в тестовой выборке.\n",
    "# Предсказанные значения записываем в переменную y_pred\n",
    "y_pred = regr.predict(X_test)"
   ]
  },
  {
   "cell_type": "code",
   "execution_count": 189,
   "metadata": {},
   "outputs": [
    {
     "name": "stdout",
     "output_type": "stream",
     "text": [
      "MAE: 0.3808936630952381\n"
     ]
    }
   ],
   "source": [
    "# Сравниваем предсказанные значения (y_pred) с реальными (y_test), и смотрим насколько они в среднем отличаются\n",
    "# Метрика называется Mean Absolute Error (MAE) и показывает среднее отклонение предсказанных значений от фактических.\n",
    "\n",
    "print('MAE:', metrics.mean_absolute_error(y_test, y_pred))"
   ]
  },
  {
   "cell_type": "markdown",
   "metadata": {},
   "source": [
    "## Третья итерация"
   ]
  },
  {
   "cell_type": "code",
   "execution_count": 226,
   "metadata": {},
   "outputs": [],
   "source": [
    "restaurants_iter3 = restaurants_iter2.copy(deep=True)"
   ]
  },
  {
   "cell_type": "code",
   "execution_count": 228,
   "metadata": {},
   "outputs": [],
   "source": [
    "# Представим города в виде dummy-переменных\n",
    "restaurants_iter3['City_Rest'] = 1 #  доп столбец чтобы анстакнуть нормально\n",
    "restaurants_iter3 = restaurants_iter3.set_index(['Restaurant_id', 'Ranking', 'Cuisine_Style',\n",
    "                                                 'Rating', 'Number_of_Reviews', 'URL_TA', 'ID_TA', \n",
    "                                                 'In_Cities', 'Cuisines_Cnt', 'Cuisines_Avg', 'Ranking_Avg',\n",
    "                                                 'Days_Between_Reviews', 'Price_Range', 'City'\n",
    "                                                ])['City_Rest'].unstack('City', fill_value = 0).reset_index()"
   ]
  },
  {
   "cell_type": "code",
   "execution_count": 231,
   "metadata": {
    "scrolled": true
   },
   "outputs": [],
   "source": [
    "# Для признака Price_Range заменить пропуски на 0 возможно было не совсем верным решением, т.к пропуск в данных\n",
    "# по своей сути не меньше, чем любой ценовой диапазон, стоит попробовать сделать из этого признака dummy-переменные\n",
    "\n",
    "restaurants_iter3 = pd.get_dummies(data = restaurants_iter3, columns = ['Price_Range'])"
   ]
  },
  {
   "cell_type": "code",
   "execution_count": 211,
   "metadata": {},
   "outputs": [],
   "source": [
    "restaurants_iter3['Cuisine_Style'] = restaurants_iter3.Cuisine_Style.apply(lambda x: ast.literal_eval(x))"
   ]
  },
  {
   "cell_type": "markdown",
   "metadata": {},
   "source": [
    "### Подготовка к моделированию"
   ]
  },
  {
   "cell_type": "code",
   "execution_count": 237,
   "metadata": {},
   "outputs": [],
   "source": [
    "# Разбиваем датафрейм на части, необходимые для обучения и тестирования модели \n",
    "# + Удаляю признаки, которые не использую на текущей терации\n",
    "X = restaurants_iter3.drop(['Restaurant_id', 'Rating', 'URL_TA', 'ID_TA', 'Cuisine_Style'], axis = 1) # данные с информацией о ресторанах\n",
    "y = restaurants_iter3.Rating # целевая переменная (рейтинги ресторанов)"
   ]
  },
  {
   "cell_type": "code",
   "execution_count": 239,
   "metadata": {},
   "outputs": [],
   "source": [
    "# Наборы данных с меткой \"train\" будут использоваться для обучения модели, \"test\" - для тестирования \n",
    "# Для тестирования мы будем использовать 25% от исходного датасета. \n",
    "\n",
    "X_train, X_test, y_train, y_test = train_test_split(X, y, test_size=0.25)  "
   ]
  },
  {
   "cell_type": "markdown",
   "metadata": {},
   "source": [
    "### Создание, обучение и тестирование модели"
   ]
  },
  {
   "cell_type": "code",
   "execution_count": 240,
   "metadata": {},
   "outputs": [],
   "source": [
    "# Создаём модель\n",
    "regr = RandomForestRegressor(n_estimators=100)\n",
    "\n",
    "# Обучаем модель на тестовом наборе данных\n",
    "regr.fit(X_train, y_train)\n",
    "\n",
    "# Используем обученную модель для предсказания рейтинга ресторанов в тестовой выборке.\n",
    "# Предсказанные значения записываем в переменную y_pred\n",
    "y_pred = regr.predict(X_test)"
   ]
  },
  {
   "cell_type": "code",
   "execution_count": 241,
   "metadata": {},
   "outputs": [
    {
     "name": "stdout",
     "output_type": "stream",
     "text": [
      "MAE: 0.21355\n"
     ]
    }
   ],
   "source": [
    "# Сравниваем предсказанные значения (y_pred) с реальными (y_test), и смотрим насколько они в среднем отличаются\n",
    "# Метрика называется Mean Absolute Error (MAE) и показывает среднее отклонение предсказанных значений от фактических.\n",
    "\n",
    "print('MAE:', metrics.mean_absolute_error(y_test, y_pred))"
   ]
  },
  {
   "cell_type": "markdown",
   "metadata": {},
   "source": [
    "В тренировочном забеге MAE: 0.21355 - добились неплохого результата.\n",
    "На kaggle еще улучшила эту метрику."
   ]
  }
 ],
 "metadata": {
  "kernelspec": {
   "display_name": "Python 3",
   "language": "python",
   "name": "python3"
  },
  "language_info": {
   "codemirror_mode": {
    "name": "ipython",
    "version": 3
   },
   "file_extension": ".py",
   "mimetype": "text/x-python",
   "name": "python",
   "nbconvert_exporter": "python",
   "pygments_lexer": "ipython3",
   "version": "3.7.6"
  }
 },
 "nbformat": 4,
 "nbformat_minor": 4
}
