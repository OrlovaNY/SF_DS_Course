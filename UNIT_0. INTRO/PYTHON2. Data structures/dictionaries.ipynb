{
 "cells": [
  {
   "cell_type": "code",
   "execution_count": 1,
   "metadata": {},
   "outputs": [],
   "source": [
    "draw_dict = {'Россия': 'A',\n",
    "            'Португалия': 'B',\n",
    "            'Франция': 'C',\n",
    "            'Дания': 'C',\n",
    "            'Египет': 'A'\n",
    "}\n",
    "\n",
    "country = 'Италия'\n",
    "\n",
    "if country in draw_dict:\n",
    "    group = draw_dict[country]\n",
    "else:\n",
    "    group = 'unknown'"
   ]
  },
  {
   "cell_type": "code",
   "execution_count": 4,
   "metadata": {},
   "outputs": [
    {
     "name": "stdout",
     "output_type": "stream",
     "text": [
      "unknown\n"
     ]
    }
   ],
   "source": [
    "print(group)"
   ]
  },
  {
   "cell_type": "code",
   "execution_count": 5,
   "metadata": {},
   "outputs": [],
   "source": [
    "draw_dict = {'Россия': 'A',\n",
    "            'Португалия': 'B',\n",
    "            'Франция': 'C',\n",
    "            'Дания': 'C',\n",
    "            'Египет': 'A'\n",
    "}\n",
    "\n",
    "country = 'Италия'\n",
    "\n",
    "group = draw_dict.setdefault(country, 'unknown')\n"
   ]
  },
  {
   "cell_type": "code",
   "execution_count": 6,
   "metadata": {},
   "outputs": [
    {
     "name": "stdout",
     "output_type": "stream",
     "text": [
      "unknown\n"
     ]
    }
   ],
   "source": [
    "print(group)"
   ]
  },
  {
   "cell_type": "code",
   "execution_count": 8,
   "metadata": {},
   "outputs": [],
   "source": [
    "employee_base = {'Мария Никитина': 'менеджер', \n",
    "                 'Егор Савичев': 'разработчик', \n",
    "                 'Александр Пахомов': 'дизайнер', \n",
    "                 'Алина Егорова': 'разработчик', \n",
    "                 'Руслан Башаров': 'верстальщик'}"
   ]
  },
  {
   "cell_type": "code",
   "execution_count": 10,
   "metadata": {},
   "outputs": [
    {
     "name": "stdout",
     "output_type": "stream",
     "text": [
      "Мария Никитина\n",
      "Егор Савичев\n",
      "Александр Пахомов\n",
      "Алина Егорова\n",
      "Руслан Башаров\n"
     ]
    }
   ],
   "source": [
    "for employee in employee_base:\n",
    "    print(employee)"
   ]
  },
  {
   "cell_type": "code",
   "execution_count": 9,
   "metadata": {},
   "outputs": [
    {
     "name": "stdout",
     "output_type": "stream",
     "text": [
      "Мария Никитина\n",
      "Егор Савичев\n",
      "Александр Пахомов\n",
      "Алина Егорова\n",
      "Руслан Башаров\n"
     ]
    }
   ],
   "source": [
    "for employee in employee_base.keys():\n",
    "    print(employee)"
   ]
  },
  {
   "cell_type": "code",
   "execution_count": 13,
   "metadata": {},
   "outputs": [
    {
     "name": "stdout",
     "output_type": "stream",
     "text": [
      "Егор Савичев\n",
      "Алина Егорова\n"
     ]
    }
   ],
   "source": [
    "for employee in employee_base.keys():\n",
    "    if employee_base[employee] == 'разработчик':\n",
    "        print(employee)"
   ]
  },
  {
   "cell_type": "code",
   "execution_count": 17,
   "metadata": {},
   "outputs": [
    {
     "data": {
      "text/plain": [
       "{'Россия': 'A', 'Египет': 'A'}"
      ]
     },
     "execution_count": 17,
     "metadata": {},
     "output_type": "execute_result"
    }
   ],
   "source": [
    "draw_dict = {'Россия': 'A',\n",
    "            'Португалия': 'B',\n",
    "            'Франция': 'C',\n",
    "            'Дания': 'C',\n",
    "            'Египет': 'A'\n",
    "            }\n",
    "draw_new = {}\n",
    "for country in draw_dict:\n",
    "    if draw_dict[country] == 'A':\n",
    "        draw_new[country] = draw_dict[country]\n",
    "draw_new"
   ]
  },
  {
   "cell_type": "code",
   "execution_count": 18,
   "metadata": {},
   "outputs": [
    {
     "name": "stdout",
     "output_type": "stream",
     "text": [
      "2\n"
     ]
    }
   ],
   "source": [
    "i=0\n",
    "\n",
    "for position in employee_base.values():\n",
    "    if position == 'разработчик':\n",
    "        i+=1\n",
    "        \n",
    "print(i)"
   ]
  },
  {
   "cell_type": "code",
   "execution_count": 19,
   "metadata": {},
   "outputs": [
    {
     "name": "stdout",
     "output_type": "stream",
     "text": [
      "Мария Никитина менеджер\n",
      "Егор Савичев разработчик\n",
      "Александр Пахомов дизайнер\n",
      "Алина Егорова разработчик\n",
      "Руслан Башаров верстальщик\n"
     ]
    }
   ],
   "source": [
    "for employee, position in employee_base.items():\n",
    "    print(employee, position)"
   ]
  },
  {
   "cell_type": "code",
   "execution_count": 20,
   "metadata": {},
   "outputs": [
    {
     "name": "stdout",
     "output_type": "stream",
     "text": [
      "Егор Савичев\n",
      "Алина Егорова\n"
     ]
    }
   ],
   "source": [
    "for employee, position in employee_base.items():\n",
    "    if position == 'разработчик':\n",
    "        print(employee)"
   ]
  },
  {
   "cell_type": "code",
   "execution_count": 21,
   "metadata": {},
   "outputs": [
    {
     "data": {
      "text/plain": [
       "{'Россия': 'A', 'Египет': 'A'}"
      ]
     },
     "execution_count": 21,
     "metadata": {},
     "output_type": "execute_result"
    }
   ],
   "source": [
    "draw_dict = {'Россия': 'A',\n",
    "            'Португалия': 'B',\n",
    "            'Франция': 'C',\n",
    "            'Дания': 'C',\n",
    "            'Египет': 'A'\n",
    "            }\n",
    "draw_new = {}\n",
    "for country, group in draw_dict.items():\n",
    "    if group == 'A':\n",
    "        draw_new[country] = group\n",
    "draw_new"
   ]
  },
  {
   "cell_type": "code",
   "execution_count": 24,
   "metadata": {},
   "outputs": [],
   "source": [
    "expenses = {'2019-04-01':2504, \n",
    "            '2019-04-02':4994,\n",
    "            '2019-04-03':6343\n",
    "           }"
   ]
  },
  {
   "cell_type": "code",
   "execution_count": 23,
   "metadata": {},
   "outputs": [
    {
     "data": {
      "text/plain": [
       "{'2019-04-01': 2504, '2019-04-02': 4994, '2019-04-03': 6343}"
      ]
     },
     "execution_count": 23,
     "metadata": {},
     "output_type": "execute_result"
    }
   ],
   "source": [
    "expenses"
   ]
  },
  {
   "cell_type": "code",
   "execution_count": 26,
   "metadata": {},
   "outputs": [
    {
     "name": "stdout",
     "output_type": "stream",
     "text": [
      "13841\n"
     ]
    }
   ],
   "source": [
    "result = 0\n",
    "for date, summ in expenses.items():\n",
    "    result+=summ\n",
    "print(result)"
   ]
  },
  {
   "cell_type": "code",
   "execution_count": 32,
   "metadata": {},
   "outputs": [],
   "source": [
    "contacts = {\n",
    "    'Борискин Владимир': {\n",
    "        'tel': '5387',\n",
    "        'position': 'менеджер'\n",
    "    },\n",
    "    \n",
    "    'Сомова Наталья': {\n",
    "        'tel': '5443',\n",
    "        'position': 'разработчик'\n",
    "    }\n",
    "}"
   ]
  },
  {
   "cell_type": "code",
   "execution_count": 33,
   "metadata": {},
   "outputs": [
    {
     "data": {
      "text/plain": [
       "{'Борискин Владимир': {'tel': '5387', 'position': 'менеджер'},\n",
       " 'Сомова Наталья': {'tel': '5443', 'position': 'разработчик'}}"
      ]
     },
     "execution_count": 33,
     "metadata": {},
     "output_type": "execute_result"
    }
   ],
   "source": [
    "contacts"
   ]
  },
  {
   "cell_type": "code",
   "execution_count": 34,
   "metadata": {},
   "outputs": [
    {
     "name": "stdout",
     "output_type": "stream",
     "text": [
      "{'tel': '5387', 'position': 'менеджер'}\n"
     ]
    }
   ],
   "source": [
    "print(contacts['Борискин Владимир'])"
   ]
  },
  {
   "cell_type": "code",
   "execution_count": 35,
   "metadata": {},
   "outputs": [
    {
     "name": "stdout",
     "output_type": "stream",
     "text": [
      "5387\n"
     ]
    }
   ],
   "source": [
    "print(contacts['Борискин Владимир']['tel'])"
   ]
  },
  {
   "cell_type": "code",
   "execution_count": 37,
   "metadata": {},
   "outputs": [],
   "source": [
    "csv_dict = [\n",
    "            {'id': '100412', 'position': 'Ботинки для горных лыж ATOMIC Hawx Prime 100', 'count': 9},\n",
    "            {'id': '100728', 'position': 'Скейтборд Jdbug RT03', 'count': 32},\n",
    "            {'id': '100732', 'position': 'Роллерсерф Razor RipStik Bright', 'count': 11},\n",
    "            {'id': '100803', 'position': 'Ботинки для сноуборда DC Tucknee', 'count': 20},\n",
    "            {'id': '100898', 'position': 'Шагомер Omron HJA-306', 'count': 2},\n",
    "            {'id': '100934', 'position': 'Пульсометр Beurer PM62', 'count': 17},\n",
    "        ]"
   ]
  },
  {
   "cell_type": "code",
   "execution_count": 38,
   "metadata": {},
   "outputs": [
    {
     "data": {
      "text/plain": [
       "[{'id': '100412',\n",
       "  'position': 'Ботинки для горных лыж ATOMIC Hawx Prime 100',\n",
       "  'count': 9},\n",
       " {'id': '100803', 'position': 'Ботинки для сноуборда DC Tucknee', 'count': 20}]"
      ]
     },
     "execution_count": 38,
     "metadata": {},
     "output_type": "execute_result"
    }
   ],
   "source": [
    "csv_dict_boots = []\n",
    "for record in csv_dict:\n",
    "    if record['position'] in ['Ботинки для горных лыж ATOMIC Hawx Prime 100','Ботинки для сноуборда DC Tucknee']:\n",
    "        csv_dict_boots.append(record)\n",
    "csv_dict_boots"
   ]
  },
  {
   "cell_type": "code",
   "execution_count": 1,
   "metadata": {},
   "outputs": [],
   "source": [
    "results = [\n",
    "            {'cost': 98, 'source': 'vk'},\n",
    "            {'cost': 153, 'source': 'yandex'},\n",
    "            {'cost': 110, 'source': 'facebook'},\n",
    "            ]"
   ]
  },
  {
   "cell_type": "code",
   "execution_count": 2,
   "metadata": {},
   "outputs": [
    {
     "name": "stdout",
     "output_type": "stream",
     "text": [
      "98\n"
     ]
    }
   ],
   "source": [
    "costs = []\n",
    "for record in results:\n",
    "    costs.append(record['cost'])\n",
    "print(min(costs))"
   ]
  },
  {
   "cell_type": "code",
   "execution_count": 5,
   "metadata": {},
   "outputs": [],
   "source": [
    "defect_stats = [\n",
    "                {'step_number': 1, 'damage': 0.98},\n",
    "                {'step_number': 2, 'damage': 0.99},\n",
    "                {'step_number': 3, 'damage': 0.99},\n",
    "                {'step_number': 4, 'damage': 0.96},\n",
    "                {'step_number': 5, 'damage': 0.97},\n",
    "                {'step_number': 6, 'damage': 0.97},\n",
    "                ]"
   ]
  },
  {
   "cell_type": "code",
   "execution_count": 12,
   "metadata": {},
   "outputs": [
    {
     "name": "stdout",
     "output_type": "stream",
     "text": [
      "5\n"
     ]
    }
   ],
   "source": [
    "size = 100\n",
    "\n",
    "for step_record in defect_stats:\n",
    "    size = size * step_record['damage']\n",
    "    if size < 90:\n",
    "        print(step_record['step_number'])\n",
    "        break"
   ]
  },
  {
   "cell_type": "code",
   "execution_count": 13,
   "metadata": {},
   "outputs": [],
   "source": [
    "currency = {\n",
    "    'AMD': {\n",
    "        'Name': 'Армянских драмов',\n",
    "        'Nominal': 100,\n",
    "        'Value': 13.121\n",
    "        },\n",
    "\n",
    "    'AUD': {\n",
    "        'Name': 'Австралийский доллар',\n",
    "        'Nominal': 1,\n",
    "        'Value': 45.5309\n",
    "        },\n",
    "\n",
    "    'INR': {\n",
    "        'Name': 'Индийских рупий',\n",
    "        'Nominal': 100,\n",
    "        'Value': 92.9658\n",
    "        },\n",
    "\n",
    "    'MDL': {\n",
    "        'Name': 'Молдавских леев',\n",
    "        'Nominal': 10,\n",
    "        'Value': 36.9305\n",
    "        },\n",
    "    }"
   ]
  },
  {
   "cell_type": "code",
   "execution_count": 21,
   "metadata": {},
   "outputs": [
    {
     "name": "stdout",
     "output_type": "stream",
     "text": [
      "AMD\n"
     ]
    }
   ],
   "source": [
    "curs = {}\n",
    "for record in currency:\n",
    "    curs[record] = currency[record]['Value']/currency[record]['Nominal']\n",
    "print(min(curs, key=curs.get))\n"
   ]
  },
  {
   "cell_type": "code",
   "execution_count": 22,
   "metadata": {},
   "outputs": [],
   "source": [
    "bodycount = {\n",
    "    'Проклятие Черной жемчужины': {\n",
    "        'человек': 17\n",
    "    }, \n",
    "\n",
    "    'Сундук мертвеца': {\n",
    "        'человек': 56,\n",
    "        'раков-отшельников': 1\n",
    "    },\n",
    "\n",
    "    'На краю света': {\n",
    "        'человек': 88\n",
    "    },\n",
    "\n",
    "    'На странных берегах': {\n",
    "        'человек': 56,\n",
    "        'русалок': 2,\n",
    "        'ядовитых жаб': 3,\n",
    "        'пиратов зомби': 2\n",
    "    }\n",
    "}"
   ]
  },
  {
   "cell_type": "code",
   "execution_count": null,
   "metadata": {},
   "outputs": [],
   "source": []
  }
 ],
 "metadata": {
  "kernelspec": {
   "display_name": "Python 3",
   "language": "python",
   "name": "python3"
  },
  "language_info": {
   "codemirror_mode": {
    "name": "ipython",
    "version": 3
   },
   "file_extension": ".py",
   "mimetype": "text/x-python",
   "name": "python",
   "nbconvert_exporter": "python",
   "pygments_lexer": "ipython3",
   "version": "3.7.6"
  }
 },
 "nbformat": 4,
 "nbformat_minor": 4
}
