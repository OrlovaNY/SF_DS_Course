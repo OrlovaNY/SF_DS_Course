{
 "cells": [
  {
   "cell_type": "code",
   "execution_count": 18,
   "metadata": {},
   "outputs": [
    {
     "name": "stdout",
     "output_type": "stream",
     "text": [
      "п\n",
      "д\n",
      "и\n",
      "н\n",
      "к\n"
     ]
    }
   ],
   "source": [
    "word = 'подшипник'\n",
    "# 0 1 2 3 4 5\n",
    "# 1 2 3 4 5 6\n",
    "# 1   3   5\n",
    "# 1\n",
    "\n",
    "# 7 % 3 = 1\n",
    "# 9 % 5 = 4\n",
    "# 11 % 10 = 1\n",
    "# 18 % 6 = 0\n",
    "\n",
    "for i, letter in enumerate(word): \n",
    "    if (i + 1) % 2 == 1:\n",
    "        print(letter)\n",
    "    else:\n",
    "        pass\n",
    "    "
   ]
  },
  {
   "cell_type": "code",
   "execution_count": 9,
   "metadata": {},
   "outputs": [
    {
     "name": "stdout",
     "output_type": "stream",
     "text": [
      "ошпи\n"
     ]
    }
   ],
   "source": [
    "word = 'подшипник'\n",
    "new_word = ''\n",
    "for i, letter in enumerate(word):\n",
    "    if i%2!=0:\n",
    "        new_word+=letter\n",
    "    else:\n",
    "        pass\n",
    "print(new_word) "
   ]
  },
  {
   "cell_type": "code",
   "execution_count": 11,
   "metadata": {},
   "outputs": [
    {
     "name": "stdout",
     "output_type": "stream",
     "text": [
      "ошпи\n"
     ]
    }
   ],
   "source": [
    "word = 'подшипник'\n",
    "new_word = ''\n",
    "for i, letter in enumerate(word):\n",
    "    if i%2!=0:\n",
    "        new_word+=letter\n",
    "    else:\n",
    "        pass\n",
    "word = new_word\n",
    "print(word) "
   ]
  },
  {
   "cell_type": "code",
   "execution_count": 29,
   "metadata": {},
   "outputs": [
    {
     "name": "stdout",
     "output_type": "stream",
     "text": [
      "2013 год невисокосный\n",
      "2014 год невисокосный\n",
      "2015 год невисокосный\n",
      "2016 год високосный\n",
      "2017 год невисокосный\n",
      "2018 год невисокосный\n",
      "2019 год невисокосный\n",
      "2020 год високосный\n"
     ]
    }
   ],
   "source": [
    "year_1 = 2013\n",
    "year_2 = 2020\n",
    "\n",
    "for i in range(year_1, year_2+1):\n",
    "    if ((i%4 == 0 and i%100 != 0) or (i%400 == 0)):\n",
    "        print(i, 'год високосный')\n",
    "    else:\n",
    "        print(i, 'год невисокосный')"
   ]
  },
  {
   "cell_type": "code",
   "execution_count": 24,
   "metadata": {},
   "outputs": [
    {
     "name": "stdout",
     "output_type": "stream",
     "text": [
      "и\n",
      "у\n",
      "а\n",
      "и\n",
      "а\n"
     ]
    }
   ],
   "source": [
    "word = 'Зимушка-зима'\n",
    "\n",
    "glasn = ['а','е','ё','и','о','у','ы','э','ю','я']\n",
    "for i,letter in enumerate(word):\n",
    "    if letter in glasn:\n",
    "        print(letter)\n",
    "    else:\n",
    "        pass"
   ]
  },
  {
   "cell_type": "code",
   "execution_count": 27,
   "metadata": {},
   "outputs": [
    {
     "name": "stdout",
     "output_type": "stream",
     "text": [
      "Буква 1 в этом имени - С\n",
      "Буква 2 в этом имени - е\n",
      "Буква 3 в этом имени - р\n",
      "Буква 4 в этом имени - г\n",
      "Буква 5 в этом имени - е\n",
      "Буква 6 в этом имени - й\n"
     ]
    }
   ],
   "source": [
    "name = 'Сергей'\n",
    "for i,letter in enumerate(name):\n",
    "    print(\"Буква\",i+1,\"в этом имени -\",letter)\n"
   ]
  },
  {
   "cell_type": "code",
   "execution_count": 39,
   "metadata": {},
   "outputs": [
    {
     "name": "stdout",
     "output_type": "stream",
     "text": [
      "25\n",
      "27\n",
      "33\n",
      "35\n",
      "39\n",
      "45\n"
     ]
    }
   ],
   "source": [
    "num_1 = 25\n",
    "num_2 = 45\n",
    "\n",
    "if (num_1 < 0) | (num_2 < num_1):\n",
    "    print(\"Введён неверный диапазон чисел\")\n",
    "else:\n",
    "    for i in range(num_1, num_2+1):\n",
    "        if ((i%2 != 0)&((i%3 == 0) | (i%5 == 0))):\n",
    "            print(i)\n",
    "        else:\n",
    "            pass"
   ]
  },
  {
   "cell_type": "code",
   "execution_count": 1,
   "metadata": {},
   "outputs": [
    {
     "name": "stdout",
     "output_type": "stream",
     "text": [
      "1 1 1\n",
      "2 4 8\n",
      "3 9 27\n",
      "4 16 64\n",
      "5 25 125\n",
      "6 36 216\n",
      "7 49 343\n",
      "8 64 512\n",
      "9 81 729\n",
      "10 100 1000\n"
     ]
    }
   ],
   "source": [
    "for i in range(1, 11):\n",
    "    print(i, i**2, i**3)"
   ]
  },
  {
   "cell_type": "code",
   "execution_count": 2,
   "metadata": {},
   "outputs": [
    {
     "name": "stdout",
     "output_type": "stream",
     "text": [
      "1\n",
      "2\n",
      "3\n",
      "4\n",
      "6\n",
      "7\n",
      "12\n",
      "14\n",
      "21\n",
      "28\n",
      "42\n",
      "84\n"
     ]
    }
   ],
   "source": [
    "number = 84\n",
    "\n",
    "for i in range(1, number+1):\n",
    "    if number%i == 0:\n",
    "        print(i)"
   ]
  },
  {
   "cell_type": "code",
   "execution_count": 17,
   "metadata": {},
   "outputs": [
    {
     "name": "stdout",
     "output_type": "stream",
     "text": [
      "2\n"
     ]
    }
   ],
   "source": [
    "num_1 = 12\n",
    "num_2 = 38\n",
    "\n",
    "for i in range(2, num_1+1):\n",
    "    if (num_1%i == 0) & (num_2%i == 0):\n",
    "        print(i)"
   ]
  },
  {
   "cell_type": "code",
   "execution_count": 9,
   "metadata": {},
   "outputs": [
    {
     "name": "stdout",
     "output_type": "stream",
     "text": [
      "55\n"
     ]
    }
   ],
   "source": [
    "n = 10\n",
    "\n",
    "fib1 = 1\n",
    "fib2 = 1\n",
    "\n",
    "for i in range(1, n-1):\n",
    "    fib_sum = fib1 + fib2\n",
    "    fib1 = fib2\n",
    "    fib2 = fib_sum\n",
    "print(fib_sum)\n",
    "\n",
    "    "
   ]
  },
  {
   "cell_type": "code",
   "execution_count": 10,
   "metadata": {},
   "outputs": [
    {
     "name": "stdout",
     "output_type": "stream",
     "text": [
      "15 X 1 = 15\n",
      "15 X 2 = 30\n",
      "15 X 3 = 45\n",
      "15 X 4 = 60\n",
      "15 X 5 = 75\n",
      "15 X 6 = 90\n",
      "15 X 7 = 105\n",
      "15 X 8 = 120\n",
      "15 X 9 = 135\n",
      "15 X 10 = 150\n"
     ]
    }
   ],
   "source": [
    "number = 15\n",
    "\n",
    "for i in range(1,11):\n",
    "    print(number,\"X\",i,'=',number*i)"
   ]
  },
  {
   "cell_type": "code",
   "execution_count": 24,
   "metadata": {},
   "outputs": [
    {
     "name": "stdout",
     "output_type": "stream",
     "text": [
      "Общих делителей не найдено\n"
     ]
    }
   ],
   "source": [
    "num_1 = 1812\n",
    "num_2 = 2500\n",
    "\n",
    "dels = list()\n",
    "\n",
    "for i in range(2, num_1+1):\n",
    "    if (num_1%i == 0) & (num_2%i == 0):\n",
    "        dels.append(i)\n",
    "if (dels == []):\n",
    "    print(\"Общих делителей не найдено\")\n",
    "else:\n",
    "    print(max(dels))\n",
    "   "
   ]
  },
  {
   "cell_type": "code",
   "execution_count": 26,
   "metadata": {},
   "outputs": [
    {
     "name": "stdout",
     "output_type": "stream",
     "text": [
      "стркция"
     ]
    }
   ],
   "source": [
    "string = 'абстракция'\n",
    "to_pass = [\"а\", \"б\", \"в\"]\n",
    "\n",
    "for i,letter in enumerate(string):\n",
    "    if letter in to_pass:\n",
    "        continue\n",
    "    print(letter, end='')\n"
   ]
  },
  {
   "cell_type": "code",
   "execution_count": 38,
   "metadata": {},
   "outputs": [
    {
     "name": "stdout",
     "output_type": "stream",
     "text": [
      "Увы, это неправильный ответ\n",
      "Увы, это неправильный ответ\n",
      "Увы, это неправильный ответ\n",
      "Увы, это неправильный ответ\n",
      "Увы, это неправильный ответ\n",
      "Это безнадёжно!\n"
     ]
    }
   ],
   "source": [
    "for i in range(1, 7):\n",
    "    string = 'Нет'\n",
    "    if string == 'Да':\n",
    "        print('Это отлично!')\n",
    "    else:\n",
    "        if i == 6:\n",
    "            print(\"Это безнадёжно!\")\n",
    "            break\n",
    "        else:\n",
    "            print(\"Увы, это неправильный ответ\")\n"
   ]
  },
  {
   "cell_type": "code",
   "execution_count": 39,
   "metadata": {},
   "outputs": [
    {
     "name": "stdout",
     "output_type": "stream",
     "text": [
      "Простое\n"
     ]
    }
   ],
   "source": [
    "number = 173\n",
    "\n",
    "checklist = [1, number]\n",
    "dels = []\n",
    "for i in range(1, number+1):\n",
    "    if (number%i == 0):\n",
    "        dels.append(i)\n",
    "    else:\n",
    "        pass\n",
    "if dels == checklist:\n",
    "    print('Простое')\n",
    "else: \n",
    "    print('Не является простым')"
   ]
  },
  {
   "cell_type": "code",
   "execution_count": 46,
   "metadata": {},
   "outputs": [
    {
     "name": "stdout",
     "output_type": "stream",
     "text": [
      "Строка мне не нравится!\n"
     ]
    }
   ],
   "source": [
    "string = 'прелестная строка'\n",
    "\n",
    "glasn = ['а','е','ё','и','о','у','ы','э','ю','я']\n",
    "chetn_glasn = []\n",
    "\n",
    "for i,letter in enumerate(string):\n",
    "    if (letter in glasn) & (i%2==0):\n",
    "        chetn_glasn.append(letter)\n",
    "\n",
    "if chetn_glasn == []:\n",
    "    print('Какая хорошая строка!')\n",
    "else:\n",
    "    print('Строка мне не нравится!')\n",
    "       "
   ]
  },
  {
   "cell_type": "code",
   "execution_count": 47,
   "metadata": {},
   "outputs": [
    {
     "name": "stdout",
     "output_type": "stream",
     "text": [
      "19\n"
     ]
    }
   ],
   "source": [
    "Y = 170000\n",
    "Z = 1000000\n",
    "\n",
    "pct = 1.1\n",
    "year = 0\n",
    "\n",
    "while Y < Z:\n",
    "    Y = Y * pct\n",
    "    year += 1\n",
    "else:\n",
    "    print(year)\n"
   ]
  },
  {
   "cell_type": "code",
   "execution_count": 2,
   "metadata": {},
   "outputs": [
    {
     "name": "stdout",
     "output_type": "stream",
     "text": [
      "Перевес 62 кг\n"
     ]
    }
   ],
   "source": [
    "weight = 77\n",
    "max_weight = 400\n",
    "inside = 0\n",
    "\n",
    "while inside <= max_weight:\n",
    "    inside += weight\n",
    "else:\n",
    "    over = inside-max_weight\n",
    "    print('Перевес',over, 'кг')"
   ]
  },
  {
   "cell_type": "code",
   "execution_count": 1,
   "metadata": {},
   "outputs": [
    {
     "name": "stdout",
     "output_type": "stream",
     "text": [
      "7\n"
     ]
    }
   ],
   "source": [
    "attack = 80\n",
    "current_health = 500\n",
    "t = 0\n",
    "\n",
    "while current_health > 0:\n",
    "    current_health = current_health - attack\n",
    "    t+=1\n",
    "print(t)"
   ]
  },
  {
   "cell_type": "code",
   "execution_count": 3,
   "metadata": {},
   "outputs": [
    {
     "name": "stdout",
     "output_type": "stream",
     "text": [
      "10000\n",
      "7200\n",
      "4400\n",
      "1600\n",
      "Слишком большие расходы\n"
     ]
    }
   ],
   "source": [
    "balance = 10000\n",
    "spent = 2800\n",
    "\n",
    "print(balance)\n",
    "while balance >= spent:\n",
    "    balance = balance - spent\n",
    "    print(balance)\n",
    "else:\n",
    "    print('Слишком большие расходы')\n"
   ]
  },
  {
   "cell_type": "code",
   "execution_count": 5,
   "metadata": {},
   "outputs": [
    {
     "name": "stdout",
     "output_type": "stream",
     "text": [
      "10000\n",
      "7200\n",
      "4400\n",
      "1600\n",
      "Слишком большие расходы\n"
     ]
    }
   ],
   "source": [
    "spent = 2800\n",
    "balance = 10000\n",
    "while balance >= 0:\n",
    "    print(balance)\n",
    "    balance = balance - spent\n",
    "else:\n",
    "    print(\"Слишком большие расходы\")"
   ]
  },
  {
   "cell_type": "code",
   "execution_count": 6,
   "metadata": {},
   "outputs": [
    {
     "name": "stdout",
     "output_type": "stream",
     "text": [
      "20\n"
     ]
    }
   ],
   "source": [
    "volume = 1000\n",
    "add = 5\n",
    "i = 0\n",
    "\n",
    "while volume >= 0:\n",
    "    volume = volume - add\n",
    "    add = add + 5\n",
    "    i+=1\n",
    "print(i)"
   ]
  },
  {
   "cell_type": "code",
   "execution_count": null,
   "metadata": {},
   "outputs": [],
   "source": []
  }
 ],
 "metadata": {
  "kernelspec": {
   "display_name": "Python 3",
   "language": "python",
   "name": "python3"
  },
  "language_info": {
   "codemirror_mode": {
    "name": "ipython",
    "version": 3
   },
   "file_extension": ".py",
   "mimetype": "text/x-python",
   "name": "python",
   "nbconvert_exporter": "python",
   "pygments_lexer": "ipython3",
   "version": "3.7.6"
  }
 },
 "nbformat": 4,
 "nbformat_minor": 4
}
