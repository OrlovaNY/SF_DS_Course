{
 "cells": [
  {
   "cell_type": "code",
   "execution_count": 1,
   "metadata": {},
   "outputs": [],
   "source": [
    "import pandas as pd\n",
    "import numpy as np\n",
    "import matplotlib.pyplot as plt\n",
    "import seaborn as sn\n",
    "import matplotlib.mlab as mlab\n",
    "%matplotlib inline"
   ]
  },
  {
   "cell_type": "code",
   "execution_count": 2,
   "metadata": {},
   "outputs": [],
   "source": [
    "df = pd.read_csv('framingham.csv')"
   ]
  },
  {
   "cell_type": "code",
   "execution_count": 4,
   "metadata": {},
   "outputs": [
    {
     "data": {
      "text/plain": [
       "(4240, 16)"
      ]
     },
     "execution_count": 4,
     "metadata": {},
     "output_type": "execute_result"
    }
   ],
   "source": [
    "df.shape"
   ]
  },
  {
   "cell_type": "code",
   "execution_count": 3,
   "metadata": {},
   "outputs": [
    {
     "data": {
      "text/plain": [
       "male                 0\n",
       "age                  0\n",
       "education          105\n",
       "currentSmoker        0\n",
       "cigsPerDay          29\n",
       "BPMeds              53\n",
       "prevalentStroke      0\n",
       "prevalentHyp         0\n",
       "diabetes             0\n",
       "totChol             50\n",
       "sysBP                0\n",
       "diaBP                0\n",
       "BMI                 19\n",
       "heartRate            1\n",
       "glucose            388\n",
       "TenYearCHD           0\n",
       "dtype: int64"
      ]
     },
     "execution_count": 3,
     "metadata": {},
     "output_type": "execute_result"
    }
   ],
   "source": [
    "df.isnull().sum()"
   ]
  },
  {
   "cell_type": "code",
   "execution_count": 5,
   "metadata": {},
   "outputs": [
    {
     "name": "stdout",
     "output_type": "stream",
     "text": [
      "Общее количество строк с пропущенными значениями:  582\n"
     ]
    }
   ],
   "source": [
    "count=0\n",
    "for i in df.isnull().sum(axis=1):\n",
    "    if i>0:\n",
    "        count=count+1\n",
    "print('Общее количество строк с пропущенными значениями: ', count)"
   ]
  },
  {
   "cell_type": "code",
   "execution_count": 6,
   "metadata": {},
   "outputs": [],
   "source": [
    "df.dropna(axis=0,inplace=True)"
   ]
  },
  {
   "cell_type": "code",
   "execution_count": 7,
   "metadata": {},
   "outputs": [
    {
     "data": {
      "text/plain": [
       "0    0.556315\n",
       "1    0.443685\n",
       "Name: male, dtype: float64"
      ]
     },
     "execution_count": 7,
     "metadata": {},
     "output_type": "execute_result"
    }
   ],
   "source": [
    "df['male'].value_counts(normalize = True ) "
   ]
  },
  {
   "cell_type": "code",
   "execution_count": 9,
   "metadata": {},
   "outputs": [
    {
     "data": {
      "text/plain": [
       "0    3559\n",
       "1      99\n",
       "Name: diabetes, dtype: int64"
      ]
     },
     "execution_count": 9,
     "metadata": {},
     "output_type": "execute_result"
    }
   ],
   "source": [
    "df['diabetes'].value_counts()"
   ]
  },
  {
   "cell_type": "code",
   "execution_count": 10,
   "metadata": {},
   "outputs": [
    {
     "data": {
      "text/plain": [
       "0    0.972936\n",
       "1    0.027064\n",
       "Name: diabetes, dtype: float64"
      ]
     },
     "execution_count": 10,
     "metadata": {},
     "output_type": "execute_result"
    }
   ],
   "source": [
    "df['diabetes'].value_counts(normalize=True)"
   ]
  },
  {
   "cell_type": "code",
   "execution_count": 11,
   "metadata": {},
   "outputs": [],
   "source": [
    "diabetGroup = df.groupby(['diabetes'])"
   ]
  },
  {
   "cell_type": "code",
   "execution_count": 13,
   "metadata": {},
   "outputs": [
    {
     "data": {
      "text/plain": [
       "diabetes  TenYearCHD\n",
       "0         0             0.853330\n",
       "          1             0.146670\n",
       "1         0             0.646465\n",
       "          1             0.353535\n",
       "Name: TenYearCHD, dtype: float64"
      ]
     },
     "execution_count": 13,
     "metadata": {},
     "output_type": "execute_result"
    }
   ],
   "source": [
    "diabetGroup['TenYearCHD'].value_counts(normalize=True)"
   ]
  },
  {
   "cell_type": "code",
   "execution_count": 14,
   "metadata": {},
   "outputs": [],
   "source": [
    "riskGroup = df.groupby(['TenYearCHD'])"
   ]
  },
  {
   "cell_type": "code",
   "execution_count": 15,
   "metadata": {},
   "outputs": [
    {
     "data": {
      "text/plain": [
       "TenYearCHD  diabetes\n",
       "0           0           0.979361\n",
       "            1           0.020639\n",
       "1           0           0.937163\n",
       "            1           0.062837\n",
       "Name: diabetes, dtype: float64"
      ]
     },
     "execution_count": 15,
     "metadata": {},
     "output_type": "execute_result"
    }
   ],
   "source": [
    "riskGroup['diabetes'].value_counts(normalize=True)"
   ]
  },
  {
   "cell_type": "code",
   "execution_count": 18,
   "metadata": {},
   "outputs": [
    {
     "data": {
      "text/html": [
       "<div>\n",
       "<style scoped>\n",
       "    .dataframe tbody tr th:only-of-type {\n",
       "        vertical-align: middle;\n",
       "    }\n",
       "\n",
       "    .dataframe tbody tr th {\n",
       "        vertical-align: top;\n",
       "    }\n",
       "\n",
       "    .dataframe thead th {\n",
       "        text-align: right;\n",
       "    }\n",
       "</style>\n",
       "<table border=\"1\" class=\"dataframe\">\n",
       "  <thead>\n",
       "    <tr style=\"text-align: right;\">\n",
       "      <th></th>\n",
       "      <th>mean</th>\n",
       "      <th>median</th>\n",
       "    </tr>\n",
       "    <tr>\n",
       "      <th>diabetes</th>\n",
       "      <th></th>\n",
       "      <th></th>\n",
       "    </tr>\n",
       "  </thead>\n",
       "  <tbody>\n",
       "    <tr>\n",
       "      <th>0</th>\n",
       "      <td>131.992835</td>\n",
       "      <td>128.0</td>\n",
       "    </tr>\n",
       "    <tr>\n",
       "      <th>1</th>\n",
       "      <td>145.949495</td>\n",
       "      <td>142.0</td>\n",
       "    </tr>\n",
       "  </tbody>\n",
       "</table>\n",
       "</div>"
      ],
      "text/plain": [
       "                mean  median\n",
       "diabetes                    \n",
       "0         131.992835   128.0\n",
       "1         145.949495   142.0"
      ]
     },
     "execution_count": 18,
     "metadata": {},
     "output_type": "execute_result"
    }
   ],
   "source": [
    "diabetGroup['sysBP'].agg({'mean', 'median'})"
   ]
  },
  {
   "cell_type": "code",
   "execution_count": null,
   "metadata": {},
   "outputs": [],
   "source": []
  },
  {
   "cell_type": "code",
   "execution_count": 21,
   "metadata": {},
   "outputs": [
    {
     "data": {
      "text/plain": [
       "<matplotlib.axes._subplots.AxesSubplot at 0x7fb16c4829d0>"
      ]
     },
     "execution_count": 21,
     "metadata": {},
     "output_type": "execute_result"
    },
    {
     "data": {
      "image/png": "[encoded data removed]",
      "text/plain": [
       "<Figure size 432x288 with 2 Axes>"
      ]
     },
     "metadata": {
      "needs_background": "light"
     },
     "output_type": "display_data"
    }
   ],
   "source": [
    "sn.heatmap(df[df['TenYearCHD']==1].corr())"
   ]
  },
  {
   "cell_type": "code",
   "execution_count": 22,
   "metadata": {},
   "outputs": [
    {
     "data": {
      "text/html": [
       "<div>\n",
       "<style scoped>\n",
       "    .dataframe tbody tr th:only-of-type {\n",
       "        vertical-align: middle;\n",
       "    }\n",
       "\n",
       "    .dataframe tbody tr th {\n",
       "        vertical-align: top;\n",
       "    }\n",
       "\n",
       "    .dataframe thead th {\n",
       "        text-align: right;\n",
       "    }\n",
       "</style>\n",
       "<table border=\"1\" class=\"dataframe\">\n",
       "  <thead>\n",
       "    <tr style=\"text-align: right;\">\n",
       "      <th></th>\n",
       "      <th>male</th>\n",
       "      <th>age</th>\n",
       "      <th>education</th>\n",
       "      <th>currentSmoker</th>\n",
       "      <th>cigsPerDay</th>\n",
       "      <th>BPMeds</th>\n",
       "      <th>prevalentStroke</th>\n",
       "      <th>prevalentHyp</th>\n",
       "      <th>diabetes</th>\n",
       "      <th>totChol</th>\n",
       "      <th>sysBP</th>\n",
       "      <th>diaBP</th>\n",
       "      <th>BMI</th>\n",
       "      <th>heartRate</th>\n",
       "      <th>glucose</th>\n",
       "      <th>TenYearCHD</th>\n",
       "    </tr>\n",
       "  </thead>\n",
       "  <tbody>\n",
       "    <tr>\n",
       "      <th>male</th>\n",
       "      <td>1.000000</td>\n",
       "      <td>-0.101904</td>\n",
       "      <td>0.080395</td>\n",
       "      <td>0.288251</td>\n",
       "      <td>0.350819</td>\n",
       "      <td>-0.107163</td>\n",
       "      <td>-0.012418</td>\n",
       "      <td>-0.112147</td>\n",
       "      <td>0.010548</td>\n",
       "      <td>-0.127026</td>\n",
       "      <td>-0.142647</td>\n",
       "      <td>-0.021705</td>\n",
       "      <td>-0.068325</td>\n",
       "      <td>-0.071223</td>\n",
       "      <td>-0.021249</td>\n",
       "      <td>NaN</td>\n",
       "    </tr>\n",
       "    <tr>\n",
       "      <th>age</th>\n",
       "      <td>-0.101904</td>\n",
       "      <td>1.000000</td>\n",
       "      <td>-0.106499</td>\n",
       "      <td>-0.295651</td>\n",
       "      <td>-0.242125</td>\n",
       "      <td>0.114394</td>\n",
       "      <td>0.073270</td>\n",
       "      <td>0.260844</td>\n",
       "      <td>0.064170</td>\n",
       "      <td>0.078767</td>\n",
       "      <td>0.308960</td>\n",
       "      <td>0.075911</td>\n",
       "      <td>0.057758</td>\n",
       "      <td>-0.020910</td>\n",
       "      <td>0.091433</td>\n",
       "      <td>NaN</td>\n",
       "    </tr>\n",
       "    <tr>\n",
       "      <th>education</th>\n",
       "      <td>0.080395</td>\n",
       "      <td>-0.106499</td>\n",
       "      <td>1.000000</td>\n",
       "      <td>0.010894</td>\n",
       "      <td>0.040727</td>\n",
       "      <td>0.009650</td>\n",
       "      <td>-0.067784</td>\n",
       "      <td>-0.042075</td>\n",
       "      <td>-0.057301</td>\n",
       "      <td>0.096077</td>\n",
       "      <td>-0.057088</td>\n",
       "      <td>0.029803</td>\n",
       "      <td>-0.106030</td>\n",
       "      <td>-0.047791</td>\n",
       "      <td>-0.014591</td>\n",
       "      <td>NaN</td>\n",
       "    </tr>\n",
       "    <tr>\n",
       "      <th>currentSmoker</th>\n",
       "      <td>0.288251</td>\n",
       "      <td>-0.295651</td>\n",
       "      <td>0.010894</td>\n",
       "      <td>1.000000</td>\n",
       "      <td>0.794715</td>\n",
       "      <td>-0.114397</td>\n",
       "      <td>-0.033005</td>\n",
       "      <td>-0.181874</td>\n",
       "      <td>-0.087448</td>\n",
       "      <td>-0.080974</td>\n",
       "      <td>-0.170454</td>\n",
       "      <td>-0.108613</td>\n",
       "      <td>-0.136593</td>\n",
       "      <td>0.096074</td>\n",
       "      <td>-0.070051</td>\n",
       "      <td>NaN</td>\n",
       "    </tr>\n",
       "    <tr>\n",
       "      <th>cigsPerDay</th>\n",
       "      <td>0.350819</td>\n",
       "      <td>-0.242125</td>\n",
       "      <td>0.040727</td>\n",
       "      <td>0.794715</td>\n",
       "      <td>1.000000</td>\n",
       "      <td>-0.114667</td>\n",
       "      <td>-0.057237</td>\n",
       "      <td>-0.152279</td>\n",
       "      <td>-0.076370</td>\n",
       "      <td>-0.065059</td>\n",
       "      <td>-0.139513</td>\n",
       "      <td>-0.098718</td>\n",
       "      <td>-0.112514</td>\n",
       "      <td>0.126621</td>\n",
       "      <td>-0.050637</td>\n",
       "      <td>NaN</td>\n",
       "    </tr>\n",
       "    <tr>\n",
       "      <th>BPMeds</th>\n",
       "      <td>-0.107163</td>\n",
       "      <td>0.114394</td>\n",
       "      <td>0.009650</td>\n",
       "      <td>-0.114397</td>\n",
       "      <td>-0.114667</td>\n",
       "      <td>1.000000</td>\n",
       "      <td>0.028393</td>\n",
       "      <td>0.261530</td>\n",
       "      <td>0.109181</td>\n",
       "      <td>0.110477</td>\n",
       "      <td>0.302829</td>\n",
       "      <td>0.196529</td>\n",
       "      <td>0.047855</td>\n",
       "      <td>0.100742</td>\n",
       "      <td>0.126834</td>\n",
       "      <td>NaN</td>\n",
       "    </tr>\n",
       "    <tr>\n",
       "      <th>prevalentStroke</th>\n",
       "      <td>-0.012418</td>\n",
       "      <td>0.073270</td>\n",
       "      <td>-0.067784</td>\n",
       "      <td>-0.033005</td>\n",
       "      <td>-0.057237</td>\n",
       "      <td>0.028393</td>\n",
       "      <td>1.000000</td>\n",
       "      <td>0.088169</td>\n",
       "      <td>0.030923</td>\n",
       "      <td>-0.003375</td>\n",
       "      <td>0.051050</td>\n",
       "      <td>0.056365</td>\n",
       "      <td>0.021004</td>\n",
       "      <td>0.026763</td>\n",
       "      <td>0.011901</td>\n",
       "      <td>NaN</td>\n",
       "    </tr>\n",
       "    <tr>\n",
       "      <th>prevalentHyp</th>\n",
       "      <td>-0.112147</td>\n",
       "      <td>0.260844</td>\n",
       "      <td>-0.042075</td>\n",
       "      <td>-0.181874</td>\n",
       "      <td>-0.152279</td>\n",
       "      <td>0.261530</td>\n",
       "      <td>0.088169</td>\n",
       "      <td>1.000000</td>\n",
       "      <td>0.076282</td>\n",
       "      <td>0.084820</td>\n",
       "      <td>0.678677</td>\n",
       "      <td>0.570984</td>\n",
       "      <td>0.239669</td>\n",
       "      <td>0.178168</td>\n",
       "      <td>0.099324</td>\n",
       "      <td>NaN</td>\n",
       "    </tr>\n",
       "    <tr>\n",
       "      <th>diabetes</th>\n",
       "      <td>0.010548</td>\n",
       "      <td>0.064170</td>\n",
       "      <td>-0.057301</td>\n",
       "      <td>-0.087448</td>\n",
       "      <td>-0.076370</td>\n",
       "      <td>0.109181</td>\n",
       "      <td>0.030923</td>\n",
       "      <td>0.076282</td>\n",
       "      <td>1.000000</td>\n",
       "      <td>0.078704</td>\n",
       "      <td>0.060868</td>\n",
       "      <td>0.025442</td>\n",
       "      <td>0.095037</td>\n",
       "      <td>0.095222</td>\n",
       "      <td>0.765148</td>\n",
       "      <td>NaN</td>\n",
       "    </tr>\n",
       "    <tr>\n",
       "      <th>totChol</th>\n",
       "      <td>-0.127026</td>\n",
       "      <td>0.078767</td>\n",
       "      <td>0.096077</td>\n",
       "      <td>-0.080974</td>\n",
       "      <td>-0.065059</td>\n",
       "      <td>0.110477</td>\n",
       "      <td>-0.003375</td>\n",
       "      <td>0.084820</td>\n",
       "      <td>0.078704</td>\n",
       "      <td>1.000000</td>\n",
       "      <td>0.132897</td>\n",
       "      <td>0.079798</td>\n",
       "      <td>0.071725</td>\n",
       "      <td>0.058693</td>\n",
       "      <td>0.096797</td>\n",
       "      <td>NaN</td>\n",
       "    </tr>\n",
       "    <tr>\n",
       "      <th>sysBP</th>\n",
       "      <td>-0.142647</td>\n",
       "      <td>0.308960</td>\n",
       "      <td>-0.057088</td>\n",
       "      <td>-0.170454</td>\n",
       "      <td>-0.139513</td>\n",
       "      <td>0.302829</td>\n",
       "      <td>0.051050</td>\n",
       "      <td>0.678677</td>\n",
       "      <td>0.060868</td>\n",
       "      <td>0.132897</td>\n",
       "      <td>1.000000</td>\n",
       "      <td>0.770173</td>\n",
       "      <td>0.268380</td>\n",
       "      <td>0.154991</td>\n",
       "      <td>0.121851</td>\n",
       "      <td>NaN</td>\n",
       "    </tr>\n",
       "    <tr>\n",
       "      <th>diaBP</th>\n",
       "      <td>-0.021705</td>\n",
       "      <td>0.075911</td>\n",
       "      <td>0.029803</td>\n",
       "      <td>-0.108613</td>\n",
       "      <td>-0.098718</td>\n",
       "      <td>0.196529</td>\n",
       "      <td>0.056365</td>\n",
       "      <td>0.570984</td>\n",
       "      <td>0.025442</td>\n",
       "      <td>0.079798</td>\n",
       "      <td>0.770173</td>\n",
       "      <td>1.000000</td>\n",
       "      <td>0.333324</td>\n",
       "      <td>0.165293</td>\n",
       "      <td>0.049739</td>\n",
       "      <td>NaN</td>\n",
       "    </tr>\n",
       "    <tr>\n",
       "      <th>BMI</th>\n",
       "      <td>-0.068325</td>\n",
       "      <td>0.057758</td>\n",
       "      <td>-0.106030</td>\n",
       "      <td>-0.136593</td>\n",
       "      <td>-0.112514</td>\n",
       "      <td>0.047855</td>\n",
       "      <td>0.021004</td>\n",
       "      <td>0.239669</td>\n",
       "      <td>0.095037</td>\n",
       "      <td>0.071725</td>\n",
       "      <td>0.268380</td>\n",
       "      <td>0.333324</td>\n",
       "      <td>1.000000</td>\n",
       "      <td>0.122354</td>\n",
       "      <td>0.087928</td>\n",
       "      <td>NaN</td>\n",
       "    </tr>\n",
       "    <tr>\n",
       "      <th>heartRate</th>\n",
       "      <td>-0.071223</td>\n",
       "      <td>-0.020910</td>\n",
       "      <td>-0.047791</td>\n",
       "      <td>0.096074</td>\n",
       "      <td>0.126621</td>\n",
       "      <td>0.100742</td>\n",
       "      <td>0.026763</td>\n",
       "      <td>0.178168</td>\n",
       "      <td>0.095222</td>\n",
       "      <td>0.058693</td>\n",
       "      <td>0.154991</td>\n",
       "      <td>0.165293</td>\n",
       "      <td>0.122354</td>\n",
       "      <td>1.000000</td>\n",
       "      <td>0.091292</td>\n",
       "      <td>NaN</td>\n",
       "    </tr>\n",
       "    <tr>\n",
       "      <th>glucose</th>\n",
       "      <td>-0.021249</td>\n",
       "      <td>0.091433</td>\n",
       "      <td>-0.014591</td>\n",
       "      <td>-0.070051</td>\n",
       "      <td>-0.050637</td>\n",
       "      <td>0.126834</td>\n",
       "      <td>0.011901</td>\n",
       "      <td>0.099324</td>\n",
       "      <td>0.765148</td>\n",
       "      <td>0.096797</td>\n",
       "      <td>0.121851</td>\n",
       "      <td>0.049739</td>\n",
       "      <td>0.087928</td>\n",
       "      <td>0.091292</td>\n",
       "      <td>1.000000</td>\n",
       "      <td>NaN</td>\n",
       "    </tr>\n",
       "    <tr>\n",
       "      <th>TenYearCHD</th>\n",
       "      <td>NaN</td>\n",
       "      <td>NaN</td>\n",
       "      <td>NaN</td>\n",
       "      <td>NaN</td>\n",
       "      <td>NaN</td>\n",
       "      <td>NaN</td>\n",
       "      <td>NaN</td>\n",
       "      <td>NaN</td>\n",
       "      <td>NaN</td>\n",
       "      <td>NaN</td>\n",
       "      <td>NaN</td>\n",
       "      <td>NaN</td>\n",
       "      <td>NaN</td>\n",
       "      <td>NaN</td>\n",
       "      <td>NaN</td>\n",
       "      <td>NaN</td>\n",
       "    </tr>\n",
       "  </tbody>\n",
       "</table>\n",
       "</div>"
      ],
      "text/plain": [
       "                     male       age  education  currentSmoker  cigsPerDay  \\\n",
       "male             1.000000 -0.101904   0.080395       0.288251    0.350819   \n",
       "age             -0.101904  1.000000  -0.106499      -0.295651   -0.242125   \n",
       "education        0.080395 -0.106499   1.000000       0.010894    0.040727   \n",
       "currentSmoker    0.288251 -0.295651   0.010894       1.000000    0.794715   \n",
       "cigsPerDay       0.350819 -0.242125   0.040727       0.794715    1.000000   \n",
       "BPMeds          -0.107163  0.114394   0.009650      -0.114397   -0.114667   \n",
       "prevalentStroke -0.012418  0.073270  -0.067784      -0.033005   -0.057237   \n",
       "prevalentHyp    -0.112147  0.260844  -0.042075      -0.181874   -0.152279   \n",
       "diabetes         0.010548  0.064170  -0.057301      -0.087448   -0.076370   \n",
       "totChol         -0.127026  0.078767   0.096077      -0.080974   -0.065059   \n",
       "sysBP           -0.142647  0.308960  -0.057088      -0.170454   -0.139513   \n",
       "diaBP           -0.021705  0.075911   0.029803      -0.108613   -0.098718   \n",
       "BMI             -0.068325  0.057758  -0.106030      -0.136593   -0.112514   \n",
       "heartRate       -0.071223 -0.020910  -0.047791       0.096074    0.126621   \n",
       "glucose         -0.021249  0.091433  -0.014591      -0.070051   -0.050637   \n",
       "TenYearCHD            NaN       NaN        NaN            NaN         NaN   \n",
       "\n",
       "                   BPMeds  prevalentStroke  prevalentHyp  diabetes   totChol  \\\n",
       "male            -0.107163        -0.012418     -0.112147  0.010548 -0.127026   \n",
       "age              0.114394         0.073270      0.260844  0.064170  0.078767   \n",
       "education        0.009650        -0.067784     -0.042075 -0.057301  0.096077   \n",
       "currentSmoker   -0.114397        -0.033005     -0.181874 -0.087448 -0.080974   \n",
       "cigsPerDay      -0.114667        -0.057237     -0.152279 -0.076370 -0.065059   \n",
       "BPMeds           1.000000         0.028393      0.261530  0.109181  0.110477   \n",
       "prevalentStroke  0.028393         1.000000      0.088169  0.030923 -0.003375   \n",
       "prevalentHyp     0.261530         0.088169      1.000000  0.076282  0.084820   \n",
       "diabetes         0.109181         0.030923      0.076282  1.000000  0.078704   \n",
       "totChol          0.110477        -0.003375      0.084820  0.078704  1.000000   \n",
       "sysBP            0.302829         0.051050      0.678677  0.060868  0.132897   \n",
       "diaBP            0.196529         0.056365      0.570984  0.025442  0.079798   \n",
       "BMI              0.047855         0.021004      0.239669  0.095037  0.071725   \n",
       "heartRate        0.100742         0.026763      0.178168  0.095222  0.058693   \n",
       "glucose          0.126834         0.011901      0.099324  0.765148  0.096797   \n",
       "TenYearCHD            NaN              NaN           NaN       NaN       NaN   \n",
       "\n",
       "                    sysBP     diaBP       BMI  heartRate   glucose  TenYearCHD  \n",
       "male            -0.142647 -0.021705 -0.068325  -0.071223 -0.021249         NaN  \n",
       "age              0.308960  0.075911  0.057758  -0.020910  0.091433         NaN  \n",
       "education       -0.057088  0.029803 -0.106030  -0.047791 -0.014591         NaN  \n",
       "currentSmoker   -0.170454 -0.108613 -0.136593   0.096074 -0.070051         NaN  \n",
       "cigsPerDay      -0.139513 -0.098718 -0.112514   0.126621 -0.050637         NaN  \n",
       "BPMeds           0.302829  0.196529  0.047855   0.100742  0.126834         NaN  \n",
       "prevalentStroke  0.051050  0.056365  0.021004   0.026763  0.011901         NaN  \n",
       "prevalentHyp     0.678677  0.570984  0.239669   0.178168  0.099324         NaN  \n",
       "diabetes         0.060868  0.025442  0.095037   0.095222  0.765148         NaN  \n",
       "totChol          0.132897  0.079798  0.071725   0.058693  0.096797         NaN  \n",
       "sysBP            1.000000  0.770173  0.268380   0.154991  0.121851         NaN  \n",
       "diaBP            0.770173  1.000000  0.333324   0.165293  0.049739         NaN  \n",
       "BMI              0.268380  0.333324  1.000000   0.122354  0.087928         NaN  \n",
       "heartRate        0.154991  0.165293  0.122354   1.000000  0.091292         NaN  \n",
       "glucose          0.121851  0.049739  0.087928   0.091292  1.000000         NaN  \n",
       "TenYearCHD            NaN       NaN       NaN        NaN       NaN         NaN  "
      ]
     },
     "execution_count": 22,
     "metadata": {},
     "output_type": "execute_result"
    }
   ],
   "source": [
    "df[df['TenYearCHD']==1].corr()"
   ]
  },
  {
   "cell_type": "code",
   "execution_count": null,
   "metadata": {},
   "outputs": [],
   "source": []
  }
 ],
 "metadata": {
  "kernelspec": {
   "display_name": "Python 3",
   "language": "python",
   "name": "python3"
  },
  "language_info": {
   "codemirror_mode": {
    "name": "ipython",
    "version": 3
   },
   "file_extension": ".py",
   "mimetype": "text/x-python",
   "name": "python",
   "nbconvert_exporter": "python",
   "pygments_lexer": "ipython3",
   "version": "3.7.6"
  }
 },
 "nbformat": 4,
 "nbformat_minor": 4
}
