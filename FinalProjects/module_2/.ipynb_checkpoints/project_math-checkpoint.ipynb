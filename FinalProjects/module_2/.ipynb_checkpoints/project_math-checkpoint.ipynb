{
 "cells": [
  {
   "cell_type": "markdown",
   "metadata": {},
   "source": [
    "### Описание датасета"
   ]
  },
  {
   "cell_type": "markdown",
   "metadata": {},
   "source": [
    "1. school — аббревиатура школы, в которой учится ученик\n",
    "2. sex — пол ученика ('F' - женский, 'M' - мужской)\n",
    "3. age — возраст ученика (от 15 до 22)\n",
    "4. address — тип адреса ученика ('U' - городской, 'R' - за городом)\n",
    "5. famsize — размер семьи('LE3' <= 3, 'GT3' >3)\n",
    "6. Pstatus — статус совместного жилья родителей ('T' - живут вместе 'A' - раздельно)\n",
    "7. Medu — образование матери (0 - нет, 1 - 4 класса, 2 - 5-9 классы, 3 - среднее специальное или 11 классов, 4 - высшее)\n",
    "8. Fedu — образование отца (0 - нет, 1 - 4 класса, 2 - 5-9 классы, 3 - среднее специальное или 11 классов, 4 - высшее)\n",
    "9. Mjob — работа матери ('teacher' - учитель, 'health' - сфера здравоохранения, 'services' - гос служба, 'at_home' - не работает, 'other' - другое)\n",
    "10. Fjob — работа отца ('teacher' - учитель, 'health' - сфера здравоохранения, 'services' - гос служба, 'at_home' - не работает, 'other' - другое)\n",
    "11. reason — причина выбора школы ('home' - близость к дому, 'reputation' - репутация школы, 'course' - образовательная программа, 'other' - другое)\n",
    "12. guardian — опекун ('mother' - мать, 'father' - отец, 'other' - другое)\n",
    "13. traveltime — время в пути до школы (1 - <15 мин., 2 - 15-30 мин., 3 - 30-60 мин., 4 - >60 мин.)\n",
    "14. studytime — время на учёбу помимо школы в неделю (1 - <2 часов, 2 - 2-5 часов, 3 - 5-10 часов, 4 - >10 часов)\n",
    "15. failures — количество внеучебных неудач (n, если 1<=n<=3, иначе 0)\n",
    "16. schoolsup — дополнительная образовательная поддержка (yes или no)\n",
    "17. famsup — семейная образовательная поддержка (yes или no)\n",
    "18. paid — дополнительные платные занятия по математике (yes или no)\n",
    "19. activities — дополнительные внеучебные занятия (yes или no)\n",
    "20. nursery — посещал детский сад (yes или no)\n",
    "21. higher — хочет получить высшее образование (yes или no)\n",
    "22. internet — наличие интернета дома (yes или no)\n",
    "23. romantic — в романтических отношениях (yes или no)\n",
    "24. famrel — семейные отношения (от 1 - очень плохо до 5 - очень хорошо)\n",
    "25. freetime — свободное время после школы (от 1 - очень мало до 5 - очень мого)\n",
    "26. goout — проведение времени с друзьями (от 1 - очень мало до 5 - очень много)\n",
    "27. health — текущее состояние здоровья (от 1 - очень плохо до 5 - очень хорошо)\n",
    "28. absences — количество пропущенных занятий\n",
    "29. score — баллы по госэкзамену по математике"
   ]
  },
  {
   "cell_type": "markdown",
   "metadata": {},
   "source": [
    "### Цель проекта"
   ]
  },
  {
   "cell_type": "markdown",
   "metadata": {},
   "source": [
    "Суть проекта — отследить влияние условий жизни учащихся в возрасте от 15 до 22 лет на их успеваемость по математике, чтобы на ранней стадии выявлять студентов, находящихся в группе риска. Чтобы определиться с параметрами будущей модели, необходимо сначала провести разведывательный анализ данных и составить отчёт по его результатам. "
   ]
  },
  {
   "cell_type": "markdown",
   "metadata": {},
   "source": [
    "### 1. Инициализация"
   ]
  },
  {
   "cell_type": "code",
   "execution_count": 70,
   "metadata": {},
   "outputs": [],
   "source": [
    "import pandas as pd\n",
    "import numpy as np\n",
    "import matplotlib.pyplot as plt\n",
    "import seaborn as sns\n",
    "from itertools import combinations\n",
    "from scipy.stats import ttest_ind\n",
    "\n",
    "pd.set_option('display.max_rows', 50)  # показывать больше строк\n",
    "pd.set_option('display.max_columns', 50)  # показывать больше колонок\n",
    "\n",
    "# Первичный анализ даных\n",
    "def analyze_column(df, field):\n",
    "    if df[field].dtypes == np.dtype('O'):\n",
    "        print(pd.DataFrame(df[field].value_counts()))\n",
    "        print('')\n",
    "        print(\"Количество пустых значений:\", (df[field].isnull()).sum())\n",
    "        print('')\n",
    "        print(\"Значений, встретившихся в столбце более 200 раз:\", (df[field].value_counts()>200).sum())\n",
    "        print('')\n",
    "        print(df.loc[:, [field]].info())\n",
    "    else:\n",
    "        print(\"Количество пустых значений:\", (df[field].isnull()).sum())\n",
    "        df[field].hist()\n",
    "        print(df[field].describe())\n",
    "\n",
    "# Проверка на выбросы  и удаление выбросов\n",
    "def check_blowouts(df, field):\n",
    "    median = df[field].median()\n",
    "    perc25 = df[field].quantile(0.25)\n",
    "    perc75 = df[field].quantile(0.75)\n",
    "    IQR = perc75 - perc25\n",
    "    left_bound = perc25 - 1.5*IQR\n",
    "    right_bound = perc75 + 1.5*IQR\n",
    "\n",
    "    print(\"25-й перцентиль: {},\".format(perc25), \"75-й перцентиль: {},\".format(perc75),\n",
    "         \"IQR: {}, \".format(IQR), \"Границы выбросов: [{f}, {l}].\".format(f=left_bound, l=right_bound)) \n",
    "\n",
    "# Устранение выросов\n",
    "def clear_blowouts(df, field):\n",
    "    median = df[field].median()\n",
    "    perc25 = df[field].quantile(0.25)\n",
    "    perc75 = df[field].quantile(0.75)\n",
    "    IQR = perc75 - perc25\n",
    "    left_bound = perc25 - 1.5*IQR\n",
    "    right_bound = perc75 + 1.5*IQR\n",
    "    \n",
    "    df = df[(df[field] >= left_bound) & (df[field] <= right_bound)]\n",
    "    \n",
    "    return df\n",
    "    \n",
    "# Построение графика ящик с усами\n",
    "def get_boxplot(df, column, y_column):\n",
    "    fig, ax = plt.subplots(figsize = (5, 2))\n",
    "    sns.boxplot(x = column, y = y_column, \n",
    "                data = df.loc[df.loc[:, column].isin(df.loc[:, column].value_counts().index[:])],\n",
    "                ax = ax, palette = \"muted\")\n",
    "    plt.xticks(rotation = 45)\n",
    "    ax.set_title('Boxplot for ' + column)\n",
    "    plt.show()\n",
    "\n",
    "# Проведение теста Стьюдента\n",
    "def get_stat_dif(df, column, y):\n",
    "    cols = df.loc[:, column].value_counts().index[:]\n",
    "    combinations_all = list(combinations(cols, 2))\n",
    "    for comb in combinations_all:\n",
    "        if ttest_ind(df.loc[df.loc[:, column] == comb[0], y], \n",
    "                        df.loc[df.loc[:, column] == comb[1], y]).pvalue \\\n",
    "            <= 0.05/len(combinations_all): \n",
    "            print('Найдены статистически значимые различия для колонки', column)\n",
    "            break"
   ]
  },
  {
   "cell_type": "markdown",
   "metadata": {},
   "source": [
    "### 2. Загрузка данных и осмотр"
   ]
  },
  {
   "cell_type": "code",
   "execution_count": 71,
   "metadata": {},
   "outputs": [],
   "source": [
    "students_info = pd.read_csv('stud_math.csv')"
   ]
  },
  {
   "cell_type": "code",
   "execution_count": 72,
   "metadata": {
    "scrolled": false
   },
   "outputs": [
    {
     "name": "stdout",
     "output_type": "stream",
     "text": [
      "<class 'pandas.core.frame.DataFrame'>\n",
      "RangeIndex: 395 entries, 0 to 394\n",
      "Data columns (total 30 columns):\n",
      " #   Column               Non-Null Count  Dtype  \n",
      "---  ------               --------------  -----  \n",
      " 0   school               395 non-null    object \n",
      " 1   sex                  395 non-null    object \n",
      " 2   age                  395 non-null    int64  \n",
      " 3   address              378 non-null    object \n",
      " 4   famsize              368 non-null    object \n",
      " 5   Pstatus              350 non-null    object \n",
      " 6   Medu                 392 non-null    float64\n",
      " 7   Fedu                 371 non-null    float64\n",
      " 8   Mjob                 376 non-null    object \n",
      " 9   Fjob                 359 non-null    object \n",
      " 10  reason               378 non-null    object \n",
      " 11  guardian             364 non-null    object \n",
      " 12  traveltime           367 non-null    float64\n",
      " 13  studytime            388 non-null    float64\n",
      " 14  failures             373 non-null    float64\n",
      " 15  schoolsup            386 non-null    object \n",
      " 16  famsup               356 non-null    object \n",
      " 17  paid                 355 non-null    object \n",
      " 18  activities           381 non-null    object \n",
      " 19  nursery              379 non-null    object \n",
      " 20  studytime, granular  388 non-null    float64\n",
      " 21  higher               375 non-null    object \n",
      " 22  internet             361 non-null    object \n",
      " 23  romantic             364 non-null    object \n",
      " 24  famrel               368 non-null    float64\n",
      " 25  freetime             384 non-null    float64\n",
      " 26  goout                387 non-null    float64\n",
      " 27  health               380 non-null    float64\n",
      " 28  absences             383 non-null    float64\n",
      " 29  score                389 non-null    float64\n",
      "dtypes: float64(12), int64(1), object(17)\n",
      "memory usage: 92.7+ KB\n"
     ]
    }
   ],
   "source": [
    "# Посмотрим на данные в общем\n",
    "students_info.info()"
   ]
  },
  {
   "cell_type": "code",
   "execution_count": 73,
   "metadata": {},
   "outputs": [],
   "source": [
    "# В данных есть какая-то лишняя колонка - studytime, granular.\n",
    "# Удалим ее, т.к не была описана в условиях проекта\n",
    "students_info = students_info.drop('studytime, granular', axis=1) "
   ]
  },
  {
   "cell_type": "markdown",
   "metadata": {},
   "source": [
    "Итого, получается, что в датасете:\n",
    "1. 29 колонок, из них 17 текстовых и 12 числовых\n",
    "2. 395 строк\n",
    "3. Только 3 колонки не содержат пустых значений"
   ]
  },
  {
   "cell_type": "markdown",
   "metadata": {},
   "source": [
    "### Первичный анализ данных"
   ]
  },
  {
   "cell_type": "markdown",
   "metadata": {},
   "source": [
    "#### 1. Анализ поля school"
   ]
  },
  {
   "cell_type": "code",
   "execution_count": 74,
   "metadata": {},
   "outputs": [
    {
     "name": "stdout",
     "output_type": "stream",
     "text": [
      "    school\n",
      "GP     349\n",
      "MS      46\n",
      "\n",
      "Количество пустых значений: 0\n",
      "\n",
      "Значений, встретившихся в столбце более 200 раз: 1\n",
      "\n",
      "<class 'pandas.core.frame.DataFrame'>\n",
      "RangeIndex: 395 entries, 0 to 394\n",
      "Data columns (total 1 columns):\n",
      " #   Column  Non-Null Count  Dtype \n",
      "---  ------  --------------  ----- \n",
      " 0   school  395 non-null    object\n",
      "dtypes: object(1)\n",
      "memory usage: 3.2+ KB\n",
      "None\n"
     ]
    }
   ],
   "source": [
    "analyze_column(students_info,'school')"
   ]
  },
  {
   "cell_type": "markdown",
   "metadata": {},
   "source": [
    "Это текстовое поле, оно не содержит пустых значений. \n",
    "Все ученики делятся на две школы, причем подавляющее большинство относится к школе GP."
   ]
  },
  {
   "cell_type": "markdown",
   "metadata": {},
   "source": [
    "#### 2. Анализ поля sex"
   ]
  },
  {
   "cell_type": "code",
   "execution_count": 75,
   "metadata": {
    "scrolled": true
   },
   "outputs": [
    {
     "name": "stdout",
     "output_type": "stream",
     "text": [
      "   sex\n",
      "F  208\n",
      "M  187\n",
      "\n",
      "Количество пустых значений: 0\n",
      "\n",
      "Значений, встретившихся в столбце более 200 раз: 1\n",
      "\n",
      "<class 'pandas.core.frame.DataFrame'>\n",
      "RangeIndex: 395 entries, 0 to 394\n",
      "Data columns (total 1 columns):\n",
      " #   Column  Non-Null Count  Dtype \n",
      "---  ------  --------------  ----- \n",
      " 0   sex     395 non-null    object\n",
      "dtypes: object(1)\n",
      "memory usage: 3.2+ KB\n",
      "None\n"
     ]
    }
   ],
   "source": [
    "analyze_column(students_info,'sex')"
   ]
  },
  {
   "cell_type": "markdown",
   "metadata": {},
   "source": [
    "Это текстовое поле, оно не содержит пустых значений. \n",
    "Без неожиданностей, как и говорится в описании датасета, данное поле содержит два значения.\n",
    "Распределение по количеству учеников каждого пола приблизительно равнозначное."
   ]
  },
  {
   "cell_type": "markdown",
   "metadata": {},
   "source": [
    "#### 3. Анализ поля age"
   ]
  },
  {
   "cell_type": "code",
   "execution_count": 76,
   "metadata": {
    "scrolled": false
   },
   "outputs": [
    {
     "name": "stdout",
     "output_type": "stream",
     "text": [
      "Количество пустых значений: 0\n",
      "count    395.000000\n",
      "mean      16.696203\n",
      "std        1.276043\n",
      "min       15.000000\n",
      "25%       16.000000\n",
      "50%       17.000000\n",
      "75%       18.000000\n",
      "max       22.000000\n",
      "Name: age, dtype: float64\n"
     ]
    },
    {
     "data": {
      "image/png": "[encoded data removed]",
      "text/plain": [
       "<Figure size 432x288 with 1 Axes>"
      ]
     },
     "metadata": {
      "needs_background": "light"
     },
     "output_type": "display_data"
    }
   ],
   "source": [
    "analyze_column(students_info, 'age')"
   ]
  },
  {
   "cell_type": "markdown",
   "metadata": {},
   "source": [
    "Это поле числовое, и оно также не содержит пустых значений.Большинство учеников находятся в возрасте от 15 до 18 лет.Кажется, что в данных могут быть выбросы, проверим это:"
   ]
  },
  {
   "cell_type": "code",
   "execution_count": 77,
   "metadata": {},
   "outputs": [
    {
     "name": "stdout",
     "output_type": "stream",
     "text": [
      "25-й перцентиль: 16.0, 75-й перцентиль: 18.0, IQR: 2.0,  Границы выбросов: [13.0, 21.0].\n"
     ]
    }
   ],
   "source": [
    "check_blowouts(students_info, 'age')"
   ]
  },
  {
   "cell_type": "markdown",
   "metadata": {},
   "source": [
    "После расчета по формуле межквартильного размаха получили, что выбросом являлся возраст 22 года. Устраним выбросы:"
   ]
  },
  {
   "cell_type": "code",
   "execution_count": 78,
   "metadata": {},
   "outputs": [],
   "source": [
    "students_info = clear_blowouts(students_info, 'age')"
   ]
  },
  {
   "cell_type": "markdown",
   "metadata": {},
   "source": [
    "#### 4. Анализ поля address"
   ]
  },
  {
   "cell_type": "code",
   "execution_count": 79,
   "metadata": {},
   "outputs": [
    {
     "name": "stdout",
     "output_type": "stream",
     "text": [
      "   address\n",
      "U      294\n",
      "R       83\n",
      "\n",
      "Количество пустых значений: 17\n",
      "\n",
      "Значений, встретившихся в столбце более 200 раз: 1\n",
      "\n",
      "<class 'pandas.core.frame.DataFrame'>\n",
      "Int64Index: 394 entries, 0 to 394\n",
      "Data columns (total 1 columns):\n",
      " #   Column   Non-Null Count  Dtype \n",
      "---  ------   --------------  ----- \n",
      " 0   address  377 non-null    object\n",
      "dtypes: object(1)\n",
      "memory usage: 6.2+ KB\n",
      "None\n"
     ]
    }
   ],
   "source": [
    "analyze_column(students_info,'address')"
   ]
  },
  {
   "cell_type": "markdown",
   "metadata": {},
   "source": [
    "Это текстовое поле, и оно содержит 17 пустых значений. Это явно ошибка в даннных, тк в этом поле возможно всего два варианта значений. Однако заполнить пропуски не представляется возможным, тк не знаем каким именно значением.\n",
    "В остальном можно сказать, что большинство учеников проживают в городе."
   ]
  },
  {
   "cell_type": "markdown",
   "metadata": {},
   "source": [
    "#### 5. Анализ поля famsize"
   ]
  },
  {
   "cell_type": "code",
   "execution_count": 80,
   "metadata": {},
   "outputs": [
    {
     "name": "stdout",
     "output_type": "stream",
     "text": [
      "     famsize\n",
      "GT3      260\n",
      "LE3      107\n",
      "\n",
      "Количество пустых значений: 27\n",
      "\n",
      "Значений, встретившихся в столбце более 200 раз: 1\n",
      "\n",
      "<class 'pandas.core.frame.DataFrame'>\n",
      "Int64Index: 394 entries, 0 to 394\n",
      "Data columns (total 1 columns):\n",
      " #   Column   Non-Null Count  Dtype \n",
      "---  ------   --------------  ----- \n",
      " 0   famsize  367 non-null    object\n",
      "dtypes: object(1)\n",
      "memory usage: 6.2+ KB\n",
      "None\n"
     ]
    }
   ],
   "source": [
    "analyze_column(students_info, 'famsize')"
   ]
  },
  {
   "cell_type": "markdown",
   "metadata": {},
   "source": [
    "Это текстовое поле, и оно содержит 27 пустых значений. Это явно ошибка в даннных, тк в этом поле возможно всего два варианта значений. Однако заполнить пропуски не представляется возможным, тк не знаем каким именно значением. В остальном можно сказать, что примерно две трети учеников проживают в семьях, где > 3 человек."
   ]
  },
  {
   "cell_type": "markdown",
   "metadata": {},
   "source": [
    "#### 6. Анализ поля Pstatus"
   ]
  },
  {
   "cell_type": "code",
   "execution_count": 81,
   "metadata": {},
   "outputs": [
    {
     "name": "stdout",
     "output_type": "stream",
     "text": [
      "   Pstatus\n",
      "T      313\n",
      "A       36\n",
      "\n",
      "Количество пустых значений: 45\n",
      "\n",
      "Значений, встретившихся в столбце более 200 раз: 1\n",
      "\n",
      "<class 'pandas.core.frame.DataFrame'>\n",
      "Int64Index: 394 entries, 0 to 394\n",
      "Data columns (total 1 columns):\n",
      " #   Column   Non-Null Count  Dtype \n",
      "---  ------   --------------  ----- \n",
      " 0   Pstatus  349 non-null    object\n",
      "dtypes: object(1)\n",
      "memory usage: 6.2+ KB\n",
      "None\n"
     ]
    }
   ],
   "source": [
    "analyze_column(students_info,'Pstatus')"
   ]
  },
  {
   "cell_type": "markdown",
   "metadata": {},
   "source": [
    "Это текстовое поле, оно содержит 45 пустых значений. Это явно ошибка в даннных, тк в этом поле возможно всего два варианта значений. Однако заполнить пропуски также не представляется возможным, тк не знаем каким именно значением. У большинства учеников родители проживают совместно."
   ]
  },
  {
   "cell_type": "markdown",
   "metadata": {},
   "source": [
    "#### 7. Анализ поля Medu"
   ]
  },
  {
   "cell_type": "code",
   "execution_count": 82,
   "metadata": {
    "scrolled": false
   },
   "outputs": [
    {
     "name": "stdout",
     "output_type": "stream",
     "text": [
      "Количество пустых значений: 3\n",
      "count    391.000000\n",
      "mean       2.749361\n",
      "std        1.099461\n",
      "min        0.000000\n",
      "25%        2.000000\n",
      "50%        3.000000\n",
      "75%        4.000000\n",
      "max        4.000000\n",
      "Name: Medu, dtype: float64\n"
     ]
    },
    {
     "data": {
      "image/png": "[encoded data removed]",
      "text/plain": [
       "<Figure size 432x288 with 1 Axes>"
      ]
     },
     "metadata": {
      "needs_background": "light"
     },
     "output_type": "display_data"
    }
   ],
   "source": [
    "analyze_column(students_info, 'Medu')"
   ]
  },
  {
   "cell_type": "markdown",
   "metadata": {},
   "source": [
    "Это поле числовое, и оно содержит 3 пустых значения.В среднем женщины имеют среднее специальное  образование или 11 классов. Проверим на выбросы:"
   ]
  },
  {
   "cell_type": "code",
   "execution_count": 83,
   "metadata": {},
   "outputs": [
    {
     "name": "stdout",
     "output_type": "stream",
     "text": [
      "25-й перцентиль: 2.0, 75-й перцентиль: 4.0, IQR: 2.0,  Границы выбросов: [-1.0, 7.0].\n"
     ]
    }
   ],
   "source": [
    "check_blowouts(students_info, 'Medu')"
   ]
  },
  {
   "cell_type": "markdown",
   "metadata": {},
   "source": [
    " В данных нет выбросов."
   ]
  },
  {
   "cell_type": "markdown",
   "metadata": {},
   "source": [
    "#### 8. Анализ поля Fedu"
   ]
  },
  {
   "cell_type": "code",
   "execution_count": 84,
   "metadata": {},
   "outputs": [
    {
     "name": "stdout",
     "output_type": "stream",
     "text": [
      "Количество пустых значений: 24\n",
      "count    370.000000\n",
      "mean       2.618919\n",
      "std        2.230163\n",
      "min        0.000000\n",
      "25%        2.000000\n",
      "50%        2.500000\n",
      "75%        3.000000\n",
      "max       40.000000\n",
      "Name: Fedu, dtype: float64\n"
     ]
    },
    {
     "data": {
      "image/png": "[encoded data removed]",
      "text/plain": [
       "<Figure size 432x288 with 1 Axes>"
      ]
     },
     "metadata": {
      "needs_background": "light"
     },
     "output_type": "display_data"
    }
   ],
   "source": [
    "analyze_column(students_info, 'Fedu')"
   ]
  },
  {
   "cell_type": "markdown",
   "metadata": {},
   "source": [
    "Это поле числовое, и оно содержит 24 пустых значения. Глядя на график, можно сразу сказать, что в данных есть выбросы. Проверим это:"
   ]
  },
  {
   "cell_type": "code",
   "execution_count": 85,
   "metadata": {},
   "outputs": [
    {
     "name": "stdout",
     "output_type": "stream",
     "text": [
      "25-й перцентиль: 2.0, 75-й перцентиль: 3.0, IQR: 1.0,  Границы выбросов: [0.5, 4.5].\n"
     ]
    }
   ],
   "source": [
    "check_blowouts(students_info, 'Fedu')"
   ]
  },
  {
   "cell_type": "code",
   "execution_count": 86,
   "metadata": {},
   "outputs": [],
   "source": [
    "students_info = clear_blowouts(students_info, 'Fedu')"
   ]
  },
  {
   "cell_type": "markdown",
   "metadata": {},
   "source": [
    "Посмотрим на распределение еще раз:"
   ]
  },
  {
   "cell_type": "code",
   "execution_count": 87,
   "metadata": {
    "scrolled": false
   },
   "outputs": [
    {
     "name": "stdout",
     "output_type": "stream",
     "text": [
      "Количество пустых значений: 0\n",
      "count    367.000000\n",
      "mean       2.531335\n",
      "std        1.073004\n",
      "min        1.000000\n",
      "25%        2.000000\n",
      "50%        3.000000\n",
      "75%        3.000000\n",
      "max        4.000000\n",
      "Name: Fedu, dtype: float64\n"
     ]
    },
    {
     "data": {
      "image/png": "[encoded data removed]",
      "text/plain": [
       "<Figure size 432x288 with 1 Axes>"
      ]
     },
     "metadata": {
      "needs_background": "light"
     },
     "output_type": "display_data"
    }
   ],
   "source": [
    "analyze_column(students_info, 'Fedu')"
   ]
  },
  {
   "cell_type": "markdown",
   "metadata": {},
   "source": [
    "Большинство значений лежат в интервале от 2 до 4."
   ]
  },
  {
   "cell_type": "markdown",
   "metadata": {},
   "source": [
    "#### 9. Анализ поля Mjob"
   ]
  },
  {
   "cell_type": "code",
   "execution_count": 88,
   "metadata": {},
   "outputs": [
    {
     "name": "stdout",
     "output_type": "stream",
     "text": [
      "          Mjob\n",
      "other      124\n",
      "services    89\n",
      "at_home     57\n",
      "teacher     47\n",
      "health      31\n",
      "\n",
      "Количество пустых значений: 19\n",
      "\n",
      "Значений, встретившихся в столбце более 200 раз: 0\n",
      "\n",
      "<class 'pandas.core.frame.DataFrame'>\n",
      "Int64Index: 367 entries, 0 to 394\n",
      "Data columns (total 1 columns):\n",
      " #   Column  Non-Null Count  Dtype \n",
      "---  ------  --------------  ----- \n",
      " 0   Mjob    348 non-null    object\n",
      "dtypes: object(1)\n",
      "memory usage: 5.7+ KB\n",
      "None\n"
     ]
    }
   ],
   "source": [
    "analyze_column(students_info, 'Mjob')"
   ]
  },
  {
   "cell_type": "markdown",
   "metadata": {},
   "source": [
    "Из первичного осмотра можно понять, что это текстовое поле, и оно содержит 19 пустых значений. Это ошибка в сборе даннных, тк в этом поле возможны ограниченные варианты значений. Так как мы не значем точную сферу, то заполним пропуски значением other."
   ]
  },
  {
   "cell_type": "code",
   "execution_count": 89,
   "metadata": {},
   "outputs": [],
   "source": [
    "students_info.Mjob = students_info.Mjob.fillna('other')"
   ]
  },
  {
   "cell_type": "markdown",
   "metadata": {},
   "source": [
    "Больше всего женщин работает в сфере other, но явно сильного перекоса в сторону какого-то одного значения нет."
   ]
  },
  {
   "cell_type": "markdown",
   "metadata": {},
   "source": [
    "#### 10. Анализ поля Fjob"
   ]
  },
  {
   "cell_type": "code",
   "execution_count": 90,
   "metadata": {},
   "outputs": [
    {
     "name": "stdout",
     "output_type": "stream",
     "text": [
      "          Fjob\n",
      "other      187\n",
      "services    93\n",
      "teacher     26\n",
      "at_home     14\n",
      "health      13\n",
      "\n",
      "Количество пустых значений: 34\n",
      "\n",
      "Значений, встретившихся в столбце более 200 раз: 0\n",
      "\n",
      "<class 'pandas.core.frame.DataFrame'>\n",
      "Int64Index: 367 entries, 0 to 394\n",
      "Data columns (total 1 columns):\n",
      " #   Column  Non-Null Count  Dtype \n",
      "---  ------  --------------  ----- \n",
      " 0   Fjob    333 non-null    object\n",
      "dtypes: object(1)\n",
      "memory usage: 5.7+ KB\n",
      "None\n"
     ]
    }
   ],
   "source": [
    "analyze_column(students_info, 'Fjob')"
   ]
  },
  {
   "cell_type": "markdown",
   "metadata": {},
   "source": [
    "Из первичного осмотра можно понять, что это текстовое поле, и оно содержит 34 пустых значения. Это ошибка в сборе даннных, тк в этом поле возможны ограниченные варианты значений. Так как мы не значем точную сферу, то заполним пропуски значением other."
   ]
  },
  {
   "cell_type": "code",
   "execution_count": 91,
   "metadata": {},
   "outputs": [],
   "source": [
    "students_info.Fjob = students_info.Fjob.fillna('other')"
   ]
  },
  {
   "cell_type": "markdown",
   "metadata": {},
   "source": [
    "Больше всего мужчин работает в сфере other."
   ]
  },
  {
   "cell_type": "markdown",
   "metadata": {},
   "source": [
    "#### 11. Анализ поля reason"
   ]
  },
  {
   "cell_type": "code",
   "execution_count": 92,
   "metadata": {},
   "outputs": [
    {
     "name": "stdout",
     "output_type": "stream",
     "text": [
      "            reason\n",
      "course         127\n",
      "reputation      97\n",
      "home            96\n",
      "other           31\n",
      "\n",
      "Количество пустых значений: 16\n",
      "\n",
      "Значений, встретившихся в столбце более 200 раз: 0\n",
      "\n",
      "<class 'pandas.core.frame.DataFrame'>\n",
      "Int64Index: 367 entries, 0 to 394\n",
      "Data columns (total 1 columns):\n",
      " #   Column  Non-Null Count  Dtype \n",
      "---  ------  --------------  ----- \n",
      " 0   reason  351 non-null    object\n",
      "dtypes: object(1)\n",
      "memory usage: 5.7+ KB\n",
      "None\n"
     ]
    }
   ],
   "source": [
    "analyze_column(students_info, 'reason')"
   ]
  },
  {
   "cell_type": "markdown",
   "metadata": {},
   "source": [
    "Из первичного осмотра можно понять, что это текстовое поле, и оно содержит 16 пустых значений. Это ошибка в сборе даннных, тк в этом поле возможны ограниченные варианты значений. Больше всего учеников выбрали свою школу исходя из образовательной программы, но явно сильного перекоса в сторону какого-то одного значения нет."
   ]
  },
  {
   "cell_type": "markdown",
   "metadata": {},
   "source": [
    "Так как в данных есть пропуски, а мы не занем точную причину выбора школы, то логичным кажется заменить пропуски на значение other."
   ]
  },
  {
   "cell_type": "code",
   "execution_count": 93,
   "metadata": {},
   "outputs": [],
   "source": [
    "students_info.reason = students_info.reason.fillna('other')"
   ]
  },
  {
   "cell_type": "markdown",
   "metadata": {},
   "source": [
    "#### 12. Анализ поля guardian"
   ]
  },
  {
   "cell_type": "code",
   "execution_count": 94,
   "metadata": {},
   "outputs": [
    {
     "name": "stdout",
     "output_type": "stream",
     "text": [
      "        guardian\n",
      "mother       233\n",
      "father        78\n",
      "other         26\n",
      "\n",
      "Количество пустых значений: 30\n",
      "\n",
      "Значений, встретившихся в столбце более 200 раз: 1\n",
      "\n",
      "<class 'pandas.core.frame.DataFrame'>\n",
      "Int64Index: 367 entries, 0 to 394\n",
      "Data columns (total 1 columns):\n",
      " #   Column    Non-Null Count  Dtype \n",
      "---  ------    --------------  ----- \n",
      " 0   guardian  337 non-null    object\n",
      "dtypes: object(1)\n",
      "memory usage: 5.7+ KB\n",
      "None\n"
     ]
    }
   ],
   "source": [
    "analyze_column(students_info, 'guardian')"
   ]
  },
  {
   "cell_type": "markdown",
   "metadata": {},
   "source": [
    "Из первичного осмотра можно понять, что это текстовое поле, и оно содержит 30 пустых значений. Это ошибка в сборе даннных, тк в этом поле возможны ограниченные варианты значений. Однако, самостоятельно заполнить пропуски не преставляется возможным, тк вариантов несколько."
   ]
  },
  {
   "cell_type": "markdown",
   "metadata": {},
   "source": [
    "Для большинства студентов опекуном является мама."
   ]
  },
  {
   "cell_type": "markdown",
   "metadata": {},
   "source": [
    "#### 13. Анализ поля traveltime"
   ]
  },
  {
   "cell_type": "code",
   "execution_count": 95,
   "metadata": {},
   "outputs": [
    {
     "name": "stdout",
     "output_type": "stream",
     "text": [
      "Количество пустых значений: 25\n",
      "count    342.000000\n",
      "mean       1.447368\n",
      "std        0.703057\n",
      "min        1.000000\n",
      "25%        1.000000\n",
      "50%        1.000000\n",
      "75%        2.000000\n",
      "max        4.000000\n",
      "Name: traveltime, dtype: float64\n"
     ]
    },
    {
     "data": {
      "image/png": "[encoded data removed]",
      "text/plain": [
       "<Figure size 432x288 with 1 Axes>"
      ]
     },
     "metadata": {
      "needs_background": "light"
     },
     "output_type": "display_data"
    }
   ],
   "source": [
    "analyze_column(students_info, 'traveltime')"
   ]
  },
  {
   "cell_type": "markdown",
   "metadata": {},
   "source": [
    "Это поле числовое, и оно содержит 25 пустых значений. Проверим данные на выбросы:"
   ]
  },
  {
   "cell_type": "code",
   "execution_count": 96,
   "metadata": {},
   "outputs": [
    {
     "name": "stdout",
     "output_type": "stream",
     "text": [
      "25-й перцентиль: 1.0, 75-й перцентиль: 2.0, IQR: 1.0,  Границы выбросов: [-0.5, 3.5].\n"
     ]
    }
   ],
   "source": [
    "check_blowouts(students_info, 'traveltime')"
   ]
  },
  {
   "cell_type": "markdown",
   "metadata": {},
   "source": [
    "Устраним выбросы:"
   ]
  },
  {
   "cell_type": "code",
   "execution_count": 97,
   "metadata": {},
   "outputs": [],
   "source": [
    "students_info = clear_blowouts(students_info, 'traveltime')"
   ]
  },
  {
   "cell_type": "markdown",
   "metadata": {},
   "source": [
    "Большинство студентов тратит на дорогу менее 15 минут."
   ]
  },
  {
   "cell_type": "markdown",
   "metadata": {},
   "source": [
    "#### 14. Анализ поля studytime"
   ]
  },
  {
   "cell_type": "code",
   "execution_count": 99,
   "metadata": {},
   "outputs": [
    {
     "name": "stdout",
     "output_type": "stream",
     "text": [
      "Количество пустых значений: 6\n",
      "count    329.000000\n",
      "mean       2.027356\n",
      "std        0.835117\n",
      "min        1.000000\n",
      "25%        1.000000\n",
      "50%        2.000000\n",
      "75%        2.000000\n",
      "max        4.000000\n",
      "Name: studytime, dtype: float64\n"
     ]
    },
    {
     "data": {
      "image/png": "[encoded data removed]",
      "text/plain": [
       "<Figure size 432x288 with 1 Axes>"
      ]
     },
     "metadata": {
      "needs_background": "light"
     },
     "output_type": "display_data"
    }
   ],
   "source": [
    "analyze_column(students_info, 'studytime')"
   ]
  },
  {
   "cell_type": "markdown",
   "metadata": {},
   "source": [
    "Это поле числовое, и оно содержит 6 пустых значений. Проверим поле на наличие выбросов:"
   ]
  },
  {
   "cell_type": "code",
   "execution_count": 100,
   "metadata": {},
   "outputs": [
    {
     "name": "stdout",
     "output_type": "stream",
     "text": [
      "25-й перцентиль: 1.0, 75-й перцентиль: 2.0, IQR: 1.0,  Границы выбросов: [-0.5, 3.5].\n"
     ]
    }
   ],
   "source": [
    "check_blowouts(students_info, 'studytime')"
   ]
  },
  {
   "cell_type": "markdown",
   "metadata": {},
   "source": [
    "Устраним выбросы:"
   ]
  },
  {
   "cell_type": "code",
   "execution_count": 101,
   "metadata": {},
   "outputs": [],
   "source": [
    "students_info = clear_blowouts(students_info, 'studytime')"
   ]
  },
  {
   "cell_type": "markdown",
   "metadata": {},
   "source": [
    "Большинство студентов тратит на учебу от 2 до 5 часов."
   ]
  },
  {
   "cell_type": "markdown",
   "metadata": {},
   "source": [
    "#### 15. Анализ поля failures"
   ]
  },
  {
   "cell_type": "code",
   "execution_count": 102,
   "metadata": {},
   "outputs": [
    {
     "name": "stdout",
     "output_type": "stream",
     "text": [
      "Количество пустых значений: 13\n",
      "count    294.000000\n",
      "mean       0.333333\n",
      "std        0.728113\n",
      "min        0.000000\n",
      "25%        0.000000\n",
      "50%        0.000000\n",
      "75%        0.000000\n",
      "max        3.000000\n",
      "Name: failures, dtype: float64\n"
     ]
    },
    {
     "data": {
      "image/png": "[encoded data removed]",
      "text/plain": [
       "<Figure size 432x288 with 1 Axes>"
      ]
     },
     "metadata": {
      "needs_background": "light"
     },
     "output_type": "display_data"
    }
   ],
   "source": [
    "analyze_column(students_info, 'failures')"
   ]
  },
  {
   "cell_type": "markdown",
   "metadata": {},
   "source": [
    "Это поле числовое, оно содержит 13 пустых значений. Подавляющее большинство значений относится к 0, но что-то адекватное сказать об этом поле сложно. Не понятно, какие именно значения помечаются нулем, мы знаем только что значения от 1 до 3 помечаются как n, в остальных случаях проставляется 0, т.е это может быть как < 1, так и больше 3 неудач. Проверим поле на выбросы и устраним их:"
   ]
  },
  {
   "cell_type": "code",
   "execution_count": 103,
   "metadata": {},
   "outputs": [
    {
     "name": "stdout",
     "output_type": "stream",
     "text": [
      "25-й перцентиль: 0.0, 75-й перцентиль: 0.0, IQR: 0.0,  Границы выбросов: [0.0, 0.0].\n"
     ]
    }
   ],
   "source": [
    "check_blowouts(students_info, 'failures')"
   ]
  },
  {
   "cell_type": "markdown",
   "metadata": {},
   "source": [
    "Мы получили, что выбросом является любое значение кроме 0, таким образом, если мы устраним выбросы, то этот параметр не будет нам говорить вообще ни о чем. Думаю, что можно этот столбец вообще удалить."
   ]
  },
  {
   "cell_type": "code",
   "execution_count": 104,
   "metadata": {},
   "outputs": [],
   "source": [
    "students_info = students_info.drop('failures', axis=1)"
   ]
  },
  {
   "cell_type": "markdown",
   "metadata": {},
   "source": [
    "#### 16. Анализ поля schoolsup"
   ]
  },
  {
   "cell_type": "code",
   "execution_count": 105,
   "metadata": {},
   "outputs": [
    {
     "name": "stdout",
     "output_type": "stream",
     "text": [
      "     schoolsup\n",
      "no         261\n",
      "yes         38\n",
      "\n",
      "Количество пустых значений: 8\n",
      "\n",
      "Значений, встретившихся в столбце более 200 раз: 1\n",
      "\n",
      "<class 'pandas.core.frame.DataFrame'>\n",
      "Int64Index: 307 entries, 0 to 394\n",
      "Data columns (total 1 columns):\n",
      " #   Column     Non-Null Count  Dtype \n",
      "---  ------     --------------  ----- \n",
      " 0   schoolsup  299 non-null    object\n",
      "dtypes: object(1)\n",
      "memory usage: 4.8+ KB\n",
      "None\n"
     ]
    }
   ],
   "source": [
    "analyze_column(students_info, 'schoolsup')"
   ]
  },
  {
   "cell_type": "markdown",
   "metadata": {},
   "source": [
    "Это текстовое поле, оно содержит 8 пустых значений. Это ошибка в сборе даннных, тк в этом поле возможны только два варианта значений. Кажется логичным заполнить пропущенные значения вариантом no."
   ]
  },
  {
   "cell_type": "code",
   "execution_count": 106,
   "metadata": {},
   "outputs": [],
   "source": [
    "students_info.schoolsup = students_info.schoolsup.fillna('no')"
   ]
  },
  {
   "cell_type": "markdown",
   "metadata": {},
   "source": [
    "Подавляющее большинство студентов не имеют дополнительной образовательной поддержки."
   ]
  },
  {
   "cell_type": "markdown",
   "metadata": {},
   "source": [
    "#### 17. Анализ поля famsup"
   ]
  },
  {
   "cell_type": "code",
   "execution_count": 107,
   "metadata": {},
   "outputs": [
    {
     "name": "stdout",
     "output_type": "stream",
     "text": [
      "     famsup\n",
      "yes     169\n",
      "no      111\n",
      "\n",
      "Количество пустых значений: 27\n",
      "\n",
      "Значений, встретившихся в столбце более 200 раз: 0\n",
      "\n",
      "<class 'pandas.core.frame.DataFrame'>\n",
      "Int64Index: 307 entries, 0 to 394\n",
      "Data columns (total 1 columns):\n",
      " #   Column  Non-Null Count  Dtype \n",
      "---  ------  --------------  ----- \n",
      " 0   famsup  280 non-null    object\n",
      "dtypes: object(1)\n",
      "memory usage: 4.8+ KB\n",
      "None\n"
     ]
    }
   ],
   "source": [
    "analyze_column(students_info, 'famsup')"
   ]
  },
  {
   "cell_type": "markdown",
   "metadata": {},
   "source": [
    "Это текстовое поле, и оно содержит 27 пустых значений. Это ошибка в сборе даннных, тк в этом поле возможны только два варианта значений. Кажется логичным заполнить пропущенные значения вариантом no."
   ]
  },
  {
   "cell_type": "code",
   "execution_count": 108,
   "metadata": {},
   "outputs": [],
   "source": [
    "students_info.famsup = students_info.famsup.fillna('no')"
   ]
  },
  {
   "cell_type": "markdown",
   "metadata": {},
   "source": [
    "Около двух третей студентов имеет семейную образовательную поддержку."
   ]
  },
  {
   "cell_type": "markdown",
   "metadata": {},
   "source": [
    "#### 18. Анализ поля paid"
   ]
  },
  {
   "cell_type": "code",
   "execution_count": 109,
   "metadata": {},
   "outputs": [
    {
     "name": "stdout",
     "output_type": "stream",
     "text": [
      "     paid\n",
      "no    158\n",
      "yes   118\n",
      "\n",
      "Количество пустых значений: 31\n",
      "\n",
      "Значений, встретившихся в столбце более 200 раз: 0\n",
      "\n",
      "<class 'pandas.core.frame.DataFrame'>\n",
      "Int64Index: 307 entries, 0 to 394\n",
      "Data columns (total 1 columns):\n",
      " #   Column  Non-Null Count  Dtype \n",
      "---  ------  --------------  ----- \n",
      " 0   paid    276 non-null    object\n",
      "dtypes: object(1)\n",
      "memory usage: 4.8+ KB\n",
      "None\n"
     ]
    }
   ],
   "source": [
    "analyze_column(students_info, 'paid')"
   ]
  },
  {
   "cell_type": "markdown",
   "metadata": {},
   "source": [
    "Это текстовое поле, и оно содержит 31 пустое значение. Это ошибка в сборе даннных, тк в этом поле возможны только два варианта значений. Кажется логичным заполнить пропущенные значения вариантом no."
   ]
  },
  {
   "cell_type": "code",
   "execution_count": 110,
   "metadata": {},
   "outputs": [],
   "source": [
    "students_info.paid = students_info.paid.fillna('no')"
   ]
  },
  {
   "cell_type": "markdown",
   "metadata": {},
   "source": [
    "Явно сильного перекоса в сторону какого-то одного значения нет."
   ]
  },
  {
   "cell_type": "markdown",
   "metadata": {},
   "source": [
    "#### 19. Анализ поля activities"
   ]
  },
  {
   "cell_type": "code",
   "execution_count": 111,
   "metadata": {},
   "outputs": [
    {
     "name": "stdout",
     "output_type": "stream",
     "text": [
      "     activities\n",
      "no          149\n",
      "yes         146\n",
      "\n",
      "Количество пустых значений: 12\n",
      "\n",
      "Значений, встретившихся в столбце более 200 раз: 0\n",
      "\n",
      "<class 'pandas.core.frame.DataFrame'>\n",
      "Int64Index: 307 entries, 0 to 394\n",
      "Data columns (total 1 columns):\n",
      " #   Column      Non-Null Count  Dtype \n",
      "---  ------      --------------  ----- \n",
      " 0   activities  295 non-null    object\n",
      "dtypes: object(1)\n",
      "memory usage: 4.8+ KB\n",
      "None\n"
     ]
    }
   ],
   "source": [
    "analyze_column(students_info, 'activities')"
   ]
  },
  {
   "cell_type": "markdown",
   "metadata": {},
   "source": [
    "Это текстовое поле, и оно содержит 12 пустых значений. Это ошибка в сборе даннных, тк в этом поле возможны только два варианта значений. Кажется логичным заполнить пропущенные значения вариантом no."
   ]
  },
  {
   "cell_type": "code",
   "execution_count": 112,
   "metadata": {},
   "outputs": [],
   "source": [
    "students_info.activities = students_info.activities.fillna('no')"
   ]
  },
  {
   "cell_type": "markdown",
   "metadata": {},
   "source": [
    "Количество студентов с внеучебными занятиями и без них почти одинаково, явно сильного перекоса в сторону какого-то одного значения нет."
   ]
  },
  {
   "cell_type": "markdown",
   "metadata": {},
   "source": [
    "#### 20. Анализ поля nursery"
   ]
  },
  {
   "cell_type": "code",
   "execution_count": 113,
   "metadata": {
    "scrolled": true
   },
   "outputs": [
    {
     "name": "stdout",
     "output_type": "stream",
     "text": [
      "     nursery\n",
      "yes      229\n",
      "no        62\n",
      "\n",
      "Количество пустых значений: 16\n",
      "\n",
      "Значений, встретившихся в столбце более 200 раз: 1\n",
      "\n",
      "<class 'pandas.core.frame.DataFrame'>\n",
      "Int64Index: 307 entries, 0 to 394\n",
      "Data columns (total 1 columns):\n",
      " #   Column   Non-Null Count  Dtype \n",
      "---  ------   --------------  ----- \n",
      " 0   nursery  291 non-null    object\n",
      "dtypes: object(1)\n",
      "memory usage: 4.8+ KB\n",
      "None\n"
     ]
    }
   ],
   "source": [
    "analyze_column(students_info, 'nursery')"
   ]
  },
  {
   "cell_type": "markdown",
   "metadata": {},
   "source": [
    "Это текстовое поле, и оно содержит 16 пустых значений. Это ошибка в сборе даннных, тк в этом поле возможны только два варианта значений. Кажется логичным заполнить пропущенные значения вариантом no."
   ]
  },
  {
   "cell_type": "code",
   "execution_count": 114,
   "metadata": {},
   "outputs": [],
   "source": [
    "students_info.nursery = students_info.nursery.fillna('no')"
   ]
  },
  {
   "cell_type": "markdown",
   "metadata": {},
   "source": [
    "Большинство студентов посещали детский сад раньше."
   ]
  },
  {
   "cell_type": "markdown",
   "metadata": {},
   "source": [
    "#### 21. Анализ поля higher"
   ]
  },
  {
   "cell_type": "code",
   "execution_count": 115,
   "metadata": {},
   "outputs": [
    {
     "name": "stdout",
     "output_type": "stream",
     "text": [
      "     higher\n",
      "yes     277\n",
      "no       16\n",
      "\n",
      "Количество пустых значений: 14\n",
      "\n",
      "Значений, встретившихся в столбце более 200 раз: 1\n",
      "\n",
      "<class 'pandas.core.frame.DataFrame'>\n",
      "Int64Index: 307 entries, 0 to 394\n",
      "Data columns (total 1 columns):\n",
      " #   Column  Non-Null Count  Dtype \n",
      "---  ------  --------------  ----- \n",
      " 0   higher  293 non-null    object\n",
      "dtypes: object(1)\n",
      "memory usage: 4.8+ KB\n",
      "None\n"
     ]
    }
   ],
   "source": [
    "analyze_column(students_info, 'higher')"
   ]
  },
  {
   "cell_type": "markdown",
   "metadata": {},
   "source": [
    "Это текстовое поле, и оно содержит 14 пустых значений. Это ошибка в сборе даннных, тк в этом поле возможны только два варианта значений. Кажется логичным заполнить пропущенные значения вариантом no."
   ]
  },
  {
   "cell_type": "code",
   "execution_count": 116,
   "metadata": {},
   "outputs": [],
   "source": [
    "students_info.higher = students_info.higher.fillna('no')"
   ]
  },
  {
   "cell_type": "markdown",
   "metadata": {},
   "source": [
    "Подавляющее большинство студентов хотят получить высшее образование"
   ]
  },
  {
   "cell_type": "markdown",
   "metadata": {},
   "source": [
    "#### 22. Анализ поля internet"
   ]
  },
  {
   "cell_type": "code",
   "execution_count": 117,
   "metadata": {},
   "outputs": [
    {
     "name": "stdout",
     "output_type": "stream",
     "text": [
      "     internet\n",
      "yes       235\n",
      "no         43\n",
      "\n",
      "Количество пустых значений: 29\n",
      "\n",
      "Значений, встретившихся в столбце более 200 раз: 1\n",
      "\n",
      "<class 'pandas.core.frame.DataFrame'>\n",
      "Int64Index: 307 entries, 0 to 394\n",
      "Data columns (total 1 columns):\n",
      " #   Column    Non-Null Count  Dtype \n",
      "---  ------    --------------  ----- \n",
      " 0   internet  278 non-null    object\n",
      "dtypes: object(1)\n",
      "memory usage: 4.8+ KB\n",
      "None\n"
     ]
    }
   ],
   "source": [
    "analyze_column(students_info, 'internet')"
   ]
  },
  {
   "cell_type": "markdown",
   "metadata": {},
   "source": [
    "Это текстовое поле, и оно содержит 29 пустых значений. Это ошибка в сборе даннных, тк в этом поле возможны только два варианта значений. Кажется логичным заполнить пропущенные значения вариантом no."
   ]
  },
  {
   "cell_type": "code",
   "execution_count": 118,
   "metadata": {},
   "outputs": [],
   "source": [
    "students_info.internet = students_info.internet.fillna('no')"
   ]
  },
  {
   "cell_type": "markdown",
   "metadata": {},
   "source": [
    "Большинство студентов имеют дома интернет."
   ]
  },
  {
   "cell_type": "markdown",
   "metadata": {},
   "source": [
    "#### 23. Анализ поля romantic"
   ]
  },
  {
   "cell_type": "code",
   "execution_count": 119,
   "metadata": {
    "scrolled": true
   },
   "outputs": [
    {
     "name": "stdout",
     "output_type": "stream",
     "text": [
      "     romantic\n",
      "no        188\n",
      "yes       100\n",
      "\n",
      "Количество пустых значений: 19\n",
      "\n",
      "Значений, встретившихся в столбце более 200 раз: 0\n",
      "\n",
      "<class 'pandas.core.frame.DataFrame'>\n",
      "Int64Index: 307 entries, 0 to 394\n",
      "Data columns (total 1 columns):\n",
      " #   Column    Non-Null Count  Dtype \n",
      "---  ------    --------------  ----- \n",
      " 0   romantic  288 non-null    object\n",
      "dtypes: object(1)\n",
      "memory usage: 4.8+ KB\n",
      "None\n"
     ]
    }
   ],
   "source": [
    "analyze_column(students_info, 'romantic')"
   ]
  },
  {
   "cell_type": "markdown",
   "metadata": {},
   "source": [
    "Это текстовое поле, и оно содержит 19 пустых значений. Это ошибка в сборе даннных, тк в этом поле возможны только два варианта значений. Кажется логичным заполнить пропущенные значения вариантом no."
   ]
  },
  {
   "cell_type": "code",
   "execution_count": 120,
   "metadata": {},
   "outputs": [],
   "source": [
    "students_info.romantic = students_info.romantic.fillna('no')"
   ]
  },
  {
   "cell_type": "markdown",
   "metadata": {},
   "source": [
    "Примерно две трети студентов не состоят в романтических отношениях."
   ]
  },
  {
   "cell_type": "markdown",
   "metadata": {},
   "source": [
    "#### 24. Анализ поля famrel"
   ]
  },
  {
   "cell_type": "code",
   "execution_count": 121,
   "metadata": {},
   "outputs": [
    {
     "name": "stdout",
     "output_type": "stream",
     "text": [
      "Количество пустых значений: 21\n",
      "count    286.000000\n",
      "mean       3.930070\n",
      "std        0.911142\n",
      "min       -1.000000\n",
      "25%        4.000000\n",
      "50%        4.000000\n",
      "75%        5.000000\n",
      "max        5.000000\n",
      "Name: famrel, dtype: float64\n"
     ]
    },
    {
     "data": {
      "image/png": "[encoded data removed]",
      "text/plain": [
       "<Figure size 432x288 with 1 Axes>"
      ]
     },
     "metadata": {
      "needs_background": "light"
     },
     "output_type": "display_data"
    }
   ],
   "source": [
    "analyze_column(students_info, 'famrel')"
   ]
  },
  {
   "cell_type": "markdown",
   "metadata": {},
   "source": [
    "Это поле числовое, и оно содержит 21 пустое значение. Проверим данные на выбросы:"
   ]
  },
  {
   "cell_type": "code",
   "execution_count": 122,
   "metadata": {},
   "outputs": [
    {
     "name": "stdout",
     "output_type": "stream",
     "text": [
      "25-й перцентиль: 4.0, 75-й перцентиль: 5.0, IQR: 1.0,  Границы выбросов: [2.5, 6.5].\n"
     ]
    }
   ],
   "source": [
    "check_blowouts(students_info, 'famrel')"
   ]
  },
  {
   "cell_type": "markdown",
   "metadata": {},
   "source": [
    "Устраним выбросы:"
   ]
  },
  {
   "cell_type": "code",
   "execution_count": 123,
   "metadata": {},
   "outputs": [],
   "source": [
    "students_info = clear_blowouts(students_info, 'famrel')"
   ]
  },
  {
   "cell_type": "markdown",
   "metadata": {},
   "source": [
    "Большинство значений лежит в интервале от 4 до 5."
   ]
  },
  {
   "cell_type": "markdown",
   "metadata": {},
   "source": [
    "#### 25. Анализ поля freetime"
   ]
  },
  {
   "cell_type": "code",
   "execution_count": 125,
   "metadata": {
    "scrolled": false
   },
   "outputs": [
    {
     "name": "stdout",
     "output_type": "stream",
     "text": [
      "Количество пустых значений: 7\n",
      "count    260.000000\n",
      "mean       3.253846\n",
      "std        0.965118\n",
      "min        1.000000\n",
      "25%        3.000000\n",
      "50%        3.000000\n",
      "75%        4.000000\n",
      "max        5.000000\n",
      "Name: freetime, dtype: float64\n"
     ]
    },
    {
     "data": {
      "image/png": "[encoded data removed]",
      "text/plain": [
       "<Figure size 432x288 with 1 Axes>"
      ]
     },
     "metadata": {
      "needs_background": "light"
     },
     "output_type": "display_data"
    }
   ],
   "source": [
    "analyze_column(students_info, 'freetime')"
   ]
  },
  {
   "cell_type": "markdown",
   "metadata": {},
   "source": [
    "Это поле числовое, и оно содержит 7 пустых значений. Посмотрим на выбросы:"
   ]
  },
  {
   "cell_type": "code",
   "execution_count": 126,
   "metadata": {},
   "outputs": [
    {
     "name": "stdout",
     "output_type": "stream",
     "text": [
      "25-й перцентиль: 3.0, 75-й перцентиль: 4.0, IQR: 1.0,  Границы выбросов: [1.5, 5.5].\n"
     ]
    }
   ],
   "source": [
    "check_blowouts(students_info, 'freetime')"
   ]
  },
  {
   "cell_type": "markdown",
   "metadata": {},
   "source": [
    "В данных есть выбросы, устраним их:"
   ]
  },
  {
   "cell_type": "code",
   "execution_count": 127,
   "metadata": {},
   "outputs": [],
   "source": [
    "students_info = clear_blowouts(students_info, 'freetime')"
   ]
  },
  {
   "cell_type": "markdown",
   "metadata": {},
   "source": [
    "Большинство значений лежат в интервале от 3 до 5."
   ]
  },
  {
   "cell_type": "markdown",
   "metadata": {},
   "source": [
    "#### 26. Анализ поля goout"
   ]
  },
  {
   "cell_type": "code",
   "execution_count": 129,
   "metadata": {},
   "outputs": [
    {
     "name": "stdout",
     "output_type": "stream",
     "text": [
      "Количество пустых значений: 6\n",
      "count    244.000000\n",
      "mean       3.127049\n",
      "std        1.063927\n",
      "min        1.000000\n",
      "25%        2.000000\n",
      "50%        3.000000\n",
      "75%        4.000000\n",
      "max        5.000000\n",
      "Name: goout, dtype: float64\n"
     ]
    },
    {
     "data": {
      "image/png": "[encoded data removed]",
      "text/plain": [
       "<Figure size 432x288 with 1 Axes>"
      ]
     },
     "metadata": {
      "needs_background": "light"
     },
     "output_type": "display_data"
    }
   ],
   "source": [
    "analyze_column(students_info, 'goout')"
   ]
  },
  {
   "cell_type": "markdown",
   "metadata": {},
   "source": [
    "Это числовое поле и оно содержит 6 пустых значений. Проверим поле на выбросы:"
   ]
  },
  {
   "cell_type": "code",
   "execution_count": 130,
   "metadata": {},
   "outputs": [
    {
     "name": "stdout",
     "output_type": "stream",
     "text": [
      "25-й перцентиль: 2.0, 75-й перцентиль: 4.0, IQR: 2.0,  Границы выбросов: [-1.0, 7.0].\n"
     ]
    }
   ],
   "source": [
    "check_blowouts(students_info, 'goout')"
   ]
  },
  {
   "cell_type": "markdown",
   "metadata": {},
   "source": [
    "В данных нет выбросов. Большинство значений лежат в интервале от 3 до 5."
   ]
  },
  {
   "cell_type": "markdown",
   "metadata": {},
   "source": [
    "#### 27. Анализ поля health"
   ]
  },
  {
   "cell_type": "code",
   "execution_count": 131,
   "metadata": {
    "scrolled": false
   },
   "outputs": [
    {
     "name": "stdout",
     "output_type": "stream",
     "text": [
      "Количество пустых значений: 7\n",
      "count    243.000000\n",
      "mean       3.502058\n",
      "std        1.382818\n",
      "min        1.000000\n",
      "25%        3.000000\n",
      "50%        4.000000\n",
      "75%        5.000000\n",
      "max        5.000000\n",
      "Name: health, dtype: float64\n"
     ]
    },
    {
     "data": {
      "image/png": "[encoded data removed]",
      "text/plain": [
       "<Figure size 432x288 with 1 Axes>"
      ]
     },
     "metadata": {
      "needs_background": "light"
     },
     "output_type": "display_data"
    }
   ],
   "source": [
    "analyze_column(students_info, 'health')"
   ]
  },
  {
   "cell_type": "markdown",
   "metadata": {},
   "source": [
    "Это числовое поле и оно содержит 7 пустых значений. Проверим поле на выбросы:"
   ]
  },
  {
   "cell_type": "code",
   "execution_count": 132,
   "metadata": {},
   "outputs": [
    {
     "name": "stdout",
     "output_type": "stream",
     "text": [
      "25-й перцентиль: 3.0, 75-й перцентиль: 5.0, IQR: 2.0,  Границы выбросов: [0.0, 8.0].\n"
     ]
    }
   ],
   "source": [
    "check_blowouts(students_info, 'health')"
   ]
  },
  {
   "cell_type": "markdown",
   "metadata": {},
   "source": [
    "В данных нет выбросов. Большинство значений лежат в интервале от 3 до 5."
   ]
  },
  {
   "cell_type": "markdown",
   "metadata": {},
   "source": [
    "#### 28. Анализ поля absences"
   ]
  },
  {
   "cell_type": "code",
   "execution_count": 133,
   "metadata": {
    "scrolled": false
   },
   "outputs": [
    {
     "name": "stdout",
     "output_type": "stream",
     "text": [
      "Количество пустых значений: 9\n",
      "count    241.000000\n",
      "mean       6.170124\n",
      "std       15.047428\n",
      "min        0.000000\n",
      "25%        0.000000\n",
      "50%        4.000000\n",
      "75%        8.000000\n",
      "max      212.000000\n",
      "Name: absences, dtype: float64\n"
     ]
    },
    {
     "data": {
      "image/png": "[encoded data removed]",
      "text/plain": [
       "<Figure size 432x288 with 1 Axes>"
      ]
     },
     "metadata": {
      "needs_background": "light"
     },
     "output_type": "display_data"
    }
   ],
   "source": [
    "analyze_column(students_info, 'absences')"
   ]
  },
  {
   "cell_type": "markdown",
   "metadata": {},
   "source": [
    "Это числовое поле, и оно имеет 9 пустых значений. По графику видно, что основное распределение лежит в интервале от 0 до 50. Предположительно в данных есть выбросы, проверим это:"
   ]
  },
  {
   "cell_type": "code",
   "execution_count": 134,
   "metadata": {},
   "outputs": [
    {
     "name": "stdout",
     "output_type": "stream",
     "text": [
      "25-й перцентиль: 0.0, 75-й перцентиль: 8.0, IQR: 8.0,  Границы выбросов: [-12.0, 20.0].\n"
     ]
    }
   ],
   "source": [
    "check_blowouts(students_info, 'absences')"
   ]
  },
  {
   "cell_type": "markdown",
   "metadata": {},
   "source": [
    "В данных есть выбросы, устраним их:"
   ]
  },
  {
   "cell_type": "code",
   "execution_count": 135,
   "metadata": {},
   "outputs": [],
   "source": [
    "students_info = clear_blowouts(students_info, 'absences')"
   ]
  },
  {
   "cell_type": "markdown",
   "metadata": {},
   "source": [
    "Посмотрим на распределение теперь:"
   ]
  },
  {
   "cell_type": "code",
   "execution_count": 136,
   "metadata": {},
   "outputs": [
    {
     "name": "stdout",
     "output_type": "stream",
     "text": [
      "Количество пустых значений: 0\n",
      "count    230.000000\n",
      "mean       4.300000\n",
      "std        4.718402\n",
      "min        0.000000\n",
      "25%        0.000000\n",
      "50%        3.000000\n",
      "75%        6.000000\n",
      "max       20.000000\n",
      "Name: absences, dtype: float64\n"
     ]
    },
    {
     "data": {
      "image/png": "[encoded data removed]",
      "text/plain": [
       "<Figure size 432x288 with 1 Axes>"
      ]
     },
     "metadata": {
      "needs_background": "light"
     },
     "output_type": "display_data"
    }
   ],
   "source": [
    "analyze_column(students_info, 'absences')"
   ]
  },
  {
   "cell_type": "markdown",
   "metadata": {},
   "source": [
    "Большинство значений лежат в интервале от 0 до 6."
   ]
  },
  {
   "cell_type": "markdown",
   "metadata": {},
   "source": [
    "#### 29. Анализ поля score"
   ]
  },
  {
   "cell_type": "code",
   "execution_count": 137,
   "metadata": {},
   "outputs": [
    {
     "name": "stdout",
     "output_type": "stream",
     "text": [
      "Количество пустых значений: 3\n",
      "count    227.000000\n",
      "mean      51.431718\n",
      "std       22.322029\n",
      "min        0.000000\n",
      "25%       45.000000\n",
      "50%       55.000000\n",
      "75%       65.000000\n",
      "max       95.000000\n",
      "Name: score, dtype: float64\n"
     ]
    },
    {
     "data": {
      "image/png": "[encoded data removed]",
      "text/plain": [
       "<Figure size 432x288 with 1 Axes>"
      ]
     },
     "metadata": {
      "needs_background": "light"
     },
     "output_type": "display_data"
    }
   ],
   "source": [
    "analyze_column(students_info, 'score')"
   ]
  },
  {
   "cell_type": "markdown",
   "metadata": {},
   "source": [
    "Это числовое поле, в нем 3 путых знаечния. Видно, что распределение лежит в интервале от 0 до 100, что вполне логично. \n",
    "Проверим данные в этом столбце на выбросы:"
   ]
  },
  {
   "cell_type": "code",
   "execution_count": 138,
   "metadata": {},
   "outputs": [
    {
     "name": "stdout",
     "output_type": "stream",
     "text": [
      "25-й перцентиль: 45.0, 75-й перцентиль: 65.0, IQR: 20.0,  Границы выбросов: [15.0, 95.0].\n"
     ]
    }
   ],
   "source": [
    "check_blowouts(students_info, 'score')"
   ]
  },
  {
   "cell_type": "markdown",
   "metadata": {},
   "source": [
    "В данных есть выбросы, устраним их:"
   ]
  },
  {
   "cell_type": "code",
   "execution_count": 139,
   "metadata": {},
   "outputs": [],
   "source": [
    "students_info = clear_blowouts(students_info, 'score')"
   ]
  },
  {
   "cell_type": "markdown",
   "metadata": {},
   "source": [
    "Снова посмотрим на распределение:"
   ]
  },
  {
   "cell_type": "code",
   "execution_count": 140,
   "metadata": {
    "scrolled": false
   },
   "outputs": [
    {
     "name": "stdout",
     "output_type": "stream",
     "text": [
      "Количество пустых значений: 0\n",
      "count    204.000000\n",
      "mean      57.230392\n",
      "std       14.873882\n",
      "min       25.000000\n",
      "25%       50.000000\n",
      "50%       55.000000\n",
      "75%       70.000000\n",
      "max       95.000000\n",
      "Name: score, dtype: float64\n"
     ]
    },
    {
     "data": {
      "image/png": "[encoded data removed]",
      "text/plain": [
       "<Figure size 432x288 with 1 Axes>"
      ]
     },
     "metadata": {
      "needs_background": "light"
     },
     "output_type": "display_data"
    }
   ],
   "source": [
    "analyze_column(students_info, 'score')"
   ]
  },
  {
   "cell_type": "markdown",
   "metadata": {},
   "source": [
    "### Корреляционный анализ"
   ]
  },
  {
   "cell_type": "markdown",
   "metadata": {},
   "source": [
    "Построим матрицу корреляций:"
   ]
  },
  {
   "cell_type": "code",
   "execution_count": 144,
   "metadata": {
    "scrolled": true
   },
   "outputs": [
    {
     "data": {
      "text/html": [
       "<div>\n",
       "<style scoped>\n",
       "    .dataframe tbody tr th:only-of-type {\n",
       "        vertical-align: middle;\n",
       "    }\n",
       "\n",
       "    .dataframe tbody tr th {\n",
       "        vertical-align: top;\n",
       "    }\n",
       "\n",
       "    .dataframe thead th {\n",
       "        text-align: right;\n",
       "    }\n",
       "</style>\n",
       "<table border=\"1\" class=\"dataframe\">\n",
       "  <thead>\n",
       "    <tr style=\"text-align: right;\">\n",
       "      <th></th>\n",
       "      <th>age</th>\n",
       "      <th>Medu</th>\n",
       "      <th>Fedu</th>\n",
       "      <th>traveltime</th>\n",
       "      <th>studytime</th>\n",
       "      <th>famrel</th>\n",
       "      <th>freetime</th>\n",
       "      <th>goout</th>\n",
       "      <th>health</th>\n",
       "      <th>absences</th>\n",
       "      <th>score</th>\n",
       "    </tr>\n",
       "  </thead>\n",
       "  <tbody>\n",
       "    <tr>\n",
       "      <th>age</th>\n",
       "      <td>1.000000</td>\n",
       "      <td>-0.166959</td>\n",
       "      <td>-0.181593</td>\n",
       "      <td>0.141734</td>\n",
       "      <td>0.064739</td>\n",
       "      <td>-0.028792</td>\n",
       "      <td>-0.023811</td>\n",
       "      <td>0.087120</td>\n",
       "      <td>0.001356</td>\n",
       "      <td>0.143687</td>\n",
       "      <td>-0.155147</td>\n",
       "    </tr>\n",
       "    <tr>\n",
       "      <th>Medu</th>\n",
       "      <td>-0.166959</td>\n",
       "      <td>1.000000</td>\n",
       "      <td>0.655641</td>\n",
       "      <td>-0.081700</td>\n",
       "      <td>0.116046</td>\n",
       "      <td>0.157646</td>\n",
       "      <td>-0.007490</td>\n",
       "      <td>0.062415</td>\n",
       "      <td>-0.013682</td>\n",
       "      <td>0.112762</td>\n",
       "      <td>0.186221</td>\n",
       "    </tr>\n",
       "    <tr>\n",
       "      <th>Fedu</th>\n",
       "      <td>-0.181593</td>\n",
       "      <td>0.655641</td>\n",
       "      <td>1.000000</td>\n",
       "      <td>-0.062316</td>\n",
       "      <td>0.054237</td>\n",
       "      <td>0.048767</td>\n",
       "      <td>-0.074914</td>\n",
       "      <td>0.011124</td>\n",
       "      <td>0.012937</td>\n",
       "      <td>0.020126</td>\n",
       "      <td>0.169255</td>\n",
       "    </tr>\n",
       "    <tr>\n",
       "      <th>traveltime</th>\n",
       "      <td>0.141734</td>\n",
       "      <td>-0.081700</td>\n",
       "      <td>-0.062316</td>\n",
       "      <td>1.000000</td>\n",
       "      <td>-0.150599</td>\n",
       "      <td>-0.085829</td>\n",
       "      <td>-0.009407</td>\n",
       "      <td>-0.079079</td>\n",
       "      <td>0.004216</td>\n",
       "      <td>-0.112813</td>\n",
       "      <td>-0.050830</td>\n",
       "    </tr>\n",
       "    <tr>\n",
       "      <th>studytime</th>\n",
       "      <td>0.064739</td>\n",
       "      <td>0.116046</td>\n",
       "      <td>0.054237</td>\n",
       "      <td>-0.150599</td>\n",
       "      <td>1.000000</td>\n",
       "      <td>0.082952</td>\n",
       "      <td>-0.100710</td>\n",
       "      <td>0.011479</td>\n",
       "      <td>-0.072869</td>\n",
       "      <td>-0.087763</td>\n",
       "      <td>0.101956</td>\n",
       "    </tr>\n",
       "    <tr>\n",
       "      <th>famrel</th>\n",
       "      <td>-0.028792</td>\n",
       "      <td>0.157646</td>\n",
       "      <td>0.048767</td>\n",
       "      <td>-0.085829</td>\n",
       "      <td>0.082952</td>\n",
       "      <td>1.000000</td>\n",
       "      <td>0.168059</td>\n",
       "      <td>0.008046</td>\n",
       "      <td>0.031254</td>\n",
       "      <td>0.023319</td>\n",
       "      <td>0.117738</td>\n",
       "    </tr>\n",
       "    <tr>\n",
       "      <th>freetime</th>\n",
       "      <td>-0.023811</td>\n",
       "      <td>-0.007490</td>\n",
       "      <td>-0.074914</td>\n",
       "      <td>-0.009407</td>\n",
       "      <td>-0.100710</td>\n",
       "      <td>0.168059</td>\n",
       "      <td>1.000000</td>\n",
       "      <td>0.165371</td>\n",
       "      <td>0.085444</td>\n",
       "      <td>0.077133</td>\n",
       "      <td>0.019786</td>\n",
       "    </tr>\n",
       "    <tr>\n",
       "      <th>goout</th>\n",
       "      <td>0.087120</td>\n",
       "      <td>0.062415</td>\n",
       "      <td>0.011124</td>\n",
       "      <td>-0.079079</td>\n",
       "      <td>0.011479</td>\n",
       "      <td>0.008046</td>\n",
       "      <td>0.165371</td>\n",
       "      <td>1.000000</td>\n",
       "      <td>0.047755</td>\n",
       "      <td>0.089578</td>\n",
       "      <td>-0.205822</td>\n",
       "    </tr>\n",
       "    <tr>\n",
       "      <th>health</th>\n",
       "      <td>0.001356</td>\n",
       "      <td>-0.013682</td>\n",
       "      <td>0.012937</td>\n",
       "      <td>0.004216</td>\n",
       "      <td>-0.072869</td>\n",
       "      <td>0.031254</td>\n",
       "      <td>0.085444</td>\n",
       "      <td>0.047755</td>\n",
       "      <td>1.000000</td>\n",
       "      <td>0.041269</td>\n",
       "      <td>0.020428</td>\n",
       "    </tr>\n",
       "    <tr>\n",
       "      <th>absences</th>\n",
       "      <td>0.143687</td>\n",
       "      <td>0.112762</td>\n",
       "      <td>0.020126</td>\n",
       "      <td>-0.112813</td>\n",
       "      <td>-0.087763</td>\n",
       "      <td>0.023319</td>\n",
       "      <td>0.077133</td>\n",
       "      <td>0.089578</td>\n",
       "      <td>0.041269</td>\n",
       "      <td>1.000000</td>\n",
       "      <td>-0.160995</td>\n",
       "    </tr>\n",
       "    <tr>\n",
       "      <th>score</th>\n",
       "      <td>-0.155147</td>\n",
       "      <td>0.186221</td>\n",
       "      <td>0.169255</td>\n",
       "      <td>-0.050830</td>\n",
       "      <td>0.101956</td>\n",
       "      <td>0.117738</td>\n",
       "      <td>0.019786</td>\n",
       "      <td>-0.205822</td>\n",
       "      <td>0.020428</td>\n",
       "      <td>-0.160995</td>\n",
       "      <td>1.000000</td>\n",
       "    </tr>\n",
       "  </tbody>\n",
       "</table>\n",
       "</div>"
      ],
      "text/plain": [
       "                 age      Medu      Fedu  traveltime  studytime    famrel  \\\n",
       "age         1.000000 -0.166959 -0.181593    0.141734   0.064739 -0.028792   \n",
       "Medu       -0.166959  1.000000  0.655641   -0.081700   0.116046  0.157646   \n",
       "Fedu       -0.181593  0.655641  1.000000   -0.062316   0.054237  0.048767   \n",
       "traveltime  0.141734 -0.081700 -0.062316    1.000000  -0.150599 -0.085829   \n",
       "studytime   0.064739  0.116046  0.054237   -0.150599   1.000000  0.082952   \n",
       "famrel     -0.028792  0.157646  0.048767   -0.085829   0.082952  1.000000   \n",
       "freetime   -0.023811 -0.007490 -0.074914   -0.009407  -0.100710  0.168059   \n",
       "goout       0.087120  0.062415  0.011124   -0.079079   0.011479  0.008046   \n",
       "health      0.001356 -0.013682  0.012937    0.004216  -0.072869  0.031254   \n",
       "absences    0.143687  0.112762  0.020126   -0.112813  -0.087763  0.023319   \n",
       "score      -0.155147  0.186221  0.169255   -0.050830   0.101956  0.117738   \n",
       "\n",
       "            freetime     goout    health  absences     score  \n",
       "age        -0.023811  0.087120  0.001356  0.143687 -0.155147  \n",
       "Medu       -0.007490  0.062415 -0.013682  0.112762  0.186221  \n",
       "Fedu       -0.074914  0.011124  0.012937  0.020126  0.169255  \n",
       "traveltime -0.009407 -0.079079  0.004216 -0.112813 -0.050830  \n",
       "studytime  -0.100710  0.011479 -0.072869 -0.087763  0.101956  \n",
       "famrel      0.168059  0.008046  0.031254  0.023319  0.117738  \n",
       "freetime    1.000000  0.165371  0.085444  0.077133  0.019786  \n",
       "goout       0.165371  1.000000  0.047755  0.089578 -0.205822  \n",
       "health      0.085444  0.047755  1.000000  0.041269  0.020428  \n",
       "absences    0.077133  0.089578  0.041269  1.000000 -0.160995  \n",
       "score       0.019786 -0.205822  0.020428 -0.160995  1.000000  "
      ]
     },
     "execution_count": 144,
     "metadata": {},
     "output_type": "execute_result"
    }
   ],
   "source": [
    "students_info.corr()"
   ]
  },
  {
   "cell_type": "markdown",
   "metadata": {},
   "source": [
    "Полностью/почти полностью коррелирущих переменных в нашем датасете нет. Достаточно сильная корреляция обнаружена у переменных Medu и Fedu - 0.66. Получается, что между образованием матери и отца существует положительная связь, т.е люди с более высоким образованием выбирают себе в партнеры также человека с более высоким образованием. В модуле не было объяснено при какой корреляции надо убирать одну из переменных, я так поняла при совсем близкой к единице, поэтому оставляем."
   ]
  },
  {
   "cell_type": "markdown",
   "metadata": {},
   "source": [
    "### Анализ номинативных переменных"
   ]
  },
  {
   "cell_type": "code",
   "execution_count": 145,
   "metadata": {},
   "outputs": [],
   "source": [
    "# Отберем текстовые колонки\n",
    "df_text_cols = list(students_info.select_dtypes(include=['object']).columns)"
   ]
  },
  {
   "cell_type": "code",
   "execution_count": 146,
   "metadata": {
    "scrolled": true
   },
   "outputs": [
    {
     "data": {
      "image/png": "[encoded data removed]",
      "text/plain": [
       "<Figure size 360x144 with 1 Axes>"
      ]
     },
     "metadata": {
      "needs_background": "light"
     },
     "output_type": "display_data"
    },
    {
     "data": {
      "image/png": "[encoded data removed]",
      "text/plain": [
       "<Figure size 360x144 with 1 Axes>"
      ]
     },
     "metadata": {
      "needs_background": "light"
     },
     "output_type": "display_data"
    },
    {
     "data": {
      "image/png": "[encoded data removed]",
      "text/plain": [
       "<Figure size 360x144 with 1 Axes>"
      ]
     },
     "metadata": {
      "needs_background": "light"
     },
     "output_type": "display_data"
    },
    {
     "data": {
      "image/png": "[encoded data removed]",
      "text/plain": [
       "<Figure size 360x144 with 1 Axes>"
      ]
     },
     "metadata": {
      "needs_background": "light"
     },
     "output_type": "display_data"
    },
    {
     "data": {
      "image/png": "[encoded data removed]",
      "text/plain": [
       "<Figure size 360x144 with 1 Axes>"
      ]
     },
     "metadata": {
      "needs_background": "light"
     },
     "output_type": "display_data"
    },
    {
     "data": {
      "image/png": "[encoded data removed]",
      "text/plain": [
       "<Figure size 360x144 with 1 Axes>"
      ]
     },
     "metadata": {
      "needs_background": "light"
     },
     "output_type": "display_data"
    },
    {
     "data": {
      "image/png": "[encoded data removed]",
      "text/plain": [
       "<Figure size 360x144 with 1 Axes>"
      ]
     },
     "metadata": {
      "needs_background": "light"
     },
     "output_type": "display_data"
    },
    {
     "data": {
      "image/png": "[encoded data removed]",
      "text/plain": [
       "<Figure size 360x144 with 1 Axes>"
      ]
     },
     "metadata": {
      "needs_background": "light"
     },
     "output_type": "display_data"
    },
    {
     "data": {
      "image/png": "[encoded data removed]",
      "text/plain": [
       "<Figure size 360x144 with 1 Axes>"
      ]
     },
     "metadata": {
      "needs_background": "light"
     },
     "output_type": "display_data"
    },
    {
     "data": {
      "image/png": "[encoded data removed]",
      "text/plain": [
       "<Figure size 360x144 with 1 Axes>"
      ]
     },
     "metadata": {
      "needs_background": "light"
     },
     "output_type": "display_data"
    },
    {
     "data": {
      "image/png": "[encoded data removed]",
      "text/plain": [
       "<Figure size 360x144 with 1 Axes>"
      ]
     },
     "metadata": {
      "needs_background": "light"
     },
     "output_type": "display_data"
    },
    {
     "data": {
      "image/png": "[encoded data removed]",
      "text/plain": [
       "<Figure size 360x144 with 1 Axes>"
      ]
     },
     "metadata": {
      "needs_background": "light"
     },
     "output_type": "display_data"
    },
    {
     "data": {
      "image/png": "[encoded data removed]",
      "text/plain": [
       "<Figure size 360x144 with 1 Axes>"
      ]
     },
     "metadata": {
      "needs_background": "light"
     },
     "output_type": "display_data"
    },
    {
     "data": {
      "image/png": "[encoded data removed]",
      "text/plain": [
       "<Figure size 360x144 with 1 Axes>"
      ]
     },
     "metadata": {
      "needs_background": "light"
     },
     "output_type": "display_data"
    },
    {
     "data": {
      "image/png": "[encoded data removed]",
      "text/plain": [
       "<Figure size 360x144 with 1 Axes>"
      ]
     },
     "metadata": {
      "needs_background": "light"
     },
     "output_type": "display_data"
    },
    {
     "data": {
      "image/png": "[encoded data removed]",
      "text/plain": [
       "<Figure size 360x144 with 1 Axes>"
      ]
     },
     "metadata": {
      "needs_background": "light"
     },
     "output_type": "display_data"
    },
    {
     "data": {
      "image/png": "[encoded data removed]",
      "text/plain": [
       "<Figure size 360x144 with 1 Axes>"
      ]
     },
     "metadata": {
      "needs_background": "light"
     },
     "output_type": "display_data"
    }
   ],
   "source": [
    "for col in df_text_cols:\n",
    "    get_boxplot(students_info, col, 'score')"
   ]
  },
  {
   "cell_type": "markdown",
   "metadata": {},
   "source": [
    "По графикам кажется, что большинство поле не будут сильно влиять на оценку по экзамену. Есть предположение, что каким-то образом влиять на нее смогут: sex, address, Mjob, Fjob, schoolsup. Проверим это предположение, проведя тест Стьюдента:"
   ]
  },
  {
   "cell_type": "code",
   "execution_count": 147,
   "metadata": {},
   "outputs": [
    {
     "name": "stdout",
     "output_type": "stream",
     "text": [
      "Найдены статистически значимые различия для колонки sex\n",
      "Найдены статистически значимые различия для колонки address\n",
      "Найдены статистически значимые различия для колонки schoolsup\n"
     ]
    }
   ],
   "source": [
    "for col in df_text_cols:\n",
    "    get_stat_dif(students_info, col, 'score')"
   ]
  },
  {
   "cell_type": "markdown",
   "metadata": {},
   "source": [
    "Как мы видим, найдены только 3 серьезно отличающихся параметра sex, address, schoolsup. Оставим эти  номинативные переменные в датасете для дальнейшего построения модели, а остальные удалим:"
   ]
  },
  {
   "cell_type": "code",
   "execution_count": 148,
   "metadata": {},
   "outputs": [],
   "source": [
    "students_info_for_model = students_info.drop(['school','famsize','Pstatus','Mjob','Fjob', 'famsup','reason','guardian','paid',\n",
    "                                              'activities','nursery','higher','internet','romantic', 'score'], axis=1)"
   ]
  },
  {
   "cell_type": "markdown",
   "metadata": {},
   "source": [
    "### Выводы"
   ]
  },
  {
   "cell_type": "code",
   "execution_count": 158,
   "metadata": {},
   "outputs": [
    {
     "name": "stdout",
     "output_type": "stream",
     "text": [
      "1. Итого, после очистки у нас осталось (строк, столбцов): (204, 28) 2. По итогам корреляционного анализа не было выявлено сильно коррелирующих числовых переменных. 3. По итогам анализа номинативных переменных было оставлено 3 серьезно отличающихся параметра: пол, адрес, поддержка школы. 4. Переменные, которые, возможно, оказывают влияние на оценку, это: ['sex', 'age', 'address', 'Medu', 'Fedu', 'traveltime', 'studytime', 'schoolsup', 'famrel', 'freetime', 'goout', 'health', 'absences']\n"
     ]
    }
   ],
   "source": [
    "print('1. Итого, после очистки у нас осталось (строк, столбцов):', students_info.shape,\n",
    "      \"\"\"2. По итогам корреляционного анализа не было выявлено сильно коррелирующих числовых переменных.\"\"\",\n",
    "      \"\"\"3. По итогам анализа номинативных переменных было оставлено 3 серьезно отличающихся параметра: пол, адрес, поддержка школы.\"\"\",\n",
    "      \"\"\"4. Переменные, которые, возможно, оказывают влияние на оценку, это:\"\"\", list(students_info_for_model.columns)\n",
    "     )"
   ]
  }
 ],
 "metadata": {
  "kernelspec": {
   "display_name": "Python 3",
   "language": "python",
   "name": "python3"
  },
  "language_info": {
   "codemirror_mode": {
    "name": "ipython",
    "version": 3
   },
   "file_extension": ".py",
   "mimetype": "text/x-python",
   "name": "python",
   "nbconvert_exporter": "python",
   "pygments_lexer": "ipython3",
   "version": "3.7.6"
  }
 },
 "nbformat": 4,
 "nbformat_minor": 4
}
