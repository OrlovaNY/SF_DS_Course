{
 "cells": [
  {
   "cell_type": "code",
   "execution_count": 1,
   "metadata": {},
   "outputs": [],
   "source": [
    "from pandas import Series\n",
    "import pandas as pd\n",
    "import numpy as np\n",
    "\n",
    "import matplotlib.pyplot as plt\n",
    "import seaborn as sns\n",
    "\n",
    "from sklearn.feature_selection import f_classif, mutual_info_classif\n",
    "from sklearn.preprocessing import LabelEncoder, OneHotEncoder, StandardScaler\n",
    "\n",
    "from sklearn.model_selection import train_test_split\n",
    "from sklearn.linear_model import LogisticRegression\n",
    "\n",
    "from sklearn.metrics import confusion_matrix\n",
    "from sklearn.metrics import auc, roc_auc_score, roc_curve"
   ]
  },
  {
   "cell_type": "code",
   "execution_count": 2,
   "metadata": {},
   "outputs": [
    {
     "data": {
      "text/plain": [
       "(73799, 14)"
      ]
     },
     "execution_count": 2,
     "metadata": {},
     "output_type": "execute_result"
    }
   ],
   "source": [
    "data = pd.read_csv('train.csv', sep = ',')\n",
    "data.shape"
   ]
  },
  {
   "cell_type": "code",
   "execution_count": 3,
   "metadata": {},
   "outputs": [
    {
     "data": {
      "text/html": [
       "<div>\n",
       "<style scoped>\n",
       "    .dataframe tbody tr th:only-of-type {\n",
       "        vertical-align: middle;\n",
       "    }\n",
       "\n",
       "    .dataframe tbody tr th {\n",
       "        vertical-align: top;\n",
       "    }\n",
       "\n",
       "    .dataframe thead th {\n",
       "        text-align: right;\n",
       "    }\n",
       "</style>\n",
       "<table border=\"1\" class=\"dataframe\">\n",
       "  <thead>\n",
       "    <tr style=\"text-align: right;\">\n",
       "      <th></th>\n",
       "      <th>client_id</th>\n",
       "      <th>education</th>\n",
       "      <th>sex</th>\n",
       "      <th>age</th>\n",
       "      <th>car</th>\n",
       "      <th>car_type</th>\n",
       "      <th>decline_app_cnt</th>\n",
       "      <th>good_work</th>\n",
       "      <th>bki_request_cnt</th>\n",
       "      <th>home_address</th>\n",
       "      <th>work_address</th>\n",
       "      <th>income</th>\n",
       "      <th>foreign_passport</th>\n",
       "      <th>default</th>\n",
       "    </tr>\n",
       "  </thead>\n",
       "  <tbody>\n",
       "    <tr>\n",
       "      <th>0</th>\n",
       "      <td>25905</td>\n",
       "      <td>SCH</td>\n",
       "      <td>M</td>\n",
       "      <td>62</td>\n",
       "      <td>Y</td>\n",
       "      <td>Y</td>\n",
       "      <td>0</td>\n",
       "      <td>0</td>\n",
       "      <td>1</td>\n",
       "      <td>1</td>\n",
       "      <td>2</td>\n",
       "      <td>18000</td>\n",
       "      <td>N</td>\n",
       "      <td>0</td>\n",
       "    </tr>\n",
       "    <tr>\n",
       "      <th>1</th>\n",
       "      <td>63161</td>\n",
       "      <td>SCH</td>\n",
       "      <td>F</td>\n",
       "      <td>59</td>\n",
       "      <td>N</td>\n",
       "      <td>N</td>\n",
       "      <td>0</td>\n",
       "      <td>0</td>\n",
       "      <td>3</td>\n",
       "      <td>2</td>\n",
       "      <td>3</td>\n",
       "      <td>19000</td>\n",
       "      <td>N</td>\n",
       "      <td>0</td>\n",
       "    </tr>\n",
       "    <tr>\n",
       "      <th>2</th>\n",
       "      <td>25887</td>\n",
       "      <td>SCH</td>\n",
       "      <td>M</td>\n",
       "      <td>25</td>\n",
       "      <td>Y</td>\n",
       "      <td>N</td>\n",
       "      <td>2</td>\n",
       "      <td>0</td>\n",
       "      <td>1</td>\n",
       "      <td>1</td>\n",
       "      <td>2</td>\n",
       "      <td>30000</td>\n",
       "      <td>Y</td>\n",
       "      <td>0</td>\n",
       "    </tr>\n",
       "  </tbody>\n",
       "</table>\n",
       "</div>"
      ],
      "text/plain": [
       "   client_id education sex  age car car_type  decline_app_cnt  good_work  \\\n",
       "0      25905       SCH   M   62   Y        Y                0          0   \n",
       "1      63161       SCH   F   59   N        N                0          0   \n",
       "2      25887       SCH   M   25   Y        N                2          0   \n",
       "\n",
       "   bki_request_cnt  home_address  work_address  income foreign_passport  \\\n",
       "0                1             1             2   18000                N   \n",
       "1                3             2             3   19000                N   \n",
       "2                1             1             2   30000                Y   \n",
       "\n",
       "   default  \n",
       "0        0  \n",
       "1        0  \n",
       "2        0  "
      ]
     },
     "execution_count": 3,
     "metadata": {},
     "output_type": "execute_result"
    }
   ],
   "source": [
    "data.head(3)"
   ]
  },
  {
   "cell_type": "code",
   "execution_count": 4,
   "metadata": {},
   "outputs": [
    {
     "data": {
      "text/plain": [
       "<matplotlib.axes._subplots.AxesSubplot at 0x7fac3ce9b4d0>"
      ]
     },
     "execution_count": 4,
     "metadata": {},
     "output_type": "execute_result"
    },
    {
     "data": {
      "image/png": "[encoded data removed]",
      "text/plain": [
       "<Figure size 432x288 with 1 Axes>"
      ]
     },
     "metadata": {
      "needs_background": "light"
     },
     "output_type": "display_data"
    }
   ],
   "source": [
    "data['default'].value_counts().plot.bar()"
   ]
  },
  {
   "cell_type": "code",
   "execution_count": 5,
   "metadata": {},
   "outputs": [
    {
     "data": {
      "text/plain": [
       "client_id             0\n",
       "education           307\n",
       "sex                   0\n",
       "age                   0\n",
       "car                   0\n",
       "car_type              0\n",
       "decline_app_cnt       0\n",
       "good_work             0\n",
       "bki_request_cnt       0\n",
       "home_address          0\n",
       "work_address          0\n",
       "income                0\n",
       "foreign_passport      0\n",
       "default               0\n",
       "dtype: int64"
      ]
     },
     "execution_count": 5,
     "metadata": {},
     "output_type": "execute_result"
    }
   ],
   "source": [
    "data.isnull().sum()"
   ]
  },
  {
   "cell_type": "code",
   "execution_count": 6,
   "metadata": {},
   "outputs": [
    {
     "data": {
      "text/plain": [
       "<matplotlib.axes._subplots.AxesSubplot at 0x7fac4429a810>"
      ]
     },
     "execution_count": 6,
     "metadata": {},
     "output_type": "execute_result"
    },
    {
     "data": {
      "image/png": "[encoded data removed]",
      "text/plain": [
       "<Figure size 432x288 with 1 Axes>"
      ]
     },
     "metadata": {
      "needs_background": "light"
     },
     "output_type": "display_data"
    }
   ],
   "source": [
    "data['education'].value_counts().plot.bar()"
   ]
  },
  {
   "cell_type": "code",
   "execution_count": 7,
   "metadata": {},
   "outputs": [
    {
     "data": {
      "text/plain": [
       "0.41599479667746175"
      ]
     },
     "execution_count": 7,
     "metadata": {},
     "output_type": "execute_result"
    }
   ],
   "source": [
    "(data['education'].isnull().sum()/data.shape[0])*100\n",
    "# -> процент пропусков совсем маленький (меньше 1%), их можно удалить"
   ]
  },
  {
   "cell_type": "code",
   "execution_count": 8,
   "metadata": {},
   "outputs": [],
   "source": [
    "data = data.dropna(axis=0)"
   ]
  },
  {
   "cell_type": "code",
   "execution_count": 9,
   "metadata": {},
   "outputs": [
    {
     "name": "stdout",
     "output_type": "stream",
     "text": [
      "sex ['M' 'F']\n",
      "car ['Y' 'N']\n",
      "car_type ['Y' 'N']\n",
      "good_work [0 1]\n",
      "foreign_passport ['N' 'Y']\n",
      "default [0 1]\n",
      "education ['SCH' 'GRD' 'UGR' 'PGR' 'ACD']\n",
      "home_address [1 2 3]\n",
      "work_address [2 3 1]\n",
      "age [62 59 25 53 48 27 39 50 54 29 32 30 23 37 36 41 28 58 26 45 44 43 56 40\n",
      " 34 33 67 38 46 42 35 24 61 21 52 55 49 57 31 64 63 51 22 65 47 66 68 60\n",
      " 69 70 72 71]\n",
      "decline_app_cnt [ 0  2  1  3  4  6  5  7  8  9 13 11 19 10 22 33 14 12 15 24 16]\n",
      "income [  18000   19000   30000   10000   15000   28000   45000   24000   60000\n",
      "   40000   23000   32000   33000    8000   25000   50000   14000   55000\n",
      "   26000   20000  100000   14800   70000   80000   65000   11000   75000\n",
      "   35000  200000    9000   27000   15100  130000   21000  350000   22000\n",
      "   43000   16000    5000   64000    6000   95000   12000   48000   37000\n",
      "    9600   17000   11500   23400    8500   85000   29000   10500   49000\n",
      "   13000  160000  150000    6500   16700   90000   25890   77000   47000\n",
      "   38000   58000   36000   52000   12200   28600   57000   14500   10100\n",
      "  110000  120000   72000   27500   25850   42000  230000   17100    7500\n",
      "   17400   11200    9500    7000   54000   68000   34700    6400  102000\n",
      "   41000   31000   36500    9460  112000    9800   12800   26500   33800\n",
      "   34000   20400   53000  140000    9100   76000    7400   21500    5300\n",
      "   96000  300000   32500   39000   54800    8900   46000   15500  125000\n",
      "   88000   19200    4500   89000    3073  115000   69000   25500   59000\n",
      " 1000000  147000  156000  120060  250000   49700   42300  106000  260000\n",
      "   22500    5500   44000   98000    7800   39600   12700   40300   40200\n",
      "   10700   35500   56000  380000   18500   63000  180000   19400  220000\n",
      "   14271   38100   29600   10800   62000   74000   28100   24100   93000\n",
      "  215000   13500   23800   23700    8600   28800   10200   19500   22600\n",
      "  170000   73000   13600   16500   14600   11400   42500   83000  426000\n",
      "  800000  105000   12450   92000  135000   85260  198000   17500   28200\n",
      "  400000   23500   20500   51000   29660    7300    5700    7200  500000\n",
      "   14300  210000  700000   16800    4000   12300    5650   11600  240000\n",
      "   67000   94000   14200  116390   61000   43700   15600  103000   78000\n",
      "   12500    5400   13300   15300   13720  550000   22800    7340   97000\n",
      "    7100   91350    9200   38500    6300  270000   51800   81000   19570\n",
      "   15700    8700   18600   17211  101000   15580   22700   33500   17800\n",
      "   87000   46800   60500    5800   24500   83500   59590    8150   86500\n",
      "   19600   71000    8225  325000   13100   24600   24900    9715   55600\n",
      "   19410   98500   80400    3000   30096   30500   33700    5680   55500\n",
      "   11700   18300   19700   20300  185000  142000   80500   14900   47500\n",
      "  145000   12400  600000   35900   37600  159200   14700    8963  175000\n",
      "   91000   15400   18800    8100   79000   23200  430000   37900   37500\n",
      "  900000    6354   10400    8200    5600  138000  480000    7890    8400\n",
      "  190000   27300    6100   10620  108000   12600   30300   29800   35600\n",
      "  118000    6700   66000   84000    4646   17037   10611    9300   88312\n",
      "   25800   82000   25600   79500    8335   25700  450000   63500   15960\n",
      "  155000   26400   41400  950000   13400  165000   31300    5200   59600\n",
      "  136000   63200   11300   16380   10900    9400    6200   11900  146000\n",
      "  650000  355000   15392    8086   40500   13800  161500  680000   43500\n",
      "   47600    8800  181000   19800   66900    6800   74750   21750  391500\n",
      "   23679   28500   11800    4980   22300  130234   24800   49800   45500\n",
      "   27930   48900   10300   13200   15800   23560   15900   69600    7900\n",
      "    4800   12230   42800  121000    9022    9700   10451   24890    6743\n",
      "   92500   36800   20700   16200  128000  127000   25100   25555  287000\n",
      "   25950   27350   24200    6971    9128   27800  182000   20600  630000\n",
      "   11720  142720    7160   25225   23120   17090   36700   46400    8300\n",
      "   11385    9299    5900   17900   34800   10600    3700    8250    5740\n",
      "    9015  507000    3500   14400  211000   41800   34500  370000   23600\n",
      "   17700   11830  143000    6600  340000   63100   30059   26780   60900\n",
      "   52490   24700   20800  947000   11539    5100  245000   26700  107000\n",
      "   18900    6235    8962  216000    9993  173000   30060   87500   70600\n",
      "   31500   21700   25300   42200  530000  420000   67700  168000   12267\n",
      "   47200   29680   43200   14170   17200   35340   44600   11773   39149\n",
      "   27200   13526   11780    3800   19922   28512   26200    8960    6900\n",
      "   39900   44700    9630   20200  395000   29500   18450   32800    8177\n",
      "   46500  134000   86000   42100   36600   10195  280000   11114   64900\n",
      "   99000  255000   35400   43300   18200  105500  212000    8644   29200\n",
      "   14680   19900   26800   42400   21400  184500   26100   20150   69990\n",
      "   13750  133000    2400   31200   10150   24361   59800   21200   44605\n",
      "   29999   38600   97500   45973  139000  999999   49500   18400   31900\n",
      "  131000   32700    8340   35100  195000   52300  124000   52200    6150\n",
      "   38800   11100   27700   15242  202000   11250    5280   14872   93120\n",
      "    6380   58290   53470    9900   66300    7700   32900   87700   40100\n",
      "   13330   21600  124700   19550   19880  117000    7830   19640   30526\n",
      "   15338    6050   45050   41300   35300   44500    6350   69950  114000\n",
      "   32400   48700   13900   38350   13117   31780   88760  320000   25400\n",
      "   65550    1000   64500   24300   10653   80600   10262   14212   28700\n",
      "   13875  116000   17250   11260    7600   17300   12136   22860  217000\n",
      "  290000   22400   12100  132000    7460   36100   53700    2500  214500\n",
      "    7740    8113   27478   35800   53500   28650   11344  750000   23870\n",
      "   58600  385000   16600   53900   43750  152000   74500   21823    5555\n",
      "   20480  100500   15200   11960   35700   17600   16300  362000   30400\n",
      "   12900   12848   48600   32100   30200    9930   21900   51500   23900\n",
      "   86304   60978    8039   68500    8360   80200   15537   21950   29700\n",
      "    6250   41700   11668   16790   29900  150736   20236   14550   10225\n",
      "   20412   21800   26300   47800  213000   29100  208000  765000   43719\n",
      "  330000    7250   22100   13700   72500   13250   22990  149400   37200\n",
      "    7098  224000   51600  159000   14620   13207   10656   57500   21300\n",
      "   12472   70870   29300   26600   45300  163000   35940   18860    1100\n",
      "   16455   22550   16400   10970  580000   38900   16450   60290  113000\n",
      "   10370   16900   13754   25430   60600   52700   34400  104000   18840\n",
      "  360000    7150  522000   22200   19100  225000   54500   45700   47664\n",
      "   11460   36200   14644  111000   56700    8691    7380   53800   28580\n",
      "   14207   12240  264000   65250    9033   10375   15946   37950   33434\n",
      "   67500  122500   11266   31600   18156   58750    5660   13870   52500\n",
      "   24550   48200   47850   36300   15260   68817   62200   25200   16100\n",
      "   21460    8170   29921   10350   51750   27900   39800   34600    6330\n",
      "   10125   30900   37852   45452   56550  197000   14391    1700   12034\n",
      "   17961    6430    9660    7560   20900  268000    8136   18394   88550\n",
      "    1500    6136  154000   10650   13270    9140   21450   17272   11648\n",
      "   82400   26900  520000   14100    6335    4900   33600   19150  205000\n",
      "   21358   16377  425000   33100    9333   73700   41600   22184   95700\n",
      "   24142    6620  990000    2000   42600   46200   10750  999000   32169\n",
      "  830000   61776   48500   27400  126000   20750   21960   33300    2450\n",
      "   46892   36025  244500    9093   53600    6140   16550   78600   16723\n",
      "   11212  313000   45600   10292   62500   56355   20350    9224    6386\n",
      "   81500   10888   24715   59615   15250  137000   35670    9953    6544\n",
      "   45150    8686    9976  109000    9950    6338   31700  157000  375000\n",
      "  275000   27600    8824   53999   14577   18432   28237  322000   26435\n",
      "   13059   78300  150500   88500  107600   78500   54027   57600  345000\n",
      "   10270   24400  404000   28400   14740   72688   30600   36900  850011\n",
      "   14777  144000   24302   35632   61600    8832  470000  122000   24240\n",
      "   80350   93875    9650  192000    9150  295000  140982   34200   95100\n",
      "   38400   37400   24780  510000   30700   27100    5817    6215   19604\n",
      "   19830   28710   25230   34300   41666   46430   50500   28900   30220\n",
      "    9786    6120    6170   52800   77952    8350   21250  176620   54810\n",
      "   10670  100600]\n",
      "bki_request_cnt [ 1  3  2  0  4  7  5  8  6 13 10 22 12 11 34  9 16 14 26 21 18 24 15 19\n",
      " 32 17 20 23 27 36 53 25 45 33 28 41 29 46]\n"
     ]
    }
   ],
   "source": [
    "print('sex', data.sex.unique())\n",
    "print('car', data.car.unique())\n",
    "print('car_type', data.car_type.unique())\n",
    "print('good_work', data.good_work.unique())\n",
    "print('foreign_passport', data.foreign_passport.unique())\n",
    "print('default', data.default.unique())\n",
    "print('education', data.education.unique())\n",
    "print('home_address', data.home_address.unique())\n",
    "print('work_address', data.work_address.unique())\n",
    "print('age', data.age.unique())\n",
    "print('decline_app_cnt', data.decline_app_cnt.unique())\n",
    "print('income', data.income.unique())\n",
    "print('bki_request_cnt', data.bki_request_cnt.unique())"
   ]
  },
  {
   "cell_type": "code",
   "execution_count": 10,
   "metadata": {},
   "outputs": [],
   "source": [
    "bin_cols = ['sex', 'car', 'car_type', 'good_work', 'foreign_passport']\n",
    "cat_cols = ['education', 'home_address', 'work_address']\n",
    "num_cols = ['age', 'decline_app_cnt', 'income', 'bki_request_cnt']"
   ]
  },
  {
   "cell_type": "code",
   "execution_count": 11,
   "metadata": {},
   "outputs": [
    {
     "data": {
      "text/plain": [
       "array([[<matplotlib.axes._subplots.AxesSubplot object at 0x7fac3f2067d0>,\n",
       "        <matplotlib.axes._subplots.AxesSubplot object at 0x7fac3f248c50>],\n",
       "       [<matplotlib.axes._subplots.AxesSubplot object at 0x7fac43574f90>,\n",
       "        <matplotlib.axes._subplots.AxesSubplot object at 0x7fac435a7c90>]],\n",
       "      dtype=object)"
      ]
     },
     "execution_count": 11,
     "metadata": {},
     "output_type": "execute_result"
    },
    {
     "data": {
      "image/png": "[encoded data removed]",
      "text/plain": [
       "<Figure size 1080x720 with 4 Axes>"
      ]
     },
     "metadata": {
      "needs_background": "light"
     },
     "output_type": "display_data"
    }
   ],
   "source": [
    "data[num_cols].hist(figsize=(15, 10), bins=50)"
   ]
  },
  {
   "cell_type": "code",
   "execution_count": 12,
   "metadata": {},
   "outputs": [
    {
     "data": {
      "text/plain": [
       "array([[<matplotlib.axes._subplots.AxesSubplot object at 0x7fac433e9510>,\n",
       "        <matplotlib.axes._subplots.AxesSubplot object at 0x7fac434bfb50>],\n",
       "       [<matplotlib.axes._subplots.AxesSubplot object at 0x7fac43524e10>,\n",
       "        <matplotlib.axes._subplots.AxesSubplot object at 0x7fac45611b10>]],\n",
       "      dtype=object)"
      ]
     },
     "execution_count": 12,
     "metadata": {},
     "output_type": "execute_result"
    },
    {
     "data": {
      "image/png": "[encoded data removed]",
      "text/plain": [
       "<Figure size 1080x720 with 4 Axes>"
      ]
     },
     "metadata": {
      "needs_background": "light"
     },
     "output_type": "display_data"
    }
   ],
   "source": [
    "# у графиков большой правый хвост, чтобы сделать рспределение более нормальным, можно логарифмировать эти переменные\n",
    "# log_data = data[num_cols].copy(deep=True)\n",
    "\n",
    "for i in num_cols:\n",
    "    data[i] = data[i].apply(lambda x: np.log(x + 1))\n",
    "    \n",
    "data[num_cols].hist(figsize=(15, 10), bins=50)\n",
    "# -> тогда распределение становится менее смещенным"
   ]
  },
  {
   "cell_type": "code",
   "execution_count": 13,
   "metadata": {},
   "outputs": [
    {
     "name": "stderr",
     "output_type": "stream",
     "text": [
      "/Users/natalia/opt/anaconda3/lib/python3.7/site-packages/ipykernel_launcher.py:3: SettingWithCopyWarning: \n",
      "A value is trying to be set on a copy of a slice from a DataFrame.\n",
      "Try using .loc[row_indexer,col_indexer] = value instead\n",
      "\n",
      "See the caveats in the documentation: https://pandas.pydata.org/pandas-docs/stable/user_guide/indexing.html#returning-a-view-versus-a-copy\n",
      "  This is separate from the ipykernel package so we can avoid doing imports until\n"
     ]
    },
    {
     "data": {
      "text/plain": [
       "<matplotlib.axes._subplots.AxesSubplot at 0x7fac45532dd0>"
      ]
     },
     "execution_count": 13,
     "metadata": {},
     "output_type": "execute_result"
    },
    {
     "data": {
      "image/png": "[encoded data removed]",
      "text/plain": [
       "<Figure size 432x288 with 1 Axes>"
      ]
     },
     "metadata": {
      "needs_background": "light"
     },
     "output_type": "display_data"
    }
   ],
   "source": [
    "default_clients = data[['default', 'age', 'decline_app_cnt', 'income', 'bki_request_cnt']]\n",
    "for i in num_cols:\n",
    "    default_clients[i] = default_clients[i].apply(lambda x: np.log(x + 1))\n",
    "\n",
    "sns.boxplot(x = 'default', y='age', data=default_clients)"
   ]
  },
  {
   "cell_type": "code",
   "execution_count": 14,
   "metadata": {},
   "outputs": [
    {
     "data": {
      "text/plain": [
       "<matplotlib.axes._subplots.AxesSubplot at 0x7fac43712990>"
      ]
     },
     "execution_count": 14,
     "metadata": {},
     "output_type": "execute_result"
    },
    {
     "data": {
      "image/png": "[encoded data removed]",
      "text/plain": [
       "<Figure size 432x288 with 1 Axes>"
      ]
     },
     "metadata": {
      "needs_background": "light"
     },
     "output_type": "display_data"
    }
   ],
   "source": [
    "sns.boxplot(x = 'default', y='decline_app_cnt', data=default_clients)"
   ]
  },
  {
   "cell_type": "code",
   "execution_count": 15,
   "metadata": {},
   "outputs": [
    {
     "data": {
      "text/plain": [
       "<matplotlib.axes._subplots.AxesSubplot at 0x7fac4689b610>"
      ]
     },
     "execution_count": 15,
     "metadata": {},
     "output_type": "execute_result"
    },
    {
     "data": {
      "image/png": "[encoded data removed]",
      "text/plain": [
       "<Figure size 432x288 with 1 Axes>"
      ]
     },
     "metadata": {
      "needs_background": "light"
     },
     "output_type": "display_data"
    }
   ],
   "source": [
    "sns.boxplot(x = 'default', y='income', data=default_clients)"
   ]
  },
  {
   "cell_type": "code",
   "execution_count": 16,
   "metadata": {},
   "outputs": [
    {
     "data": {
      "text/plain": [
       "<matplotlib.axes._subplots.AxesSubplot at 0x7fac45b69510>"
      ]
     },
     "execution_count": 16,
     "metadata": {},
     "output_type": "execute_result"
    },
    {
     "data": {
      "image/png": "[encoded data removed]",
      "text/plain": [
       "<Figure size 432x288 with 1 Axes>"
      ]
     },
     "metadata": {
      "needs_background": "light"
     },
     "output_type": "display_data"
    }
   ],
   "source": [
    "sns.boxplot(x = 'default', y='bki_request_cnt', data=default_clients)"
   ]
  },
  {
   "cell_type": "code",
   "execution_count": 17,
   "metadata": {
    "scrolled": true
   },
   "outputs": [
    {
     "data": {
      "text/plain": [
       "<matplotlib.axes._subplots.AxesSubplot at 0x7fac436830d0>"
      ]
     },
     "execution_count": 17,
     "metadata": {},
     "output_type": "execute_result"
    },
    {
     "data": {
      "image/png": "[encoded data removed]",
      "text/plain": [
       "<Figure size 432x288 with 2 Axes>"
      ]
     },
     "metadata": {
      "needs_background": "light"
     },
     "output_type": "display_data"
    }
   ],
   "source": [
    "sns.heatmap(data[num_cols].corr().abs(), vmin=0, vmax=1)"
   ]
  },
  {
   "cell_type": "code",
   "execution_count": 18,
   "metadata": {},
   "outputs": [
    {
     "data": {
      "text/plain": [
       "<matplotlib.axes._subplots.AxesSubplot at 0x7fac45f44710>"
      ]
     },
     "execution_count": 18,
     "metadata": {},
     "output_type": "execute_result"
    },
    {
     "data": {
      "image/png": "[encoded data removed]",
      "text/plain": [
       "<Figure size 432x288 with 1 Axes>"
      ]
     },
     "metadata": {
      "needs_background": "light"
     },
     "output_type": "display_data"
    }
   ],
   "source": [
    "imp_num = Series(f_classif(data[num_cols], data['default'])[0], index = num_cols)\n",
    "imp_num.sort_values(inplace = True)\n",
    "imp_num.plot(kind = 'barh')"
   ]
  },
  {
   "cell_type": "code",
   "execution_count": 19,
   "metadata": {},
   "outputs": [
    {
     "name": "stdout",
     "output_type": "stream",
     "text": [
      "{0: 'F', 1: 'M'}\n"
     ]
    }
   ],
   "source": [
    "label_encoder = LabelEncoder()\n",
    "\n",
    "mapped_education = pd.Series(label_encoder.fit_transform(data['sex']))\n",
    "print(dict(enumerate(label_encoder.classes_)))"
   ]
  },
  {
   "cell_type": "code",
   "execution_count": 20,
   "metadata": {},
   "outputs": [
    {
     "data": {
      "text/html": [
       "<div>\n",
       "<style scoped>\n",
       "    .dataframe tbody tr th:only-of-type {\n",
       "        vertical-align: middle;\n",
       "    }\n",
       "\n",
       "    .dataframe tbody tr th {\n",
       "        vertical-align: top;\n",
       "    }\n",
       "\n",
       "    .dataframe thead th {\n",
       "        text-align: right;\n",
       "    }\n",
       "</style>\n",
       "<table border=\"1\" class=\"dataframe\">\n",
       "  <thead>\n",
       "    <tr style=\"text-align: right;\">\n",
       "      <th></th>\n",
       "      <th>client_id</th>\n",
       "      <th>education</th>\n",
       "      <th>sex</th>\n",
       "      <th>age</th>\n",
       "      <th>car</th>\n",
       "      <th>car_type</th>\n",
       "      <th>decline_app_cnt</th>\n",
       "      <th>good_work</th>\n",
       "      <th>bki_request_cnt</th>\n",
       "      <th>home_address</th>\n",
       "      <th>work_address</th>\n",
       "      <th>income</th>\n",
       "      <th>foreign_passport</th>\n",
       "      <th>default</th>\n",
       "    </tr>\n",
       "  </thead>\n",
       "  <tbody>\n",
       "    <tr>\n",
       "      <th>0</th>\n",
       "      <td>25905</td>\n",
       "      <td>SCH</td>\n",
       "      <td>1</td>\n",
       "      <td>4.143135</td>\n",
       "      <td>1</td>\n",
       "      <td>1</td>\n",
       "      <td>0.000000</td>\n",
       "      <td>0</td>\n",
       "      <td>0.693147</td>\n",
       "      <td>1</td>\n",
       "      <td>2</td>\n",
       "      <td>9.798183</td>\n",
       "      <td>0</td>\n",
       "      <td>0</td>\n",
       "    </tr>\n",
       "    <tr>\n",
       "      <th>1</th>\n",
       "      <td>63161</td>\n",
       "      <td>SCH</td>\n",
       "      <td>0</td>\n",
       "      <td>4.094345</td>\n",
       "      <td>0</td>\n",
       "      <td>0</td>\n",
       "      <td>0.000000</td>\n",
       "      <td>0</td>\n",
       "      <td>1.386294</td>\n",
       "      <td>2</td>\n",
       "      <td>3</td>\n",
       "      <td>9.852247</td>\n",
       "      <td>0</td>\n",
       "      <td>0</td>\n",
       "    </tr>\n",
       "    <tr>\n",
       "      <th>2</th>\n",
       "      <td>25887</td>\n",
       "      <td>SCH</td>\n",
       "      <td>1</td>\n",
       "      <td>3.258097</td>\n",
       "      <td>1</td>\n",
       "      <td>0</td>\n",
       "      <td>1.098612</td>\n",
       "      <td>0</td>\n",
       "      <td>0.693147</td>\n",
       "      <td>1</td>\n",
       "      <td>2</td>\n",
       "      <td>10.308986</td>\n",
       "      <td>1</td>\n",
       "      <td>0</td>\n",
       "    </tr>\n",
       "    <tr>\n",
       "      <th>3</th>\n",
       "      <td>16222</td>\n",
       "      <td>SCH</td>\n",
       "      <td>0</td>\n",
       "      <td>3.988984</td>\n",
       "      <td>0</td>\n",
       "      <td>0</td>\n",
       "      <td>0.000000</td>\n",
       "      <td>0</td>\n",
       "      <td>1.098612</td>\n",
       "      <td>2</td>\n",
       "      <td>3</td>\n",
       "      <td>9.210440</td>\n",
       "      <td>0</td>\n",
       "      <td>0</td>\n",
       "    </tr>\n",
       "    <tr>\n",
       "      <th>4</th>\n",
       "      <td>101655</td>\n",
       "      <td>GRD</td>\n",
       "      <td>1</td>\n",
       "      <td>3.891820</td>\n",
       "      <td>0</td>\n",
       "      <td>0</td>\n",
       "      <td>0.000000</td>\n",
       "      <td>1</td>\n",
       "      <td>0.693147</td>\n",
       "      <td>2</td>\n",
       "      <td>3</td>\n",
       "      <td>10.308986</td>\n",
       "      <td>1</td>\n",
       "      <td>0</td>\n",
       "    </tr>\n",
       "  </tbody>\n",
       "</table>\n",
       "</div>"
      ],
      "text/plain": [
       "   client_id education  sex       age  car  car_type  decline_app_cnt  \\\n",
       "0      25905       SCH    1  4.143135    1         1         0.000000   \n",
       "1      63161       SCH    0  4.094345    0         0         0.000000   \n",
       "2      25887       SCH    1  3.258097    1         0         1.098612   \n",
       "3      16222       SCH    0  3.988984    0         0         0.000000   \n",
       "4     101655       GRD    1  3.891820    0         0         0.000000   \n",
       "\n",
       "   good_work  bki_request_cnt  home_address  work_address     income  \\\n",
       "0          0         0.693147             1             2   9.798183   \n",
       "1          0         1.386294             2             3   9.852247   \n",
       "2          0         0.693147             1             2  10.308986   \n",
       "3          0         1.098612             2             3   9.210440   \n",
       "4          1         0.693147             2             3  10.308986   \n",
       "\n",
       "   foreign_passport  default  \n",
       "0                 0        0  \n",
       "1                 0        0  \n",
       "2                 1        0  \n",
       "3                 0        0  \n",
       "4                 1        0  "
      ]
     },
     "execution_count": 20,
     "metadata": {},
     "output_type": "execute_result"
    }
   ],
   "source": [
    "label_encoder = LabelEncoder()\n",
    "\n",
    "for column in bin_cols:\n",
    "    data[column] = label_encoder.fit_transform(data[column])\n",
    "    \n",
    "# убедимся в преобразовании    \n",
    "data.head()"
   ]
  },
  {
   "cell_type": "code",
   "execution_count": 21,
   "metadata": {},
   "outputs": [
    {
     "name": "stdout",
     "output_type": "stream",
     "text": [
      "{0: 'ACD', 1: 'GRD', 2: 'PGR', 3: 'SCH', 4: 'UGR'}\n"
     ]
    }
   ],
   "source": [
    "label_encoder_edu = LabelEncoder()\n",
    "data['education'] = label_encoder_edu.fit_transform(data['education'])\n",
    "print(dict(enumerate(label_encoder_edu.classes_)))"
   ]
  },
  {
   "cell_type": "code",
   "execution_count": 22,
   "metadata": {
    "scrolled": true
   },
   "outputs": [
    {
     "data": {
      "text/plain": [
       "<matplotlib.axes._subplots.AxesSubplot at 0x7fac46c98b10>"
      ]
     },
     "execution_count": 22,
     "metadata": {},
     "output_type": "execute_result"
    },
    {
     "data": {
      "image/png": "[encoded data removed]",
      "text/plain": [
       "<Figure size 432x288 with 1 Axes>"
      ]
     },
     "metadata": {
      "needs_background": "light"
     },
     "output_type": "display_data"
    }
   ],
   "source": [
    "imp_cat = Series(mutual_info_classif(data[bin_cols + cat_cols], data['default'],\n",
    "                                     discrete_features =True), index = bin_cols + cat_cols)\n",
    "imp_cat.sort_values(inplace = True)\n",
    "imp_cat.plot(kind = 'barh')"
   ]
  },
  {
   "cell_type": "code",
   "execution_count": 23,
   "metadata": {},
   "outputs": [],
   "source": [
    "X_cat = OneHotEncoder(sparse = False).fit_transform(data[cat_cols].values)"
   ]
  },
  {
   "cell_type": "code",
   "execution_count": 24,
   "metadata": {},
   "outputs": [
    {
     "data": {
      "text/plain": [
       "(73492, 11)"
      ]
     },
     "execution_count": 24,
     "metadata": {},
     "output_type": "execute_result"
    }
   ],
   "source": [
    "X_cat.shape"
   ]
  },
  {
   "cell_type": "code",
   "execution_count": 25,
   "metadata": {},
   "outputs": [],
   "source": [
    "# Стандартизация числовых переменных\n",
    "X_num = StandardScaler().fit_transform(data[num_cols].values)"
   ]
  },
  {
   "cell_type": "code",
   "execution_count": 26,
   "metadata": {},
   "outputs": [],
   "source": [
    "# Объединяем\n",
    "\n",
    "X = np.hstack([X_num, data[bin_cols].values, X_cat])\n",
    "Y = data['default'].values"
   ]
  },
  {
   "cell_type": "code",
   "execution_count": 27,
   "metadata": {},
   "outputs": [],
   "source": [
    "X_train, X_test, y_train, y_test = train_test_split(X, Y, test_size=0.30, random_state=42)"
   ]
  },
  {
   "cell_type": "code",
   "execution_count": 28,
   "metadata": {},
   "outputs": [
    {
     "name": "stderr",
     "output_type": "stream",
     "text": [
      "/Users/natalia/opt/anaconda3/lib/python3.7/site-packages/sklearn/linear_model/_logistic.py:940: ConvergenceWarning: lbfgs failed to converge (status=1):\n",
      "STOP: TOTAL NO. of ITERATIONS REACHED LIMIT.\n",
      "\n",
      "Increase the number of iterations (max_iter) or scale the data as shown in:\n",
      "    https://scikit-learn.org/stable/modules/preprocessing.html\n",
      "Please also refer to the documentation for alternative solver options:\n",
      "    https://scikit-learn.org/stable/modules/linear_model.html#logistic-regression\n",
      "  extra_warning_msg=_LOGISTIC_SOLVER_CONVERGENCE_MSG)\n"
     ]
    }
   ],
   "source": [
    "model = LogisticRegression()\n",
    "model.fit(X_train, y_train)\n",
    "Y_predicted = model.predict(X_test)"
   ]
  },
  {
   "cell_type": "code",
   "execution_count": null,
   "metadata": {},
   "outputs": [],
   "source": []
  },
  {
   "cell_type": "code",
   "execution_count": 41,
   "metadata": {},
   "outputs": [],
   "source": [
    "probs = model.predict_proba(X_test)\n",
    "probs = probs[:,1]"
   ]
  },
  {
   "cell_type": "code",
   "execution_count": 42,
   "metadata": {},
   "outputs": [
    {
     "data": {
      "image/png": "[encoded data removed]",
      "text/plain": [
       "<Figure size 432x288 with 1 Axes>"
      ]
     },
     "metadata": {
      "needs_background": "light"
     },
     "output_type": "display_data"
    }
   ],
   "source": [
    "fpr, tpr, threshold = roc_curve(y_test, probs)\n",
    "roc_auc = roc_auc_score(y_test, probs)\n",
    "\n",
    "plt.figure()\n",
    "plt.plot([0, 1], label='Baseline', linestyle='--')\n",
    "plt.plot(fpr, tpr, label = 'Regression')\n",
    "plt.title('Logistic Regression ROC AUC = %0.3f' % roc_auc)\n",
    "plt.ylabel('True Positive Rate')\n",
    "plt.xlabel('False Positive Rate')\n",
    "plt.legend(loc = 'lower right')\n",
    "plt.show()"
   ]
  },
  {
   "cell_type": "code",
   "execution_count": 36,
   "metadata": {},
   "outputs": [],
   "source": [
    "from sklearn.metrics import accuracy_score, precision_score, recall_score, f1_score"
   ]
  },
  {
   "cell_type": "code",
   "execution_count": 38,
   "metadata": {},
   "outputs": [
    {
     "name": "stdout",
     "output_type": "stream",
     "text": [
      "\tC: 1.0\n",
      "\tclass_weight: 'none'\n",
      "\tdual: False\n",
      "\tfit_intercept: True\n",
      "\tintercept_scaling: 1\n",
      "\tl1_ratio: None\n",
      "\tmax_iter: 50\n",
      "\tmulti_class: 'auto'\n",
      "\tn_jobs: None\n",
      "\tpenalty: 'l2'\n",
      "\trandom_state: 42\n",
      "\tsolver: 'saga'\n",
      "\ttol: 0.001\n",
      "\tverbose: 0\n",
      "\twarm_start: False\n",
      "Accuracy: 0.8722\n",
      "Precision: 0.3333\n",
      "Recall: 0.0005\n",
      "F1: 0.0011\n"
     ]
    },
    {
     "name": "stderr",
     "output_type": "stream",
     "text": [
      "/Users/natalia/opt/anaconda3/lib/python3.7/site-packages/sklearn/linear_model/_sag.py:330: ConvergenceWarning: The max_iter was reached which means the coef_ did not converge\n",
      "  \"the coef_ did not converge\", ConvergenceWarning)\n"
     ]
    }
   ],
   "source": [
    "# запускаем GridSearch на небольшом кол-ве итераций max_iter=50 и с достаточно большой дельтой останова tol 1e-3\n",
    "# чтобы получить оптимальные параметры модели в первом приближении\n",
    "RANDOM_SEED = 42\n",
    "model = LogisticRegression(random_state=RANDOM_SEED)\n",
    "iter_ = 50\n",
    "epsilon_stop = 1e-3\n",
    "param_grid = [\n",
    "                {'penalty': ['l1'], \n",
    "                 'solver': ['liblinear', 'lbfgs'], \n",
    "                 'class_weight':['none', 'balanced'], \n",
    "                 'multi_class': ['auto','ovr'], \n",
    "                 'max_iter':[iter_],\n",
    "                 'tol':[epsilon_stop]},\n",
    "    \n",
    "                {'penalty': ['l2'], \n",
    "                 'solver': ['newton-cg', 'lbfgs', 'liblinear', 'sag', 'saga'], \n",
    "                 'class_weight':['none', 'balanced'], \n",
    "                 'multi_class': ['auto','ovr'], \n",
    "                 'max_iter':[iter_],\n",
    "                 'tol':[epsilon_stop]},\n",
    "    \n",
    "                {'penalty': ['none'], \n",
    "                 'solver': ['newton-cg', 'lbfgs', 'sag', 'saga'], \n",
    "                 'class_weight':['none', 'balanced'], \n",
    "                 'multi_class': ['auto','ovr'], \n",
    "                 'max_iter':[iter_],\n",
    "                 'tol':[epsilon_stop]},\n",
    "            ]\n",
    "\n",
    "gridsearch = GridSearchCV(model, param_grid, scoring='roc_auc', n_jobs=-1, cv=5)\n",
    "gridsearch.fit(X_train, y_train)\n",
    "model = gridsearch.best_estimator_\n",
    "\n",
    "##печатаем параметры\n",
    "best_parameters = model.get_params()\n",
    "for param_name in sorted(best_parameters.keys()):\n",
    "        print('\\t%s: %r' % (param_name, best_parameters[param_name]))\n",
    "\n",
    "##печатаем метрики\n",
    "preds = model.predict(X_test)\n",
    "print('Accuracy: %.4f' % accuracy_score(y_test, preds))\n",
    "print('Precision: %.4f' % precision_score(y_test, preds))\n",
    "print('Recall: %.4f' % recall_score(y_test, preds))\n",
    "print('F1: %.4f' % f1_score(y_test, preds))"
   ]
  },
  {
   "cell_type": "code",
   "execution_count": null,
   "metadata": {},
   "outputs": [],
   "source": []
  }
 ],
 "metadata": {
  "kernelspec": {
   "display_name": "Python 3",
   "language": "python",
   "name": "python3"
  },
  "language_info": {
   "codemirror_mode": {
    "name": "ipython",
    "version": 3
   },
   "file_extension": ".py",
   "mimetype": "text/x-python",
   "name": "python",
   "nbconvert_exporter": "python",
   "pygments_lexer": "ipython3",
   "version": "3.7.6"
  }
 },
 "nbformat": 4,
 "nbformat_minor": 4
}
