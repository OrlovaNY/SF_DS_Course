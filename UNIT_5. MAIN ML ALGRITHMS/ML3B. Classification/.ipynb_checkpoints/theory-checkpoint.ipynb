{
 "cells": [
  {
   "cell_type": "markdown",
   "metadata": {},
   "source": [
    "Если описать это более просто, у нас есть некоторое количество объектов, каждый из которых принадлежит определенной группе (классу). На обучающей выборке нам известны эти соотношения (известно, какой объект какому классу принадлежит). Нам требуется построить алгоритм на обучающей выборке, который сможет в будущем определять классы для новых объектов.\n",
    "\n",
    "Какие задачи можно решать с помощью классификации?\n",
    "На данный момент классификация используется в следующих сферах:\n",
    "\n",
    "Спам-фильтры и прочие фильтры почтовых ящиков: скорее всего, ваш почтовый клиент умеет не только отделять спам, но и сортировать письма от социальных сетей и промоакции).\n",
    "Определение языка: с этим мы сталкиваемся постоянно, когда браузер предлагает нам перевести страницу или когда мы используем онлайн-переводчик, не зная языка оригинала.\n",
    "Анализ тональности: к примеру, алгоритм может распознать, отрицательный или положительный отзыв написал вам клиент.\n",
    "Распознавание рукописных букв и цифр: на данный момент уже существуют программы, переводящие рукописный текст в печатный. Это возможно именно благодаря классификации.\n"
   ]
  },
  {
   "cell_type": "markdown",
   "metadata": {},
   "source": [
    "Задача кредитного скоринга\n",
    "\n",
    "Пример дерева решений для кредитного скоринга. Источник: researchgate.net\n",
    "\n",
    "Пожалуй, самая известная задача, которая решается с помощью алгоритмов классификации. На основе данных предыдущих кредиторов банк решает, выдавать ли кредит клиенту.\n",
    "\n",
    "В такой задаче у нас всего два класса: надежный заемщик или ненадежный.\n",
    "\n",
    "Признаки обычно бывают всех типов:\n",
    "\n",
    "бинарные (пол, наличие квартиры под залог, семейное положение);\n",
    "номинальные (место проживания,профессия);\n",
    "ординальные (образование, должность);\n",
    "количественные (доход, возраст).\n",
    "Задача довольно классическая, редко требует долгой предобработки (в силу того, что для кредита нужно обязательно заполнять все поля, пропусков тоже не допускается).\n",
    "\n",
    "Задача биометрической идентификации личности\n",
    "Для биометрической идентификации личности используют обычно снимок радужки глаза и/или отпечаток пальца.  Это изображения, поэтому к решению задачи требуется достаточно объемная подготовка данных. Кроме того, тут предельно важна максимально возможная точность.\n",
    "\n",
    "Задача категоризации текстовых документов\n",
    "Одна из нетривиальных задач — распределение документов по рубрикам.\n",
    "\n",
    "Здесь встречаются следующие признаки:\n",
    "\n",
    "номинальные (автор, издание, год);\n",
    "количественные (встречаемость слов и специфических терминов).\n",
    "Главная проблема такой задачи в том, что каждый документ может попасть в две рубрики. Кроме того, данные могут иметь большое количество пропусков.\n",
    "\n",
    "Подводя итог, можно сказать, что классификация испоьзуется там, где мы делим объекты на какие-то группы. Количество групп не имеет значения, однако оно должно быть конечным."
   ]
  },
  {
   "cell_type": "markdown",
   "metadata": {},
   "source": [
    "После того, как мы обучили классификатор, необходимо оценить его качество. Для этого у нас есть несколько метрик.\n",
    "\n",
    "Самая простая и понятная метрика — Accuracy. По сути, это просто доля объектов, которые алгоритм отнес к верному классу.\n",
    "\n",
    "Введем следующие обозначения.\n",
    "\n",
    "Тот класс, который мы диагностируем, назовем позитивным, а другой класс — негативным. \n",
    "\n",
    "Например, если мы хотим обучить алгоритм распознавать больных людей, то больные будут попадать в позитивный класс, а здоровые — в негативный.\n",
    "\n",
    "Тогда верно определенных больных мы обозначим за  TP(true positive), ошибочно определенных больных — за FP (false positive), верно определенных здоровых — за  TN(true negative), ошибочно определенных здоровых — за FN (false negative).\n",
    "\n",
    "То есть:\n",
    "\n",
    " TP — истинно-положительные решения;\n",
    " TN — истинно-отрицательные решения;\n",
    " FP — ложно-положительные решения;\n",
    " FN — ложно-отрицательные решения."
   ]
  },
  {
   "cell_type": "markdown",
   "metadata": {},
   "source": [
    "Accuracy = (TP+TN)/(TP+TN+FP+FN) Здесь мы делим количество верно определенных объектов на общее количество объектов.\n",
    "\n",
    "Важно отметить, что у этой метрики есть довольно существенный недостаток. Она присваивает всем объектам одинаковый вес. Поэтому в случае несбалансированности классов она может давать нерелевантный результат.\n",
    "\n",
    "То есть, к примеру, классификатор может иметь Accuracy в районе 0,8 и при этом вообще не распознавать объекты из какого-то класса, если их очень мало. Поэтому обязательно необходимо проверять сбалансированность классов перед применением этой метрики.\n",
    "\n"
   ]
  },
  {
   "cell_type": "markdown",
   "metadata": {},
   "source": [
    "Следующие важные метрики — Precision (точность) и Recall (полнота). Они вычисляются следующим образом:\n",
    "Precision = TP/(TP+FP)\n",
    "Recall = TP/(TP+FN)\n",
    "\n",
    "Суть точности и полноты довольно проста.\n",
    "\n",
    "Точность классификации — это доля объектов, действительно принадлежащих данному классу относительно всех объектов, которые алгоритм отнес к этому классу.\n",
    "\n",
    "Полнота — это доля найденных классификатором объектов, принадлежащих классу относительно всех объектов, которые принадлежат этому классу.\n",
    "\n",
    "Например, мы пытаемся найти больных в группе людей, которые пришли на диспансеризацию. Тогда точность классификации — это доля действительно больных среди всех, кого на диспансеризации определили как больных. А полнота классификации — это доля найденных больных среди всех больных.\n",
    "\n",
    "Конечно, идеальный случай — когда и точность, и полнота классификации достаточно высоки. Однако в реальности часто не получается достигнуть высоких значений для обеих метрик и приходится искать баланс.\n",
    "\n",
    "Чтобы найти оптимальное соотношение этих показателей, существует метрика, которая объединяет в себе сразу и точность, и полноту — F-мера. F-мера является средним гармоническим между точностью и полнотой и вычисляется по следующей формуле: 2*Precision*Recall/(Precision+Recall)\n",
    "\n"
   ]
  },
  {
   "cell_type": "code",
   "execution_count": 2,
   "metadata": {},
   "outputs": [],
   "source": [
    "from sklearn.model_selection import train_test_split # функция, чтобы разбить данные на трейн и тест\n",
    "from sklearn.linear_model import LogisticRegression # наша модель для классификации"
   ]
  },
  {
   "cell_type": "code",
   "execution_count": 3,
   "metadata": {},
   "outputs": [],
   "source": [
    "from sklearn.datasets import load_breast_cancer # подгружаем датасет\n",
    "breast_cancer = load_breast_cancer()"
   ]
  },
  {
   "cell_type": "code",
   "execution_count": 4,
   "metadata": {},
   "outputs": [],
   "source": [
    "Y = breast_cancer.target ## Наша целевая переменная, 0 — если рака нет, 1 — если есть \n",
    "X = breast_cancer.data # X - признаки, по которым мы будем предсказывать рак "
   ]
  },
  {
   "cell_type": "code",
   "execution_count": 5,
   "metadata": {},
   "outputs": [
    {
     "name": "stderr",
     "output_type": "stream",
     "text": [
      "/Users/natalia/opt/anaconda3/lib/python3.7/site-packages/sklearn/linear_model/_logistic.py:940: ConvergenceWarning: lbfgs failed to converge (status=1):\n",
      "STOP: TOTAL NO. of ITERATIONS REACHED LIMIT.\n",
      "\n",
      "Increase the number of iterations (max_iter) or scale the data as shown in:\n",
      "    https://scikit-learn.org/stable/modules/preprocessing.html\n",
      "Please also refer to the documentation for alternative solver options:\n",
      "    https://scikit-learn.org/stable/modules/linear_model.html#logistic-regression\n",
      "  extra_warning_msg=_LOGISTIC_SOLVER_CONVERGENCE_MSG)\n"
     ]
    },
    {
     "data": {
      "text/plain": [
       "LogisticRegression(C=1.0, class_weight=None, dual=False, fit_intercept=True,\n",
       "                   intercept_scaling=1, l1_ratio=None, max_iter=100,\n",
       "                   multi_class='auto', n_jobs=None, penalty='l2',\n",
       "                   random_state=None, solver='lbfgs', tol=0.0001, verbose=0,\n",
       "                   warm_start=False)"
      ]
     },
     "execution_count": 5,
     "metadata": {},
     "output_type": "execute_result"
    }
   ],
   "source": [
    "X_train, X_val, Y_train, Y_val = train_test_split(X, Y, test_size = 0.3)\n",
    "model = LogisticRegression()\n",
    "model.fit(X_train, Y_train)"
   ]
  },
  {
   "cell_type": "code",
   "execution_count": 6,
   "metadata": {},
   "outputs": [],
   "source": [
    "Y_predicted = model.predict(X_val)"
   ]
  },
  {
   "cell_type": "code",
   "execution_count": 7,
   "metadata": {},
   "outputs": [
    {
     "name": "stdout",
     "output_type": "stream",
     "text": [
      "0.9298245614035088\n",
      "0.9433962264150944\n",
      "0.9433962264150944\n",
      "0.9433962264150944\n"
     ]
    }
   ],
   "source": [
    "from sklearn.metrics import accuracy_score, precision_score, recall_score, f1_score\n",
    "\n",
    "print(accuracy_score(Y_val,Y_predicted))\n",
    "print(precision_score(Y_val,Y_predicted))\n",
    "print(recall_score(Y_val,Y_predicted))\n",
    "print(f1_score(Y_val,Y_predicted))"
   ]
  },
  {
   "cell_type": "code",
   "execution_count": 9,
   "metadata": {},
   "outputs": [],
   "source": [
    "from sklearn.datasets import load_iris # подгружаем датасет\n",
    "iris = load_iris()"
   ]
  },
  {
   "cell_type": "code",
   "execution_count": 10,
   "metadata": {},
   "outputs": [],
   "source": [
    "Y = iris.target ## Наша целевая переменная\n",
    "X = iris.data # X - признаки, по которым мы будем предсказывать "
   ]
  },
  {
   "cell_type": "code",
   "execution_count": 12,
   "metadata": {},
   "outputs": [
    {
     "name": "stderr",
     "output_type": "stream",
     "text": [
      "/Users/natalia/opt/anaconda3/lib/python3.7/site-packages/sklearn/linear_model/_logistic.py:940: ConvergenceWarning: lbfgs failed to converge (status=1):\n",
      "STOP: TOTAL NO. of ITERATIONS REACHED LIMIT.\n",
      "\n",
      "Increase the number of iterations (max_iter) or scale the data as shown in:\n",
      "    https://scikit-learn.org/stable/modules/preprocessing.html\n",
      "Please also refer to the documentation for alternative solver options:\n",
      "    https://scikit-learn.org/stable/modules/linear_model.html#logistic-regression\n",
      "  extra_warning_msg=_LOGISTIC_SOLVER_CONVERGENCE_MSG)\n"
     ]
    },
    {
     "data": {
      "text/plain": [
       "LogisticRegression(C=1.0, class_weight=None, dual=False, fit_intercept=True,\n",
       "                   intercept_scaling=1, l1_ratio=None, max_iter=100,\n",
       "                   multi_class='auto', n_jobs=None, penalty='l2',\n",
       "                   random_state=50, solver='lbfgs', tol=0.0001, verbose=0,\n",
       "                   warm_start=False)"
      ]
     },
     "execution_count": 12,
     "metadata": {},
     "output_type": "execute_result"
    }
   ],
   "source": [
    "X_train, X_val, Y_train, Y_val = train_test_split(X, Y, test_size = 0.3, random_state=50)\n",
    "model = LogisticRegression(random_state=50)\n",
    "model.fit(X_train, Y_train)"
   ]
  },
  {
   "cell_type": "code",
   "execution_count": 13,
   "metadata": {},
   "outputs": [],
   "source": [
    "Y_predicted = model.predict(X_val)"
   ]
  },
  {
   "cell_type": "code",
   "execution_count": 14,
   "metadata": {},
   "outputs": [
    {
     "name": "stdout",
     "output_type": "stream",
     "text": [
      "0.9777777777777777\n"
     ]
    }
   ],
   "source": [
    "from sklearn.metrics import accuracy_score\n",
    "\n",
    "print(accuracy_score(Y_val,Y_predicted))"
   ]
  },
  {
   "cell_type": "code",
   "execution_count": null,
   "metadata": {},
   "outputs": [],
   "source": []
  }
 ],
 "metadata": {
  "kernelspec": {
   "display_name": "Python 3",
   "language": "python",
   "name": "python3"
  },
  "language_info": {
   "codemirror_mode": {
    "name": "ipython",
    "version": 3
   },
   "file_extension": ".py",
   "mimetype": "text/x-python",
   "name": "python",
   "nbconvert_exporter": "python",
   "pygments_lexer": "ipython3",
   "version": "3.7.6"
  }
 },
 "nbformat": 4,
 "nbformat_minor": 4
}
