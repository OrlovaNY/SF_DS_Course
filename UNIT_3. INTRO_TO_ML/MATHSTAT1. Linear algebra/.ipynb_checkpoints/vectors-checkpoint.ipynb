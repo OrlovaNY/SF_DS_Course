{
 "cells": [
  {
   "cell_type": "markdown",
   "metadata": {},
   "source": [
    "1. Вектор — это набор чисел, записанных в определённом порядке (в столбик или в строчку). s\n",
    "2. Координаты вектора — это числа, из которых он состоит. \n",
    "3. Размерность вектора — это количество координат.dim(s)"
   ]
  },
  {
   "cell_type": "code",
   "execution_count": 22,
   "metadata": {},
   "outputs": [
    {
     "name": "stdout",
     "output_type": "stream",
     "text": [
      "Третья координата 50\n",
      "Размерность вектора 4\n"
     ]
    }
   ],
   "source": [
    "import numpy as np\n",
    "import pandas as pd\n",
    "s = np.array([33,65,50,45]) # вектор - одномерный массив \n",
    "print('Третья координата', s[2])\n",
    "print('Размерность вектора', len(s))"
   ]
  },
  {
   "cell_type": "code",
   "execution_count": 3,
   "metadata": {},
   "outputs": [],
   "source": [
    "apartment = np.array([59.50, 31.40, 19, 2, 60550, 2])"
   ]
  },
  {
   "cell_type": "markdown",
   "metadata": {},
   "source": [
    "Эта последовательность чисел и называется вектором. Вектор характеризует конкретный объект — конкретную квартиру. А число в той или иной позиции вектора описывает конкретный признак объекта. То есть вектор — это, по сути, одномерный массив: "
   ]
  },
  {
   "cell_type": "code",
   "execution_count": 4,
   "metadata": {},
   "outputs": [
    {
     "name": "stdout",
     "output_type": "stream",
     "text": [
      "ndim: 1\n",
      "shape: (6,)\n"
     ]
    }
   ],
   "source": [
    "# В NumPy вектор и массив - одно и то же. \n",
    "# Исключение - понятие вектор-столбец и вектор-строка - фактически двумерные массивы, \n",
    "# где один из атрибутов shape равен 1.\n",
    "\n",
    "print(\"ndim:\", apartment.ndim) # число осей (измерений) массива - ndim: 1\n",
    "print(\"shape:\", apartment.shape) # размеры массива, для вектора определена только длина - shape: (6, )"
   ]
  },
  {
   "cell_type": "code",
   "execution_count": 5,
   "metadata": {},
   "outputs": [],
   "source": [
    "# сгенерируем новый признак — отношение жилой площади к общей\n",
    "share_living_space = apartment[1]/apartment[0] # вычислим долю жилой площади в квартире\n",
    "apartment = np.delete(apartment, [0, 1]) # избавимся от старых признаков\n",
    "apartment = np.append(apartment, share_living_space) # добавим в конец нашего массива новый признак share_living_space"
   ]
  },
  {
   "cell_type": "code",
   "execution_count": 7,
   "metadata": {},
   "outputs": [
    {
     "name": "stdout",
     "output_type": "stream",
     "text": [
      "0.53\n",
      "(5,)\n"
     ]
    }
   ],
   "source": [
    "print(round(share_living_space,2))\n",
    "print(apartment.shape)"
   ]
  },
  {
   "cell_type": "markdown",
   "metadata": {},
   "source": [
    "Сложение векторов происходит поэлементно, первая координата складывается с первой, вторая со второй и так далее. Вычитаются векторы так же поэлементно. Сложение и вычитание векторов в Python происходит при помощи знаков + и -. Причём важно задать векторы именно как массивы NumPy, а не как обычные списки типа list."
   ]
  },
  {
   "cell_type": "code",
   "execution_count": 8,
   "metadata": {},
   "outputs": [
    {
     "name": "stdout",
     "output_type": "stream",
     "text": [
      "[15 23 14  8]\n",
      "[ 5 -7 -4 -6]\n"
     ]
    }
   ],
   "source": [
    "a = np.array([10,8,5,1])\n",
    "b = np.array([5,15,9,7])\n",
    "print(a+b)\n",
    "print(a-b)"
   ]
  },
  {
   "cell_type": "markdown",
   "metadata": {},
   "source": [
    "Умножение вектора на число также происходит поэлементно, то есть каждая координата вектора умножается на заданное число.Если коэффициент пропорциональности положительный, векторы сонаправлены, если отрицательный — противоположно направлены. Геометрически это значит, что векторы лежат на одной прямой (или параллельных прямых) и направлены в одну или противоположные стороны. В Python число умножается на массив numpy обычным оператором умножения."
   ]
  },
  {
   "cell_type": "code",
   "execution_count": 9,
   "metadata": {},
   "outputs": [
    {
     "name": "stdout",
     "output_type": "stream",
     "text": [
      "[24.   9.  13.6]\n"
     ]
    }
   ],
   "source": [
    "a = np.array([120, 45, 68])\n",
    "omega = 0.2\n",
    "print(omega*a)"
   ]
  },
  {
   "cell_type": "code",
   "execution_count": 10,
   "metadata": {},
   "outputs": [
    {
     "name": "stdout",
     "output_type": "stream",
     "text": [
      "[144. 216. 180.]\n",
      "[394. 496. 400.]\n"
     ]
    }
   ],
   "source": [
    "a = np.array([120,150,90])\n",
    "b = np.array([130,130,130])\n",
    "c = np.array([2,3,2.5])\n",
    "d = 72\n",
    "e = c*d\n",
    "f = a+b+e\n",
    "print(e)\n",
    "print(f)"
   ]
  },
  {
   "cell_type": "markdown",
   "metadata": {},
   "source": [
    "Линейная комбинация — это объединение двух предыдущих операций в одну: каждый вектор умножается на соответствующий ему коэффициент, все умноженные векторы складываются. Линейная комбинация — это сумма векторов, умноженных на некоторые числа. В Python линейная комбинация полностью соответствует своему названию и вычисляется как комбинация сложения векторов и умножения  вектора на число. "
   ]
  },
  {
   "cell_type": "code",
   "execution_count": 11,
   "metadata": {},
   "outputs": [
    {
     "data": {
      "text/plain": [
       "array([1800, 3000, 2700])"
      ]
     },
     "execution_count": 11,
     "metadata": {},
     "output_type": "execute_result"
    }
   ],
   "source": [
    "p = np.array([2,4,5])\n",
    "v = np.array([8,10,2])\n",
    "s = np.array([0,12,7])\n",
    "500*p+100*v+0*s"
   ]
  },
  {
   "cell_type": "markdown",
   "metadata": {},
   "source": [
    "Из заданного набора векторов можно получить нулевую линейную комбинацию, умножив каждый вектор на ноль. Такие комбинации называются тривиальными. Линейная комбинация называется тривиальной, если все коэффициенты равны нулю.Линейная комбинация называется нетривиальной, если хотя бы один из коэффициентов не равен нулю."
   ]
  },
  {
   "cell_type": "markdown",
   "metadata": {},
   "source": [
    "Векторы называются линейно зависимыми, если существует нулевая нетривиальная комбинация этих векторов. При этом один из линейно зависимых векторов, но не обязательно любой, можно выразить через другие, то есть представить как их линейную комбинацию."
   ]
  },
  {
   "cell_type": "markdown",
   "metadata": {},
   "source": [
    "Векторы называются линейно независимыми, если не существует нулевой нетривиальной комбинации этих векторов.При этом ни один вектор не выражается через другие векторы."
   ]
  },
  {
   "cell_type": "code",
   "execution_count": 12,
   "metadata": {},
   "outputs": [
    {
     "data": {
      "text/plain": [
       "array([7, 7])"
      ]
     },
     "execution_count": 12,
     "metadata": {},
     "output_type": "execute_result"
    }
   ],
   "source": [
    "x = np.array([4,5])\n",
    "y = np.array([2,1])\n",
    "u = np.array([1,0])\n",
    "2*x+(-3)*y+5*u"
   ]
  },
  {
   "cell_type": "code",
   "execution_count": 13,
   "metadata": {},
   "outputs": [
    {
     "data": {
      "text/plain": [
       "array([-200, 1200,  200,  600])"
      ]
     },
     "execution_count": 13,
     "metadata": {},
     "output_type": "execute_result"
    }
   ],
   "source": [
    "s = np.array([3,4,5,9])\n",
    "p = np.array([1,5,3,6])\n",
    "a = 200\n",
    "b = 400\n",
    "\n",
    "p*b - a*s"
   ]
  },
  {
   "cell_type": "markdown",
   "metadata": {},
   "source": [
    "Всего есть четыре основных способа умножить векторы:\n",
    "\n",
    "1. Скалярное произведение. Результат — число. \n",
    "2. Векторное произведение. Результат — вектор.\n",
    "3. Смешанное произведение. Результат — число. \n",
    "4. Тензорное произведение. Результат — матрица."
   ]
  },
  {
   "cell_type": "markdown",
   "metadata": {},
   "source": [
    "Чтобы найти скалярное произведение двух векторов, необходимо перемножить их координаты с одинаковыми номерами и сложить то, что получится. (a,b) В Python скалярное произведение векторов вычисляется при помощи команды np.dot или оператора @."
   ]
  },
  {
   "cell_type": "code",
   "execution_count": 17,
   "metadata": {},
   "outputs": [
    {
     "data": {
      "text/plain": [
       "102.0"
      ]
     },
     "execution_count": 17,
     "metadata": {},
     "output_type": "execute_result"
    }
   ],
   "source": [
    "a = np.array([65,70,120,30])\n",
    "w = np.array([0.4,0.4,0.2,0.8])\n",
    "np.dot(a,w)"
   ]
  },
  {
   "cell_type": "code",
   "execution_count": 18,
   "metadata": {},
   "outputs": [
    {
     "data": {
      "text/plain": [
       "102.0"
      ]
     },
     "execution_count": 18,
     "metadata": {},
     "output_type": "execute_result"
    }
   ],
   "source": [
    "s = a@w\n",
    "s"
   ]
  },
  {
   "cell_type": "markdown",
   "metadata": {},
   "source": [
    "Длина вектора вычисляется как квадратный корень из скалярного произведения вектора с самим собой. Для нас это это просто корень из суммы квадратов координат, как в теореме Пифагора — для случая с размерностью вектора равной двум (геометрически это длина отрезка). Длина вектора всегда неотрицательна и показывает, как близок вектор к нулевому."
   ]
  },
  {
   "cell_type": "code",
   "execution_count": 19,
   "metadata": {},
   "outputs": [
    {
     "data": {
      "text/plain": [
       "156.28499608087785"
      ]
     },
     "execution_count": 19,
     "metadata": {},
     "output_type": "execute_result"
    }
   ],
   "source": [
    "l = np.linalg.norm(a)\n",
    "l"
   ]
  },
  {
   "cell_type": "markdown",
   "metadata": {},
   "source": [
    "Нормирование вектора — это получение вектора с тем же направлением, что и исходный, но нормой 1. Нормировка - вектор имеющий то же направление, но длина его = 1. Надо поделить вектор на его длину. Норма вектора (знаменатель) вычисляется как корень из суммы квадратов его компонент. Её физический смысл: норма показывает, насколько вектор «большой». Длина вектора (в физическом смысле) — это то же, что и норма, применимо к векторам в реальном пространстве."
   ]
  },
  {
   "cell_type": "code",
   "execution_count": 20,
   "metadata": {},
   "outputs": [
    {
     "data": {
      "text/plain": [
       "array([0.41590685, 0.44789968, 0.76782803, 0.19195701])"
      ]
     },
     "execution_count": 20,
     "metadata": {},
     "output_type": "execute_result"
    }
   ],
   "source": [
    "a/np.linalg.norm(a)"
   ]
  },
  {
   "cell_type": "markdown",
   "metadata": {},
   "source": [
    "Векторы  и  называются ортогональными, если их скалярное произведение равно нулю."
   ]
  },
  {
   "cell_type": "code",
   "execution_count": 15,
   "metadata": {},
   "outputs": [
    {
     "data": {
      "text/plain": [
       "7"
      ]
     },
     "execution_count": 15,
     "metadata": {},
     "output_type": "execute_result"
    }
   ],
   "source": [
    "a = np.array([4,5,-1])\n",
    "w = np.array([2,0,1])\n",
    "np.dot(a,w)"
   ]
  },
  {
   "cell_type": "code",
   "execution_count": 23,
   "metadata": {},
   "outputs": [],
   "source": [
    "Hut_Paradise_DF = pd.DataFrame({'1.Rent' :[65, 70, 120, 35, 40, 50, 100, 90, 85], \n",
    "                                '2.Area' :[50, 52, 80, 33, 33, 44, 80, 65, 65], \n",
    "                                '3.Rooms':[3, 2, 1, 1, 1, 2, 4, 3, 2],\n",
    "                                '4.Floor':[5, 12, 10, 3, 6, 13, 8, 21, 5], \n",
    "                                '5.Demo two weeks':[8, 4, 5, 10, 20, 12, 5, 1, 10], \n",
    "                                '6.Liv.Area': [37, 40, 65, 20, 16, 35, 60, 50, 40]})"
   ]
  },
  {
   "cell_type": "code",
   "execution_count": 25,
   "metadata": {},
   "outputs": [],
   "source": [
    "Hut_Paradise_Arr = Hut_Paradise_DF.values"
   ]
  },
  {
   "cell_type": "code",
   "execution_count": 27,
   "metadata": {},
   "outputs": [
    {
     "data": {
      "text/plain": [
       "array([40, 33,  1,  6, 20, 16])"
      ]
     },
     "execution_count": 27,
     "metadata": {},
     "output_type": "execute_result"
    }
   ],
   "source": [
    "Hut_Paradise_Arr[4]"
   ]
  },
  {
   "cell_type": "code",
   "execution_count": 28,
   "metadata": {},
   "outputs": [
    {
     "data": {
      "text/plain": [
       "array([ 5, 12, 10,  3,  6, 13,  8, 21,  5])"
      ]
     },
     "execution_count": 28,
     "metadata": {},
     "output_type": "execute_result"
    }
   ],
   "source": [
    "Hut_Paradise_Arr[:,3]"
   ]
  },
  {
   "cell_type": "code",
   "execution_count": 30,
   "metadata": {},
   "outputs": [
    {
     "data": {
      "text/plain": [
       "10"
      ]
     },
     "execution_count": 30,
     "metadata": {},
     "output_type": "execute_result"
    }
   ],
   "source": [
    "Hut_Paradise_Arr[2,3] # на каком этаже расположена квартира номер 3 (индекс 2)"
   ]
  },
  {
   "cell_type": "code",
   "execution_count": 32,
   "metadata": {},
   "outputs": [
    {
     "data": {
      "text/plain": [
       "9"
      ]
     },
     "execution_count": 32,
     "metadata": {},
     "output_type": "execute_result"
    }
   ],
   "source": [
    "Hut_Paradise_Arr.shape[0]"
   ]
  },
  {
   "cell_type": "code",
   "execution_count": 37,
   "metadata": {
    "scrolled": true
   },
   "outputs": [
    {
     "data": {
      "text/plain": [
       "array([13, 12, 15, 13, 17,  9, 20, 15, 25])"
      ]
     },
     "execution_count": 37,
     "metadata": {},
     "output_type": "execute_result"
    }
   ],
   "source": [
    "all_area = Hut_Paradise_Arr[:,1] \n",
    "liv_area = Hut_Paradise_Arr[:,5]\n",
    "not_liv_area = all_area - liv_area # вектор нежилой площади\n",
    "not_liv_area"
   ]
  },
  {
   "cell_type": "code",
   "execution_count": 39,
   "metadata": {},
   "outputs": [
    {
     "data": {
      "text/plain": [
       "array([26., 28., 48., 14., 16., 20., 40., 36., 34.])"
      ]
     },
     "execution_count": 39,
     "metadata": {},
     "output_type": "execute_result"
    }
   ],
   "source": [
    "Hut_Paradise_Arr[:,0]*0.4"
   ]
  },
  {
   "cell_type": "code",
   "execution_count": 40,
   "metadata": {},
   "outputs": [],
   "source": [
    "demo_lenght = np.array([10, 20, 30, 15, 5, 40, 20, 8, 20])\n",
    "\n",
    "np.dot(demo_lenght, Hut_Paradise_Arr[:,4])"
   ]
  },
  {
   "cell_type": "code",
   "execution_count": 42,
   "metadata": {},
   "outputs": [],
   "source": [
    "u=np.array([3,0,1,1,1])\n",
    "v=np.array([0,1,0,2,-2])\n",
    "w=np.array([1,-4,-1,0,-2])"
   ]
  },
  {
   "cell_type": "code",
   "execution_count": 43,
   "metadata": {},
   "outputs": [
    {
     "data": {
      "text/plain": [
       "array([-3, 14,  3,  4,  2])"
      ]
     },
     "execution_count": 43,
     "metadata": {},
     "output_type": "execute_result"
    }
   ],
   "source": [
    "2*v+(-3)*w"
   ]
  },
  {
   "cell_type": "code",
   "execution_count": 44,
   "metadata": {},
   "outputs": [
    {
     "data": {
      "text/plain": [
       "array([0.8660254 , 0.        , 0.28867513, 0.28867513, 0.28867513])"
      ]
     },
     "execution_count": 44,
     "metadata": {},
     "output_type": "execute_result"
    }
   ],
   "source": [
    "u/np.linalg.norm(u)"
   ]
  },
  {
   "cell_type": "code",
   "execution_count": 45,
   "metadata": {},
   "outputs": [
    {
     "data": {
      "text/plain": [
       "array([ 0.        ,  0.33333333,  0.        ,  0.66666667, -0.66666667])"
      ]
     },
     "execution_count": 45,
     "metadata": {},
     "output_type": "execute_result"
    }
   ],
   "source": [
    "v/np.linalg.norm(v)"
   ]
  },
  {
   "cell_type": "code",
   "execution_count": 46,
   "metadata": {},
   "outputs": [
    {
     "data": {
      "text/plain": [
       "array([ 0.21320072, -0.85280287, -0.21320072,  0.        , -0.42640143])"
      ]
     },
     "execution_count": 46,
     "metadata": {},
     "output_type": "execute_result"
    }
   ],
   "source": [
    "w/np.linalg.norm(w)"
   ]
  },
  {
   "cell_type": "code",
   "execution_count": null,
   "metadata": {},
   "outputs": [],
   "source": []
  }
 ],
 "metadata": {
  "kernelspec": {
   "display_name": "Python 3",
   "language": "python",
   "name": "python3"
  },
  "language_info": {
   "codemirror_mode": {
    "name": "ipython",
    "version": 3
   },
   "file_extension": ".py",
   "mimetype": "text/x-python",
   "name": "python",
   "nbconvert_exporter": "python",
   "pygments_lexer": "ipython3",
   "version": "3.7.6"
  }
 },
 "nbformat": 4,
 "nbformat_minor": 4
}
