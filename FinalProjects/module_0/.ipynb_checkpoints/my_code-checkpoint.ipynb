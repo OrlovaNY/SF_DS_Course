{
 "cells": [
  {
   "cell_type": "markdown",
   "metadata": {},
   "source": [
    "### Простой вариант для отладки"
   ]
  },
  {
   "cell_type": "code",
   "execution_count": 45,
   "metadata": {},
   "outputs": [
    {
     "name": "stdout",
     "output_type": "stream",
     "text": [
      "Загадано число от 1 до 100: 92\n",
      "Попытка 1: число 50\n",
      "Попытка 2: число 75\n",
      "Попытка 3: число 87\n",
      "Попытка 4: число 93\n",
      "Попытка 5: число 90\n",
      "Попытка 6: число 91\n",
      "Попытка 7: число 92\n",
      "Вы угадали за 7 попыток! Загаданное число:  92\n"
     ]
    },
    {
     "data": {
      "text/plain": [
       "7"
      ]
     },
     "execution_count": 45,
     "metadata": {},
     "output_type": "execute_result"
    }
   ],
   "source": [
    "import numpy as np\n",
    "\n",
    "def game_core(number, left, right):\n",
    "    '''Сначала устанавливаем число как середину начального заданного интервала. \n",
    "       Затем проверяем, больше или меньше оно, чем загаданное число.\n",
    "       В зависимости от этого переобозначаем границы интервала и снова вычисляем середину.\n",
    "       Функция принимает загаданное число и границы интервала и возвращает число попыток.'''\n",
    "    \n",
    "    # Первая попытка угадать число - находим середину начального интервала\n",
    "    predict = int(left + ((right - left)/2))\n",
    "    count = 1 \n",
    "    print(\"Попытка \" + str(count) + \": число \" + str(predict))\n",
    "    \n",
    "    # Дальнейшие попытки задаем в цикле\n",
    "    while (number != predict) and (right - left > 1):\n",
    "        count += 1 # счетчик попыток\n",
    "        if number > predict:\n",
    "            # переобозначаем границы интервала\n",
    "            left = predict\n",
    "            right = right\n",
    "            predict =  int(left + ((right - left)/2)) # снова находим середину\n",
    "        elif number < predict:\n",
    "            # переобозначаем границы интервала\n",
    "            right = predict\n",
    "            left = left\n",
    "            predict =  int(left + ((right - left)/2))# снова находим середину\n",
    "        print(\"Попытка \" + str(count) + \": число \" + str(predict))\n",
    "    else: \n",
    "        if (number != predict) and (right - left < 2): # обработка краевого значения\n",
    "            if number == left:\n",
    "                predict = left\n",
    "            else:\n",
    "                predict = right\n",
    "            \n",
    "    print(\"Вы угадали за\", count, \"попыток! Загаданное число: \", predict)\n",
    "    \n",
    "    return(count)\n",
    "\n",
    "\n",
    "\n",
    "# Задаются начальные условия игры\n",
    "left = 1\n",
    "right = 100\n",
    "\n",
    "# Загадывается рандомное число\n",
    "number = np.random.randint(left, right+1) \n",
    "print(\"Загадано число от \" + str(left) + \" до \" + str(right) + \": \" + str(number))# выводим для проверки при отладке\n",
    "\n",
    "game_core(number, left, right)"
   ]
  },
  {
   "cell_type": "markdown",
   "metadata": {},
   "source": [
    "### Финальный вариант с подсчетом среднего количества попыток"
   ]
  },
  {
   "cell_type": "code",
   "execution_count": 46,
   "metadata": {},
   "outputs": [
    {
     "name": "stdout",
     "output_type": "stream",
     "text": [
      "Загадано число от 1 до 100\n",
      "Ваш алгоритм угадывает число в среднем за 5 попыток\n"
     ]
    },
    {
     "data": {
      "text/plain": [
       "5"
      ]
     },
     "execution_count": 46,
     "metadata": {},
     "output_type": "execute_result"
    }
   ],
   "source": [
    "import numpy as np\n",
    "\n",
    "def game_core(number, left, right):\n",
    "    '''Сначала устанавливаем число как середину начального заданного интервала. \n",
    "       Затем проверяем, больше или меньше оно, чем загаданное число.\n",
    "       В зависимости от этого переобозначаем границы интервала и снова вычисляем середину.\n",
    "       Функция принимает загаданное число(number) и границы интервала(left|right) и возвращает число попыток.'''\n",
    "    \n",
    "    # Первая попытка угадать число - находим середину начального интервала\n",
    "    predict = int(left + ((right - left)/2))\n",
    "    count = 1 \n",
    "    \n",
    "    # Дальнейшие попытки задаем в цикле\n",
    "    while (number != predict) and (right - left > 1):\n",
    "        count += 1 # счетчик попыток\n",
    "        if number > predict:\n",
    "            # переобозначаем границы интервала\n",
    "            left = predict\n",
    "            right = right\n",
    "            predict =  int(left + ((right - left)/2)) # снова находим середину\n",
    "        elif number < predict:\n",
    "            # переобозначаем границы интервала\n",
    "            right = predict\n",
    "            left = left\n",
    "            predict =  int(left + ((right - left)/2))# снова находим середину\n",
    "    else: \n",
    "        if (number != predict) and (right - left < 2): # обработка краевого значения\n",
    "            if number == left:\n",
    "                predict = left\n",
    "            else:\n",
    "                predict = right\n",
    "            \n",
    "    return(count)\n",
    "\n",
    "def score_game(game_core, left, right, cnt):\n",
    "    '''Запускаем игру много раз, чтобы узнать, как быстро игра в среднем угадывает число.\n",
    "       Функция принимает границы интервала(left|right) и количество чисел, которые надо загадать(cnt), \n",
    "       а возвращает среднее число попыток.'''\n",
    "    \n",
    "    count_ls = [] #  список для сохранения числа попыток\n",
    "    np.random.seed(1)  # фиксируем random.seed, чтобы эксперимент был воспроизводим\n",
    "    \n",
    "    # Загадывается список рандомных чисел\n",
    "    random_array = np.random.randint(left, right+1, size=(cnt))\n",
    "    print(\"Загадано число от\", left, \"до\", right)\n",
    "    \n",
    "    # Запускаем игру для каждого загаданного числа\n",
    "    for number in random_array:\n",
    "        count_ls.append(game_core(number, left, right))\n",
    "    \n",
    "    # Считаем среднее количество попыток\n",
    "    score = int(np.mean(count_ls))\n",
    "    print(f\"Ваш алгоритм угадывает число в среднем за {score} попыток\")\n",
    "    \n",
    "    return(score)\n",
    "\n",
    "score_game(game_core, 1, 100, 1000)"
   ]
  }
 ],
 "metadata": {
  "kernelspec": {
   "display_name": "Python 3",
   "language": "python",
   "name": "python3"
  },
  "language_info": {
   "codemirror_mode": {
    "name": "ipython",
    "version": 3
   },
   "file_extension": ".py",
   "mimetype": "text/x-python",
   "name": "python",
   "nbconvert_exporter": "python",
   "pygments_lexer": "ipython3",
   "version": "3.7.6"
  }
 },
 "nbformat": 4,
 "nbformat_minor": 4
}
